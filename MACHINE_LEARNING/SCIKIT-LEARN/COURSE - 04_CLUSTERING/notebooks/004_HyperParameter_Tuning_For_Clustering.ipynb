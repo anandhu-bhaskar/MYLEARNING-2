{
 "cells": [
  {
   "cell_type": "markdown",
   "metadata": {},
   "source": [
    "# HYPERPARAMETER TUNING FOR CLUSTERING "
   ]
  },
  {
   "cell_type": "markdown",
   "metadata": {},
   "source": [
    "different clustering models have different hyperparameters which are part of the model design. Which is the right value for you to use? Well, it depends on your dataset and this is where we'll use hyperparameter tuning to find the best hyperparameters for your data."
   ]
  },
  {
   "cell_type": "markdown",
   "metadata": {},
   "source": [
    "For hyperparameter tuning, we'll work with a slightly different dataset. This is the driver_details.csv and this dataset contains two essential features for 4000 different drivers in a logistics company. For every driver in this dataset, there is a unique Driver_ID, and for each driver, we have a Distance_Feature and a Speeding_Feature. How far does that driver drive and how fast does he go? These are numbers used to score drivers. They're not actual distance or speed values. \n",
    "\n",
    " You can see the mean and standard deviation for the distance feature and the speeding feature are very different. For the purposes of clustering, we don't really need the information in the Driver_ID column so I'm going to go ahead and drop that column from my features. Now we know nothing about this data, we haven't explored it, we haven't visualized it. Let's perform hyperparameter tuning to see what is the right number of clusters for this data."
   ]
  },
  {
   "cell_type": "code",
   "execution_count": 1,
   "metadata": {},
   "outputs": [],
   "source": [
    "import pandas as pd\n",
    "import matplotlib.pyplot as plt\n",
    "import numpy as np"
   ]
  },
  {
   "cell_type": "code",
   "execution_count": 2,
   "metadata": {},
   "outputs": [],
   "source": [
    "from sklearn import metrics\n",
    "from sklearn.metrics import silhouette_score\n",
    "\n",
    "from sklearn.model_selection import ParameterGrid\n",
    "\n",
    "from sklearn.cluster import KMeans\n",
    "from sklearn.cluster import DBSCAN\n",
    "from sklearn.cluster import MeanShift"
   ]
  },
  {
   "cell_type": "code",
   "execution_count": 3,
   "metadata": {},
   "outputs": [
    {
     "data": {
      "text/html": [
       "<div>\n",
       "<style scoped>\n",
       "    .dataframe tbody tr th:only-of-type {\n",
       "        vertical-align: middle;\n",
       "    }\n",
       "\n",
       "    .dataframe tbody tr th {\n",
       "        vertical-align: top;\n",
       "    }\n",
       "\n",
       "    .dataframe thead th {\n",
       "        text-align: right;\n",
       "    }\n",
       "</style>\n",
       "<table border=\"1\" class=\"dataframe\">\n",
       "  <thead>\n",
       "    <tr style=\"text-align: right;\">\n",
       "      <th></th>\n",
       "      <th>Driver_ID</th>\n",
       "      <th>Distance_Feature</th>\n",
       "      <th>Speeding_Feature</th>\n",
       "    </tr>\n",
       "  </thead>\n",
       "  <tbody>\n",
       "    <tr>\n",
       "      <td>0</td>\n",
       "      <td>3423311935</td>\n",
       "      <td>71.24</td>\n",
       "      <td>28</td>\n",
       "    </tr>\n",
       "    <tr>\n",
       "      <td>1</td>\n",
       "      <td>3423313212</td>\n",
       "      <td>52.53</td>\n",
       "      <td>25</td>\n",
       "    </tr>\n",
       "    <tr>\n",
       "      <td>2</td>\n",
       "      <td>3423313724</td>\n",
       "      <td>64.54</td>\n",
       "      <td>27</td>\n",
       "    </tr>\n",
       "    <tr>\n",
       "      <td>3</td>\n",
       "      <td>3423311373</td>\n",
       "      <td>55.69</td>\n",
       "      <td>22</td>\n",
       "    </tr>\n",
       "    <tr>\n",
       "      <td>4</td>\n",
       "      <td>3423310999</td>\n",
       "      <td>54.58</td>\n",
       "      <td>25</td>\n",
       "    </tr>\n",
       "  </tbody>\n",
       "</table>\n",
       "</div>"
      ],
      "text/plain": [
       "    Driver_ID  Distance_Feature  Speeding_Feature\n",
       "0  3423311935             71.24                28\n",
       "1  3423313212             52.53                25\n",
       "2  3423313724             64.54                27\n",
       "3  3423311373             55.69                22\n",
       "4  3423310999             54.58                25"
      ]
     },
     "execution_count": 3,
     "metadata": {},
     "output_type": "execute_result"
    }
   ],
   "source": [
    "drivers_df = pd.read_csv('../datasets/driver_details.csv')\n",
    "\n",
    "drivers_df.head()"
   ]
  },
  {
   "cell_type": "code",
   "execution_count": 4,
   "metadata": {},
   "outputs": [
    {
     "data": {
      "text/plain": [
       "(4000, 3)"
      ]
     },
     "execution_count": 4,
     "metadata": {},
     "output_type": "execute_result"
    }
   ],
   "source": [
    "drivers_df.shape"
   ]
  },
  {
   "cell_type": "code",
   "execution_count": 5,
   "metadata": {},
   "outputs": [
    {
     "data": {
      "text/html": [
       "<div>\n",
       "<style scoped>\n",
       "    .dataframe tbody tr th:only-of-type {\n",
       "        vertical-align: middle;\n",
       "    }\n",
       "\n",
       "    .dataframe tbody tr th {\n",
       "        vertical-align: top;\n",
       "    }\n",
       "\n",
       "    .dataframe thead th {\n",
       "        text-align: right;\n",
       "    }\n",
       "</style>\n",
       "<table border=\"1\" class=\"dataframe\">\n",
       "  <thead>\n",
       "    <tr style=\"text-align: right;\">\n",
       "      <th></th>\n",
       "      <th>Driver_ID</th>\n",
       "      <th>Distance_Feature</th>\n",
       "      <th>Speeding_Feature</th>\n",
       "    </tr>\n",
       "  </thead>\n",
       "  <tbody>\n",
       "  </tbody>\n",
       "</table>\n",
       "</div>"
      ],
      "text/plain": [
       "Empty DataFrame\n",
       "Columns: [Driver_ID, Distance_Feature, Speeding_Feature]\n",
       "Index: []"
      ]
     },
     "execution_count": 5,
     "metadata": {},
     "output_type": "execute_result"
    }
   ],
   "source": [
    "drivers_df[drivers_df.isnull().any(axis=1)]"
   ]
  },
  {
   "cell_type": "code",
   "execution_count": 6,
   "metadata": {},
   "outputs": [
    {
     "data": {
      "text/html": [
       "<div>\n",
       "<style scoped>\n",
       "    .dataframe tbody tr th:only-of-type {\n",
       "        vertical-align: middle;\n",
       "    }\n",
       "\n",
       "    .dataframe tbody tr th {\n",
       "        vertical-align: top;\n",
       "    }\n",
       "\n",
       "    .dataframe thead th {\n",
       "        text-align: right;\n",
       "    }\n",
       "</style>\n",
       "<table border=\"1\" class=\"dataframe\">\n",
       "  <thead>\n",
       "    <tr style=\"text-align: right;\">\n",
       "      <th></th>\n",
       "      <th>Driver_ID</th>\n",
       "      <th>Distance_Feature</th>\n",
       "      <th>Speeding_Feature</th>\n",
       "    </tr>\n",
       "  </thead>\n",
       "  <tbody>\n",
       "    <tr>\n",
       "      <td>count</td>\n",
       "      <td>4.000000e+03</td>\n",
       "      <td>4000.000000</td>\n",
       "      <td>4000.000000</td>\n",
       "    </tr>\n",
       "    <tr>\n",
       "      <td>mean</td>\n",
       "      <td>3.423312e+09</td>\n",
       "      <td>76.041523</td>\n",
       "      <td>10.721000</td>\n",
       "    </tr>\n",
       "    <tr>\n",
       "      <td>std</td>\n",
       "      <td>1.154845e+03</td>\n",
       "      <td>53.469563</td>\n",
       "      <td>13.708543</td>\n",
       "    </tr>\n",
       "    <tr>\n",
       "      <td>min</td>\n",
       "      <td>3.423310e+09</td>\n",
       "      <td>15.520000</td>\n",
       "      <td>0.000000</td>\n",
       "    </tr>\n",
       "    <tr>\n",
       "      <td>25%</td>\n",
       "      <td>3.423311e+09</td>\n",
       "      <td>45.247500</td>\n",
       "      <td>4.000000</td>\n",
       "    </tr>\n",
       "    <tr>\n",
       "      <td>50%</td>\n",
       "      <td>3.423312e+09</td>\n",
       "      <td>53.330000</td>\n",
       "      <td>6.000000</td>\n",
       "    </tr>\n",
       "    <tr>\n",
       "      <td>75%</td>\n",
       "      <td>3.423313e+09</td>\n",
       "      <td>65.632500</td>\n",
       "      <td>9.000000</td>\n",
       "    </tr>\n",
       "    <tr>\n",
       "      <td>max</td>\n",
       "      <td>3.423314e+09</td>\n",
       "      <td>244.790000</td>\n",
       "      <td>100.000000</td>\n",
       "    </tr>\n",
       "  </tbody>\n",
       "</table>\n",
       "</div>"
      ],
      "text/plain": [
       "          Driver_ID  Distance_Feature  Speeding_Feature\n",
       "count  4.000000e+03       4000.000000       4000.000000\n",
       "mean   3.423312e+09         76.041523         10.721000\n",
       "std    1.154845e+03         53.469563         13.708543\n",
       "min    3.423310e+09         15.520000          0.000000\n",
       "25%    3.423311e+09         45.247500          4.000000\n",
       "50%    3.423312e+09         53.330000          6.000000\n",
       "75%    3.423313e+09         65.632500          9.000000\n",
       "max    3.423314e+09        244.790000        100.000000"
      ]
     },
     "execution_count": 6,
     "metadata": {},
     "output_type": "execute_result"
    }
   ],
   "source": [
    "drivers_df.describe()"
   ]
  },
  {
   "cell_type": "code",
   "execution_count": 7,
   "metadata": {},
   "outputs": [],
   "source": [
    "drivers_features = drivers_df.drop('Driver_ID', axis=1)"
   ]
  },
  {
   "cell_type": "markdown",
   "metadata": {},
   "source": [
    "### Understanding the Silhouette Score\n",
    "\n",
    "\n",
    "When we perform hyperparameter tuning, we will tweak our model design parameters to find the best possible model. \n",
    "\n",
    "\n",
    "For that, we need to have some kind of score that we use to evaluate our clustering model to see which one is the best. There are different techniques that you can use to evaluate better the clustering performed by our model was code or not. \n",
    "\n",
    "\n",
    "Of all of these techniques, only one, the silhouettes coding technique did not need labeled data. Not requiring labeled data to evaluate clustering is a huge advantage, which is why we are going to use the silhouettes code to evaluate the different clustering models that we build when we perform hyperparameter tuning. \n",
    "\n",
    "\n",
    "We know that the silhouette score is derived from a silhouette coefficient where we calculate the silhouette coefficient for each sample in our dataset. \n",
    "\n",
    "\n",
    "\n",
    "The silhouette coefficient tries to capture how similar an object is to other objects present in its own cluster. \n",
    "\n",
    "\n",
    "It's also a measure of how different that particular object is from objects that live in other clusters. The overall silhouette score is derived from the silhouette coefficient by calculating the average silhouette coefficient of each sample in the data set, which means we don't use labeled data to evaluate the clustering model. \n",
    "\n",
    "\n",
    "\n",
    "We'll first understand how exactly the silhouette coefficient in calculated and this is the mathematical formula for the silhouette coefficient, \n",
    "\n",
    "\n",
    "<img src = \"../files/Capture21.png\">\n",
    "\n",
    "\n",
    "b superscript i minus a superscript i divided by the max of a and b. \n",
    "\n",
    "\n",
    "\n",
    "Here, the superscript i denotes a particular point in our dataset. It can represent any point, which is why we have a silhouette coefficient, s superscript i. \n",
    "\n",
    "The value a superscript i is the average distance of point i from all other points that belong to the same cluster as i. \n",
    "\n",
    "\n",
    "The value b i is the average or mean distance of point i from all points that belong to the next nearest cluster. So we find the next nearest cluster and calculate the average distance of point i from all of the points in the next nearest cluster. \n",
    "\n",
    "\n",
    "Now that you understand the individual terms, you can see that the silhouette coefficient measures how close an object is to points in its own cluster and how far away that object is from points in other clusters and then you calculate the silhouette score by calculating the average of silhouette coefficients overall points. \n",
    "\n",
    "Calculated in this manner, the silhouette score tends to be bounded between -1 and +1. The +1 indicates perfect clustering and -1 means the clustering is really bad. If your silhouette score is around 0, it means your clusters are overlapping. There are data points that could belong to one cluster or another. Your silhouette score will tend to be higher if the clusters formed using our clustering model are dense and well separated from other clusters."
   ]
  },
  {
   "cell_type": "markdown",
   "metadata": {},
   "source": [
    "#### Hyperparameters"
   ]
  },
  {
   "cell_type": "markdown",
   "metadata": {},
   "source": [
    "Hyperparameters refer to the configuration properties or design properties that define a particular machine learning model and these hyperparameters, once you set them up, remain constant during the training of the model. When you're building a machine learning model, there are three broad categories of variables that you work with, the first, of course, is the input or the training data that you use to train your model. Another set of variables are the model parameters, these are the trainable parameters in your model, these are the parameters that you tweak in the training phase, and these are the parameters that your model uses for prediction. And finally, we have the model hyperparameters. These are the constraints that you might specify by building a model design parameters, which define the structure of your model. If you take example of K-means clustering, the model input is the data which you cluster using the model. The model parameters are the reference vectors or the centroids or the K-means of the K different clusters. And finally, these are the hyperparameters that affect the design of your model, the number of clusters you want in the underlying data, the initial values of seeds, and the distance measured that you use to compute the distance between points. The model parameters and the model hyperparameters are specific to K-means clustering here, but each clustering model will have its own set of model parameters and hyperparameters and the values that you choose for your hyperparameters can significantly affect the performance of your model."
   ]
  },
  {
   "cell_type": "markdown",
   "metadata": {},
   "source": [
    "### No. of Clusters"
   ]
  },
  {
   "cell_type": "markdown",
   "metadata": {},
   "source": [
    "the hyperparameters in K-means clustering, such as the number of clusters, the seeds or the original K-means that we initialize the clusters with, and finally, the distance measures that we could use in order to calculate the distance measures between points."
   ]
  },
  {
   "cell_type": "markdown",
   "metadata": {},
   "source": [
    "Of these, the first of the hyperparameters specified here are the number of clusters is the most important. \n",
    "\n",
    "\n",
    "When we worked with the Iris dataset, we knew that there were three types of Iris flowers, so sometimes the number of clusters is obvious.\n",
    "\n",
    "\n",
    "For example, if you use the MNIST handwritten digits dataset, you'll know that the number of clusters into which you should partition your images should be 10, 10 digits from 0 through 9 and clusters for your images, but in the real world, you may not know the number of discreet categories or clusters present in your data, which means you'll need to apply some standard techniques to find the best value of K before you perform K-means clustering. \n",
    "\n",
    "\n",
    "One way to find the best value of K for any dataset is the <b>elbow method </b>\n",
    "\n",
    "\n",
    "\n",
    "First, you'll pick a range of candidate values of K from 1 all the way through 10. That's just a hypothetical example here. The values of K could be any set that you pick. \n",
    "\n",
    "\n",
    "Perform K-means clustering for every value of K, then calculate the average distance from the centroid for all of your data points for each value of K. You'll then make a simple line plot and find where exactly the elbow is. \n",
    "\n",
    "\n",
    "You might find that with smaller numbers of clusters, the average distance to the centroid is very large, but at some point, it will elbow down. \n",
    "\n",
    "\n",
    "Let's understand this visually. \n",
    "\n",
    "<img src = \"../files/Capture22.png\">\n",
    "\n",
    "On the X axis, we'll have different values for K or number of clusters, and on the Y axis, we'll plot the average distance from all of the data points to their cluster centroids. \n",
    "\n",
    "\n",
    "Let's say you have just a single cluster with all of your data points within that cluster and the average distance to centroid is rather high represented by this point that you see here on screen.\n",
    "\n",
    "\n",
    "Let's say you cluster your data into two clusters, so you have two centroids, and then you calculate the average distance to centroid. For two clusters, you might find that it's a little lower, but at some point, maybe at three clusters, you'll find that the average distance to centroid falls sharply. \n",
    "\n",
    "\n",
    "And for four clusters, it's even lower, and for K clusters, it's much, much lower. Average distance of data points from their centroid falls as you increase the number of clusters. \n",
    "\n",
    "\n",
    "If we're looking for that sweet spot here, the number of clusters where there is an elbow in this plot, where there is a sharp fall in the average distance to centroid. In this particular example, it is at K equal to three clusters."
   ]
  },
  {
   "cell_type": "markdown",
   "metadata": {},
   "source": [
    "### K-means Number of Clusters: The Silhouette Method\n",
    "\n",
    "\n",
    "\n",
    "In addition to the elbow method to pick the right value of K in K-means clustering, there is another method called the silhouette method. Once again, we pick the range of candidate values for K from 1 to 10 say. \n",
    "\n",
    "\n",
    "\n",
    "\n",
    "We'll then plot the silhouettes for each value of K. We've already seen that the silhouettes code of close to one implies good clustering. So the best or ideal value of the silhouette should be equal to one and the worst possible value of silhouette is equal to -1. \n",
    "\n",
    "\n",
    "We can then pick that value of K for which the silhouette is closest to one. \n",
    "\n",
    "\n",
    "In order to calculate the silhouette, you need the silhouette coefficient for each point in your cluster, so for any point i, calculate the silhouette coefficient using this mathematical computation. \n",
    "\n",
    "\n",
    "((You first need a of i, the average distance of this point i to other points which belong to the same cluster. To calculate the silhouette coefficient, you also need b of i, the average distance of this particular point from points in the nearest cluster. Now if your clustering is good, a of i should be much, much smaller than b of i. That means you want an object to be very close to other points in its cluster and far away from points in other clusters. It's possible that in certain situations a of i is much larger than b of i, that means that that particular point is likely misclassified and is in the wrong cluster. Once you have a of i and b of i, we've already seen the formula for the silhouette coefficient of a particular point.))\n",
    "\n",
    "\n",
    "Now ideally, if your clustering is very, very good, the silhouette coefficient for each point should be equal to one. A of i, that is the average distance of that point from other points in this cluster is equal to 0 and b of i is infinity. That point is very far away, infinitely far away from points in other clusters. \n",
    "\n",
    "\n",
    "\n",
    "In the worst possible case, the silhouette coefficient is equal to -1. A of i is equal to infinity and b of i is equal to 0 will give us -1. \n",
    "\n",
    "\n",
    "\n",
    "For any value of K, the silhouette plot involves calculating the s i for each point and plotting this value of s i to identify outliers. Let's say you have 4 clusters in your underlying data and your silhouette values range from -1 to 1 and here is the silhouette plot for each point in each cluster. You can see that the silhouette coefficients for most of these points in different clusters are positive values some close to one, but there are a few outliers as well. If a point has a silhouette coefficient of less than 0 indicates the point is an outlier or is misclassified. This is a silhouette plot and this is what we can use to find the best possible value of K. \n",
    "\n",
    "\n",
    "Finding the best possible values of K is an extension of the same idea of the silhouette plot. We replicate the silhouette plot for different values of K and once we have all of the silhouette plots, we pick K where the average silhouette is closest to one. So let's imagine that we have K is equal to 4 and K is equal to 3 and this is what the silhouette plot looks like. Here is the plot for K is equal to 3 and here is the silhouette plot for K is equal to 4. In this hypothetical example, you can see that the silhouette coefficient for the different data points at K is equal to 3 is noticeably closer to 1 as compared with K is equal to 4. K is equal to 3 is better than K is equal to 4 because with 3 clusters, the silhouette coefficient or the silhouette plot has noticeably larger positive values."
   ]
  },
  {
   "cell_type": "markdown",
   "metadata": {},
   "source": [
    "### CHOOSING SEEDS"
   ]
  },
  {
   "cell_type": "markdown",
   "metadata": {},
   "source": [
    "The last hyperparameter in K-means clustering is how you specify the seeds or the initial reference vectors for your clusters. This may seem like a small detail, but this is actually a pretty significant hyperparameter because the final reference vector values or the final centroid values are very sensitive to the initial values. \n",
    "\n",
    "\n",
    "The initial values that you choose as seeds will also determine how fast your algorithm converges, which can be a big deal when you have a very large dataset. \n",
    "\n",
    "\n",
    "For the smaller models that we build random initialization works just fine, but in the real world, this might not really work. You need to examine the data carefully. \n",
    "\n",
    "\n",
    "You need to understand the data before you specify seeds. There are several specialized techniques to deal with this.\n",
    "\n",
    "\n",
    "You can perform principle components analysis of your data and divide the range of normalized principle components into K separate bins and take the average of each bin. Those could be your seeds. \n",
    "\n",
    "\n",
    "And finally, another hyperparameter for K-means clustering is the distance measured that you choose. The most commonly used distance measure is the Euclidean distance. \n",
    "\n",
    "\n",
    "In this situation, the centroid might not be an actual data point from your data set. Another distance measure could be the Mahalanobis distance, this is where you normalize each dimension to have equal variance or you could also choose the Cosine distance. The cosine of the angle between the point and the centroid is your distance measure."
   ]
  },
  {
   "cell_type": "markdown",
   "metadata": {},
   "source": [
    "# TUNING"
   ]
  },
  {
   "cell_type": "markdown",
   "metadata": {},
   "source": [
    "every clustering model, of course, has its own hyperparameters that are different from other models."
   ]
  },
  {
   "cell_type": "markdown",
   "metadata": {},
   "source": [
    "Hyperparameter tuning involves building a number of different models and evaluating which one performs best. Here, we'll use the silhouette score to figure out the best possible model. The best model is one with the highest silhouette score. \n",
    "\n",
    "\n",
    "We'll use the parameter grid object in scikit-learn in order to configure different values for our hyperparameters when we train our model. When you perform hyperparameter tuning for classification or say regression models using scikit-learn libraries, you might use an object called Grid Search CV. \n",
    "\n",
    "\n",
    "Grid Search CV uses cross validation in order to get the best possible model. Cross validation does not make sense in the context of an unsupervised learning technique such as clustering, which is why we'll use a parameter grid directly. \n",
    "\n",
    "\n",
    "The three different clustering models that we'll work with are KMeans, DBSCAN, and MeanShift. "
   ]
  },
  {
   "cell_type": "markdown",
   "metadata": {},
   "source": [
    "### KMeans clustering"
   ]
  },
  {
   "cell_type": "code",
   "execution_count": 8,
   "metadata": {},
   "outputs": [],
   "source": [
    "parameters = {'n_clusters': [2, 3, 4, 5, 10, 20, 30]}\n",
    "\n",
    "parameter_grid = ParameterGrid(parameters)"
   ]
  },
  {
   "cell_type": "markdown",
   "metadata": {},
   "source": [
    "We'll set end clusters to be 2, 3, 5, 10, 20, and 30, these are our candidate values. We're tuning just one hyperparameter here, the number of clusters, and we specify it in the form of a dictionary. Instantiate the ParameterGrid object from the scikit-learn library and pass in the number of clusters as its input parameter. "
   ]
  },
  {
   "cell_type": "code",
   "execution_count": 9,
   "metadata": {},
   "outputs": [
    {
     "data": {
      "text/plain": [
       "[{'n_clusters': 2},\n",
       " {'n_clusters': 3},\n",
       " {'n_clusters': 4},\n",
       " {'n_clusters': 5},\n",
       " {'n_clusters': 10},\n",
       " {'n_clusters': 20},\n",
       " {'n_clusters': 30}]"
      ]
     },
     "execution_count": 9,
     "metadata": {},
     "output_type": "execute_result"
    }
   ],
   "source": [
    "list(parameter_grid)"
   ]
  },
  {
   "cell_type": "markdown",
   "metadata": {},
   "source": [
    "If you call list on the parameter_grid, you'll see how many models will be trained and with what hyperparameter values. \n",
    "\n",
    "\n",
    "We'll evaluate seven different clustering models for all of these different values of K. After we train these models, we have to find that model which has the best silhouette score. Initialize best_score to -1 and instantiate a KMeans estimator object. "
   ]
  },
  {
   "cell_type": "code",
   "execution_count": 10,
   "metadata": {},
   "outputs": [],
   "source": [
    "best_score = -1\n",
    "model = KMeans()"
   ]
  },
  {
   "cell_type": "markdown",
   "metadata": {},
   "source": [
    "Set a for loop to train seven models having different numbers of clusters, we'll get the number of clusters or our hyperparameters from the parameter_grid. We then set the current hyperparameters by calling model.set_params and pass in g. \n",
    "\n",
    "\n",
    "Only hyperparameter that we are tweaking here is the number of clusters. With the model initialized, you can then call fit on the drivers dataset. \n",
    "\n",
    "\n",
    "Once the clustering module has found clusters in the drivers data, let's compute the silhouette score of our clustering. Invoke metrics.silhouette_score, pass in the driver_features and pass in the labels generated by our model, the clusters. \n",
    "\n",
    "\n",
    "For every model that we fit, print out the hyperparameters that we used and the current silhouette score. \n",
    "\n",
    "\n",
    "If the silhouette score calculated for this model is better than the best silhouette score that we've seen so far, store this as the best_grid and the best_score. "
   ]
  },
  {
   "cell_type": "code",
   "execution_count": 11,
   "metadata": {},
   "outputs": [
    {
     "name": "stdout",
     "output_type": "stream",
     "text": [
      "Parameter:  {'n_clusters': 2} Score:  0.8490223286225532\n",
      "Parameter:  {'n_clusters': 3} Score:  0.8231396834167266\n",
      "Parameter:  {'n_clusters': 4} Score:  0.5907475009381601\n",
      "Parameter:  {'n_clusters': 5} Score:  0.5126036777023699\n",
      "Parameter:  {'n_clusters': 10} Score:  0.4343655341380241\n",
      "Parameter:  {'n_clusters': 20} Score:  0.35891821464075485\n",
      "Parameter:  {'n_clusters': 30} Score:  0.33842325562893294\n"
     ]
    }
   ],
   "source": [
    "for g in parameter_grid:\n",
    "    model.set_params(**g)\n",
    "    model.fit(drivers_features)\n",
    "\n",
    "    ss = metrics.silhouette_score(drivers_features, model.labels_)\n",
    "    print('Parameter: ', g, 'Score: ', ss)\n",
    "    if ss > best_score:\n",
    "        best_score = ss\n",
    "        best_grid = g"
   ]
  },
  {
   "cell_type": "markdown",
   "metadata": {},
   "source": [
    "Here are the models and their silhouette scores. You can see that the clustering model that partitioned the data into two clusters had the highest silhouette score of 0.849, that's very close to 1. That is good clustering. When we try to partition the drivers data into three or four clusters, we got slightly lower silhouette scores, but very close to one another around .6. The silhouette scores for all of the other models are much lower. So the best grid or the best values for hyperparameters where the type of parameter is just number of clusters is n_clusters 2. \n"
   ]
  },
  {
   "cell_type": "code",
   "execution_count": 12,
   "metadata": {},
   "outputs": [
    {
     "data": {
      "text/plain": [
       "{'n_clusters': 2}"
      ]
     },
     "execution_count": 12,
     "metadata": {},
     "output_type": "execute_result"
    }
   ],
   "source": [
    "best_grid"
   ]
  },
  {
   "cell_type": "markdown",
   "metadata": {},
   "source": [
    "Now this particular dataset has just two dimensions, Speeding_Feature and Distance_Feature, that's why we can visualize this using matplotlib. Plot a scatter plot of the Distance_Feature and the Speeding_Feature for all 4, 000 drivers."
   ]
  },
  {
   "cell_type": "code",
   "execution_count": 13,
   "metadata": {},
   "outputs": [
    {
     "data": {
      "image/png": "[encoded data removed]",
      "text/plain": [
       "<Figure size 864x576 with 1 Axes>"
      ]
     },
     "metadata": {
      "needs_background": "light"
     },
     "output_type": "display_data"
    }
   ],
   "source": [
    "fig, ax = plt.subplots(figsize=(12, 8))\n",
    "\n",
    "plt.scatter(drivers_features['Distance_Feature'], \n",
    "            drivers_features['Speeding_Feature'], s=250)\n",
    "\n",
    "plt.xlabel('Distance_Feature')\n",
    "plt.ylabel('Speeding_Feature')\n",
    "\n",
    "plt.show()"
   ]
  },
  {
   "cell_type": "markdown",
   "metadata": {},
   "source": [
    "And the scatter plot actually makes it very, very clear that this dataset should be divided into two clusters. There are two obvious clusters visible, drivers that drive for long distances who drive fast and drivers that drive for shorter distances may be within cities who drive more slowly. \n",
    "\n",
    "\n",
    "Had we visualized this data before performing clustering,  we might say that this dataset could maybe be divided into four clusters or three clusters. Those numbers of clusters also had reasonably high silhouette scores."
   ]
  },
  {
   "cell_type": "markdown",
   "metadata": {},
   "source": [
    "### DBSCAN clustering"
   ]
  },
  {
   "cell_type": "markdown",
   "metadata": {},
   "source": [
    "DBSCAN takes in two main parameters, eps, which is the minimum distance for points to be considered neighbors and min samples. This is the minimum number of points required to form a dense region. \n",
    "\n",
    "\n",
    "For the drivers dataset, we don't know what the right values are for these hyperparameters so let's assign a range of values for eps and min samples as our parameters. \n",
    "\n",
    "\n",
    "Instantiate a parameter_grid with these hyperparameter values and list out the parameter_grid. "
   ]
  },
  {
   "cell_type": "markdown",
   "metadata": {},
   "source": [
    "You will get a trained model for every combination of the hyperparameter values. \n",
    "\n",
    "\n",
    "You can see following list for each value of eps that we have specified. We paired it up with every possible value for min samples that we have specified as well. We'll get a trained model for each of these combinations starting with eps of 0.9 and min_samples of 5, 7, 10, 12 going up to eps of 20 and min_samples of 5, 7, 10, 12. \n",
    "\n",
    "\n",
    "Because we don't have labeled data, we'll use silhouette scoring to evaluate this model as well. \n",
    "\n",
    "\n"
   ]
  },
  {
   "cell_type": "code",
   "execution_count": 14,
   "metadata": {},
   "outputs": [
    {
     "data": {
      "text/plain": [
       "[{'eps': 0.9, 'min_samples': 5},\n",
       " {'eps': 0.9, 'min_samples': 7},\n",
       " {'eps': 0.9, 'min_samples': 10},\n",
       " {'eps': 0.9, 'min_samples': 12},\n",
       " {'eps': 1.0, 'min_samples': 5},\n",
       " {'eps': 1.0, 'min_samples': 7},\n",
       " {'eps': 1.0, 'min_samples': 10},\n",
       " {'eps': 1.0, 'min_samples': 12},\n",
       " {'eps': 5.0, 'min_samples': 5},\n",
       " {'eps': 5.0, 'min_samples': 7},\n",
       " {'eps': 5.0, 'min_samples': 10},\n",
       " {'eps': 5.0, 'min_samples': 12},\n",
       " {'eps': 10.0, 'min_samples': 5},\n",
       " {'eps': 10.0, 'min_samples': 7},\n",
       " {'eps': 10.0, 'min_samples': 10},\n",
       " {'eps': 10.0, 'min_samples': 12},\n",
       " {'eps': 12.0, 'min_samples': 5},\n",
       " {'eps': 12.0, 'min_samples': 7},\n",
       " {'eps': 12.0, 'min_samples': 10},\n",
       " {'eps': 12.0, 'min_samples': 12},\n",
       " {'eps': 14.0, 'min_samples': 5},\n",
       " {'eps': 14.0, 'min_samples': 7},\n",
       " {'eps': 14.0, 'min_samples': 10},\n",
       " {'eps': 14.0, 'min_samples': 12},\n",
       " {'eps': 20.0, 'min_samples': 5},\n",
       " {'eps': 20.0, 'min_samples': 7},\n",
       " {'eps': 20.0, 'min_samples': 10},\n",
       " {'eps': 20.0, 'min_samples': 12}]"
      ]
     },
     "execution_count": 14,
     "metadata": {},
     "output_type": "execute_result"
    }
   ],
   "source": [
    "parameters = {'eps': [0.9, 1.0, 5.0, 10.0, 12.0, 14.0, 20.0],\n",
    "              'min_samples': [5, 7, 10, 12]}\n",
    "\n",
    "parameter_grid = ParameterGrid(parameters)\n",
    "\n",
    "list(parameter_grid)"
   ]
  },
  {
   "cell_type": "code",
   "execution_count": 15,
   "metadata": {},
   "outputs": [],
   "source": [
    "model = DBSCAN()\n",
    "best_score = -1"
   ]
  },
  {
   "cell_type": "code",
   "execution_count": 16,
   "metadata": {},
   "outputs": [
    {
     "name": "stdout",
     "output_type": "stream",
     "text": [
      "Parameter:  {'eps': 0.9, 'min_samples': 5} Score:  -0.6057173612292268\n",
      "Parameter:  {'eps': 0.9, 'min_samples': 7} Score:  -0.4265046999507063\n",
      "Parameter:  {'eps': 0.9, 'min_samples': 10} Score:  -0.39254168253371013\n",
      "Parameter:  {'eps': 0.9, 'min_samples': 12} Score:  -0.4286838741223884\n",
      "Parameter:  {'eps': 1.0, 'min_samples': 5} Score:  -0.6155746493060738\n",
      "Parameter:  {'eps': 1.0, 'min_samples': 7} Score:  -0.41637001640330673\n",
      "Parameter:  {'eps': 1.0, 'min_samples': 10} Score:  -0.3837814631696031\n",
      "Parameter:  {'eps': 1.0, 'min_samples': 12} Score:  -0.38648235283744914\n",
      "Parameter:  {'eps': 5.0, 'min_samples': 5} Score:  0.31011275260225\n",
      "Parameter:  {'eps': 5.0, 'min_samples': 7} Score:  0.7820011223700856\n",
      "Parameter:  {'eps': 5.0, 'min_samples': 10} Score:  0.7974222681120255\n",
      "Parameter:  {'eps': 5.0, 'min_samples': 12} Score:  0.7914367881923341\n",
      "Parameter:  {'eps': 10.0, 'min_samples': 5} Score:  0.7598056658175874\n",
      "Parameter:  {'eps': 10.0, 'min_samples': 7} Score:  0.8157570071704705\n",
      "Parameter:  {'eps': 10.0, 'min_samples': 10} Score:  0.8107405850782263\n",
      "Parameter:  {'eps': 10.0, 'min_samples': 12} Score:  0.7826641175724478\n",
      "Parameter:  {'eps': 12.0, 'min_samples': 5} Score:  0.8082887021398691\n",
      "Parameter:  {'eps': 12.0, 'min_samples': 7} Score:  0.8006933163754029\n",
      "Parameter:  {'eps': 12.0, 'min_samples': 10} Score:  0.8177778536465214\n",
      "Parameter:  {'eps': 12.0, 'min_samples': 12} Score:  0.8155661587264617\n",
      "Parameter:  {'eps': 14.0, 'min_samples': 5} Score:  0.8111072866552332\n",
      "Parameter:  {'eps': 14.0, 'min_samples': 7} Score:  0.8121719747215577\n",
      "Parameter:  {'eps': 14.0, 'min_samples': 10} Score:  0.8029471072047811\n",
      "Parameter:  {'eps': 14.0, 'min_samples': 12} Score:  0.8178938395610874\n",
      "Parameter:  {'eps': 20.0, 'min_samples': 5} Score:  0.8490223286225532\n",
      "Parameter:  {'eps': 20.0, 'min_samples': 7} Score:  0.8490223286225532\n",
      "Parameter:  {'eps': 20.0, 'min_samples': 10} Score:  0.8192119040131286\n",
      "Parameter:  {'eps': 20.0, 'min_samples': 12} Score:  0.8156567891999053\n"
     ]
    }
   ],
   "source": [
    "for g in parameter_grid:\n",
    "    model.set_params(**g)\n",
    "    model.fit(drivers_features)\n",
    "\n",
    "    ss = metrics.silhouette_score(drivers_features, model.labels_)\n",
    "    print('Parameter: ', g, 'Score: ', ss)\n",
    "    if ss > best_score:\n",
    "        best_score = ss\n",
    "        best_grid = g"
   ]
  },
  {
   "cell_type": "markdown",
   "metadata": {},
   "source": [
    "You can see that for some of the earlier models with very low values of eps, such as 0.9 and 1, the silhouette scores are negative so those are clearly not good models, but at the bottom here, you can see that the silhouette scores really shoot up and go about 0.8. The clustering models with eps values of about 10 have very high silhouette scores. So for this particular dataset, the best possible values of the hyperparameters are eps of 20 and min_samples of 5. "
   ]
  },
  {
   "cell_type": "code",
   "execution_count": 17,
   "metadata": {},
   "outputs": [
    {
     "data": {
      "text/plain": [
       "{'eps': 20.0, 'min_samples': 5}"
      ]
     },
     "execution_count": 17,
     "metadata": {},
     "output_type": "execute_result"
    }
   ],
   "source": [
    "best_grid"
   ]
  },
  {
   "cell_type": "markdown",
   "metadata": {},
   "source": [
    "We'll now perform DBSCAN clustering using these values for hyperparameters called model.set_params with the best_grid and fit on driver features. Here is our DBSCAN clustering model fit on the driver data. You might have observed something interesting here. \n",
    "\n",
    "\n"
   ]
  },
  {
   "cell_type": "code",
   "execution_count": 18,
   "metadata": {},
   "outputs": [
    {
     "data": {
      "text/plain": [
       "DBSCAN(algorithm='auto', eps=20.0, leaf_size=30, metric='euclidean',\n",
       "       metric_params=None, min_samples=5, n_jobs=None, p=None)"
      ]
     },
     "execution_count": 18,
     "metadata": {},
     "output_type": "execute_result"
    }
   ],
   "source": [
    "model.set_params(**best_grid)\n",
    "model.fit(drivers_features)"
   ]
  },
  {
   "cell_type": "markdown",
   "metadata": {},
   "source": [
    "DBSCAN clustering doesn't really require you to specify the number of clusters up front. So how do you get that information? After clustering the data, each data point will have a cluster label associated with it. If you remember, the DBSCAN model is a density-based clustering algorithm, which means it's good at detecting outliers and noisy data. \n",
    "\n",
    "\n",
    "Data points that DBSCAN considers noisy will have the label -1. All other data points will have positive labels corresponding to their clusters. To find the number of clusters, we can iterate through all of the labels assigned by DBSCAN clustering to find the number of unique values. \n",
    "\n",
    "\n",
    "\n",
    "To make a set of all of the labels, the length of the set will give you the number of clusters"
   ]
  },
  {
   "cell_type": "code",
   "execution_count": 19,
   "metadata": {},
   "outputs": [
    {
     "data": {
      "text/plain": [
       "2"
      ]
     },
     "execution_count": 19,
     "metadata": {},
     "output_type": "execute_result"
    }
   ],
   "source": [
    "len(set(model.labels_))"
   ]
  },
  {
   "cell_type": "markdown",
   "metadata": {},
   "source": [
    "but remember, -1 is also a label. Go ahead and subtract all of the -1 labels from the set and you're left with 2 clusters. So DBSCAN also figured out that two clusters was the best for this data. "
   ]
  },
  {
   "cell_type": "code",
   "execution_count": 20,
   "metadata": {},
   "outputs": [
    {
     "data": {
      "text/plain": [
       "2"
      ]
     },
     "execution_count": 20,
     "metadata": {},
     "output_type": "execute_result"
    }
   ],
   "source": [
    "n_clusters = len(set(model.labels_)) - (1 if -1 in model.labels_ else 0)\n",
    "\n",
    "n_clusters"
   ]
  },
  {
   "cell_type": "markdown",
   "metadata": {},
   "source": [
    "With two clusters, let's count the number of noisy points. These are those data points which have a label of -1. "
   ]
  },
  {
   "cell_type": "code",
   "execution_count": 21,
   "metadata": {},
   "outputs": [
    {
     "data": {
      "text/plain": [
       "0"
      ]
     },
     "execution_count": 21,
     "metadata": {},
     "output_type": "execute_result"
    }
   ],
   "source": [
    "n_noise = list(model.labels_).count(-1)\n",
    "\n",
    "n_noise"
   ]
  },
  {
   "cell_type": "markdown",
   "metadata": {},
   "source": [
    "And for this particular clustering model, with an eps value of 20 and min_samples of 5, there were no noisy or outlier points. But what if we fit another DBSCAN model with a different set of hyperparameters. Will there be noisy points then? Let's see. Let's set up a different grid here with an eps of 5 and min_samples of 5. If you remember, these set of parameters did not really result in a good silhouette score for the clustering model. Assign these parameters to our DBSCAN model and call fit on the drivers data. And in exactly the same way as before, calculate the number of clusters in the underlying dataset that our DBSCAN model found and the number of noisy points at the data. "
   ]
  },
  {
   "cell_type": "code",
   "execution_count": 22,
   "metadata": {},
   "outputs": [
    {
     "name": "stdout",
     "output_type": "stream",
     "text": [
      "Number of clusters:  7\n",
      "Noisy points:  117\n"
     ]
    }
   ],
   "source": [
    "another_grid = {'eps': 5.0, 'min_samples': 5}\n",
    "\n",
    "model.set_params(**another_grid)\n",
    "model.fit(drivers_features)\n",
    "\n",
    "n_clusters = len(set(model.labels_)) - (1 if -1 in model.labels_ else 0)\n",
    "print('Number of clusters: ', n_clusters)\n",
    "\n",
    "n_noise = list(model.labels_).count(-1)\n",
    "print('Noisy points: ', n_noise)"
   ]
  },
  {
   "cell_type": "markdown",
   "metadata": {},
   "source": [
    "And notice we now have seven clusters and there are a total of 117 points that are considered outliers or noise. When we had first understood DBSCAN clustering, we had spoken about the fact that for two small values of eps, that is the minimum distance for two points to be considered clusters, there will be a significant number of data points that would remain unclustered and will be considered noise. \n",
    "\n",
    "\n",
    "\n",
    "Let's try building and fitting another DBSCAN model, this time with the same eps as before, 5, but min_samples is 7. There need to be at least seven points that are neighbors for an area to be considered a dense region. Instantiate a model with these hyperparameters and fit on the drivers data. Calculate the number of clusters and the noisy points. "
   ]
  },
  {
   "cell_type": "code",
   "execution_count": 23,
   "metadata": {},
   "outputs": [
    {
     "name": "stdout",
     "output_type": "stream",
     "text": [
      "Number of clusters:  3\n",
      "Noisy points:  157\n"
     ]
    }
   ],
   "source": [
    "another_grid = {'eps': 5.0, 'min_samples': 7}\n",
    "\n",
    "model.set_params(**another_grid)\n",
    "model.fit(drivers_features)\n",
    "\n",
    "n_clusters = len(set(model.labels_)) - (1 if -1 in model.labels_ else 0)\n",
    "print('Number of clusters: ', n_clusters)\n",
    "\n",
    "n_noise = list(model.labels_).count(-1)\n",
    "print('Noisy points: ', n_noise)"
   ]
  },
  {
   "cell_type": "markdown",
   "metadata": {},
   "source": [
    "We increased the minimum number of samples per cluster and this resulted in fewer clusters being formed. Number of clusters here is 3, but there are 157 points that are outliers."
   ]
  },
  {
   "cell_type": "markdown",
   "metadata": {},
   "source": [
    "### MeanShift clustering"
   ]
  },
  {
   "cell_type": "markdown",
   "metadata": {},
   "source": [
    "https://github.com/scikit-learn/scikit-learn/blob/master/sklearn/cluster/mean_shift_.py#L4\n",
    "\n",
    "https://stats.stackexchange.com/questions/86324/name-of-algorithm-or-paper-that-scikit-learn-cluster-estimate-bandwidth-func"
   ]
  },
  {
   "cell_type": "markdown",
   "metadata": {},
   "source": [
    "Mean shift clustering has just one hyperparameter that you can tune and that is the bandwidth of the kernel. Rather than instantiating a mean shift clustering model and fitting on your data, you can calculate the best possible bandwidth for your data using the estimate bandwidth function from scikit-learn. Pass in the driver_features to estimate bandwidth. "
   ]
  },
  {
   "cell_type": "code",
   "execution_count": 24,
   "metadata": {},
   "outputs": [
    {
     "data": {
      "text/plain": [
       "33.960524729584314"
      ]
     },
     "execution_count": 24,
     "metadata": {},
     "output_type": "execute_result"
    }
   ],
   "source": [
    "from sklearn.cluster import estimate_bandwidth\n",
    "estimate_bandwidth(drivers_features)"
   ]
  },
  {
   "cell_type": "markdown",
   "metadata": {},
   "source": [
    "This is a computationally intensive operation. The time taken to calculate the best bandwidth is quadratic in the number of samples. Estimate bandwidth tells us that for the drivers data, the best possible bandwidth is 33.9. "
   ]
  },
  {
   "cell_type": "markdown",
   "metadata": {},
   "source": [
    "instantiate a MeanShift clustering estimator object with this bandwidth and calculate the silhouette score of the cluster data "
   ]
  },
  {
   "cell_type": "code",
   "execution_count": 25,
   "metadata": {},
   "outputs": [
    {
     "data": {
      "text/plain": [
       "0.8231396834167266"
      ]
     },
     "execution_count": 25,
     "metadata": {},
     "output_type": "execute_result"
    }
   ],
   "source": [
    "model = MeanShift(bandwidth=estimate_bandwidth(drivers_features)).fit(drivers_features)\n",
    "\n",
    "metrics.silhouette_score(drivers_features, model.labels_)"
   ]
  },
  {
   "cell_type": "markdown",
   "metadata": {},
   "source": [
    "and the silhouette score is 0.82, which is pretty high."
   ]
  },
  {
   "cell_type": "code",
   "execution_count": null,
   "metadata": {},
   "outputs": [],
   "source": []
  }
 ],
 "metadata": {
  "kernelspec": {
   "display_name": "Python 3",
   "language": "python",
   "name": "python3"
  },
  "language_info": {
   "codemirror_mode": {
    "name": "ipython",
    "version": 3
   },
   "file_extension": ".py",
   "mimetype": "text/x-python",
   "name": "python",
   "nbconvert_exporter": "python",
   "pygments_lexer": "ipython3",
   "version": "3.7.4"
  }
 },
 "nbformat": 4,
 "nbformat_minor": 2
}
