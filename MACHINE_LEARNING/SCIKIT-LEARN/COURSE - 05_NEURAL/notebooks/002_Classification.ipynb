{
 "cells": [
  {
   "cell_type": "markdown",
   "metadata": {},
   "source": [
    "All you need is a single neuron with no activation function to fit a linear regression line. The activation function is the identity function here. \n",
    "\n",
    "\n",
    "Now if you don't change this activation function such that instead of the identity function, you are to use the softmax function that will help you perform linear classification with one neuron. \n",
    "\n",
    "\n",
    "Let's say you're performing binary classification. The softmax function will output probabilities for each of the categories at its output. \n",
    "\n",
    "\n",
    "Let's say the values were true or false, the softmax function will output a probability for Y = True and Y = False, and the label with the higher probability is the predicted label from our model.\n",
    "\n",
    "\n",
    "In the case of binary classification where you have just two output categories, under the hood, the softmax function will apply the logistic regulation formula. This fits an S curve on the data, and it outputs two probabilities, a probability score corresponding to each of our output classes. \n",
    "\n",
    "\n",
    "Now the softmax function can be generalized to N-category classification. Let's say for digit classification, you have N classes at the output. Digits can be from 0 through 9. The softmax function can be used for all 10 categories. \n",
    "\n",
    "\n",
    "Just like regression, classification is also an optimization problem, and the objective function, or the last function that you use for classifiers, is the cross-entropy loss.\n",
    "\n",
    "\n",
    "A classifier outputs probabilities, so the output of a classifier is a probability distribution, and this cross- entropy loss is a measure of the distance between two probability distributions. \n",
    "\n",
    "\n",
    "Let's say you have actual values in your training data and predicted values from the model. There are two distributions here on screen corresponding to Y actual and Y predicted. \n",
    "\n",
    "\n",
    "Now if you were to overlay them, observe that these two labels are in sync, actual labels and predicted labels. This is what low cross entropy implies. \n",
    "\n",
    "\n",
    "If the distance here between actual and predicted probability distributions is very small. That is low cross entropy. \n",
    "\n",
    "If you were to overlay them, and observe that the labels of the two series are out of sync. This is high cross entropy. \n",
    "\n",
    "\n",
    "The objective function of a classification model is to minimize the cross entropy between actual values and predicted values from the model."
   ]
  },
  {
   "cell_type": "code",
   "execution_count": 50,
   "metadata": {},
   "outputs": [],
   "source": [
    "import pandas as pd\n",
    "import numpy as np\n",
    "import matplotlib.pyplot as plt\n",
    "import sklearn"
   ]
  },
  {
   "cell_type": "markdown",
   "metadata": {},
   "source": [
    "build a classification model that's able to detect spine abnormalities, and the dataset that we'll use is this lower back pain symptom dataset available here at kaggle. This is a dataset of patients, and there are a number of characteristics available about the spine of individual patients. This is spine data. \n",
    "\n",
    "Columns are characteristics of the spine, pelvic slope, direct tilt, and so on."
   ]
  },
  {
   "cell_type": "code",
   "execution_count": 51,
   "metadata": {},
   "outputs": [],
   "source": [
    "spine_data = pd.read_csv('../datasets/spine_data.csv',\n",
    "                        skiprows=1,\n",
    "                        names = ['pelvic_incidence',\n",
    "                                  'pelvic_tilt',\n",
    "                                  'lumbar_lordosis_angle',\n",
    "                                  'sacral_slope',\n",
    "                                  'pelvic_radius',\n",
    "                                  'degree_spondylolisthesia',\n",
    "                                  'pelvic_slope',\n",
    "                                  'direct_tilt',\n",
    "                                  'thorasic_slope',\n",
    "                                  'cervical_slit',\n",
    "                                  'sacrum_angle',\n",
    "                                  'scoliosis_angle',\n",
    "                                  'classs'])"
   ]
  },
  {
   "cell_type": "code",
   "execution_count": 52,
   "metadata": {},
   "outputs": [
    {
     "data": {
      "text/html": [
       "<div>\n",
       "<style scoped>\n",
       "    .dataframe tbody tr th:only-of-type {\n",
       "        vertical-align: middle;\n",
       "    }\n",
       "\n",
       "    .dataframe tbody tr th {\n",
       "        vertical-align: top;\n",
       "    }\n",
       "\n",
       "    .dataframe thead th {\n",
       "        text-align: right;\n",
       "    }\n",
       "</style>\n",
       "<table border=\"1\" class=\"dataframe\">\n",
       "  <thead>\n",
       "    <tr style=\"text-align: right;\">\n",
       "      <th></th>\n",
       "      <th>pelvic_incidence</th>\n",
       "      <th>pelvic_tilt</th>\n",
       "      <th>lumbar_lordosis_angle</th>\n",
       "      <th>sacral_slope</th>\n",
       "      <th>pelvic_radius</th>\n",
       "      <th>degree_spondylolisthesia</th>\n",
       "      <th>pelvic_slope</th>\n",
       "      <th>direct_tilt</th>\n",
       "      <th>thorasic_slope</th>\n",
       "      <th>cervical_slit</th>\n",
       "      <th>sacrum_angle</th>\n",
       "      <th>scoliosis_angle</th>\n",
       "      <th>classs</th>\n",
       "    </tr>\n",
       "  </thead>\n",
       "  <tbody>\n",
       "    <tr>\n",
       "      <td>0</td>\n",
       "      <td>63.027818</td>\n",
       "      <td>22.552586</td>\n",
       "      <td>39.609117</td>\n",
       "      <td>40.475232</td>\n",
       "      <td>98.672917</td>\n",
       "      <td>-0.254400</td>\n",
       "      <td>0.744503</td>\n",
       "      <td>12.5661</td>\n",
       "      <td>14.5386</td>\n",
       "      <td>15.30468</td>\n",
       "      <td>-28.658501</td>\n",
       "      <td>43.5123</td>\n",
       "      <td>Abnormal</td>\n",
       "    </tr>\n",
       "    <tr>\n",
       "      <td>1</td>\n",
       "      <td>39.056951</td>\n",
       "      <td>10.060991</td>\n",
       "      <td>25.015378</td>\n",
       "      <td>28.995960</td>\n",
       "      <td>114.405425</td>\n",
       "      <td>4.564259</td>\n",
       "      <td>0.415186</td>\n",
       "      <td>12.8874</td>\n",
       "      <td>17.5323</td>\n",
       "      <td>16.78486</td>\n",
       "      <td>-25.530607</td>\n",
       "      <td>16.1102</td>\n",
       "      <td>Abnormal</td>\n",
       "    </tr>\n",
       "    <tr>\n",
       "      <td>2</td>\n",
       "      <td>68.832021</td>\n",
       "      <td>22.218482</td>\n",
       "      <td>50.092194</td>\n",
       "      <td>46.613539</td>\n",
       "      <td>105.985135</td>\n",
       "      <td>-3.530317</td>\n",
       "      <td>0.474889</td>\n",
       "      <td>26.8343</td>\n",
       "      <td>17.4861</td>\n",
       "      <td>16.65897</td>\n",
       "      <td>-29.031888</td>\n",
       "      <td>19.2221</td>\n",
       "      <td>Abnormal</td>\n",
       "    </tr>\n",
       "    <tr>\n",
       "      <td>3</td>\n",
       "      <td>69.297008</td>\n",
       "      <td>24.652878</td>\n",
       "      <td>44.311238</td>\n",
       "      <td>44.644130</td>\n",
       "      <td>101.868495</td>\n",
       "      <td>11.211523</td>\n",
       "      <td>0.369345</td>\n",
       "      <td>23.5603</td>\n",
       "      <td>12.7074</td>\n",
       "      <td>11.42447</td>\n",
       "      <td>-30.470246</td>\n",
       "      <td>18.8329</td>\n",
       "      <td>Abnormal</td>\n",
       "    </tr>\n",
       "    <tr>\n",
       "      <td>4</td>\n",
       "      <td>49.712859</td>\n",
       "      <td>9.652075</td>\n",
       "      <td>28.317406</td>\n",
       "      <td>40.060784</td>\n",
       "      <td>108.168725</td>\n",
       "      <td>7.918501</td>\n",
       "      <td>0.543360</td>\n",
       "      <td>35.4940</td>\n",
       "      <td>15.9546</td>\n",
       "      <td>8.87237</td>\n",
       "      <td>-16.378376</td>\n",
       "      <td>24.9171</td>\n",
       "      <td>Abnormal</td>\n",
       "    </tr>\n",
       "  </tbody>\n",
       "</table>\n",
       "</div>"
      ],
      "text/plain": [
       "   pelvic_incidence  pelvic_tilt  lumbar_lordosis_angle  sacral_slope  \\\n",
       "0         63.027818    22.552586              39.609117     40.475232   \n",
       "1         39.056951    10.060991              25.015378     28.995960   \n",
       "2         68.832021    22.218482              50.092194     46.613539   \n",
       "3         69.297008    24.652878              44.311238     44.644130   \n",
       "4         49.712859     9.652075              28.317406     40.060784   \n",
       "\n",
       "   pelvic_radius  degree_spondylolisthesia  pelvic_slope  direct_tilt  \\\n",
       "0      98.672917                 -0.254400      0.744503      12.5661   \n",
       "1     114.405425                  4.564259      0.415186      12.8874   \n",
       "2     105.985135                 -3.530317      0.474889      26.8343   \n",
       "3     101.868495                 11.211523      0.369345      23.5603   \n",
       "4     108.168725                  7.918501      0.543360      35.4940   \n",
       "\n",
       "   thorasic_slope  cervical_slit  sacrum_angle  scoliosis_angle    classs  \n",
       "0         14.5386       15.30468    -28.658501          43.5123  Abnormal  \n",
       "1         17.5323       16.78486    -25.530607          16.1102  Abnormal  \n",
       "2         17.4861       16.65897    -29.031888          19.2221  Abnormal  \n",
       "3         12.7074       11.42447    -30.470246          18.8329  Abnormal  \n",
       "4         15.9546        8.87237    -16.378376          24.9171  Abnormal  "
      ]
     },
     "execution_count": 52,
     "metadata": {},
     "output_type": "execute_result"
    }
   ],
   "source": [
    "spine_data.head()"
   ]
  },
  {
   "cell_type": "markdown",
   "metadata": {},
   "source": [
    "You can see that the columns in this dataset describe the characteristics of the spine of an individual, and at the very end, we have a class column which tells us whether this is normal or abnormal."
   ]
  },
  {
   "cell_type": "code",
   "execution_count": 53,
   "metadata": {},
   "outputs": [],
   "source": [
    "spine_data = spine_data.sample(frac=1).reset_index(drop=True)"
   ]
  },
  {
   "cell_type": "code",
   "execution_count": 54,
   "metadata": {},
   "outputs": [
    {
     "data": {
      "text/plain": [
       "(310, 13)"
      ]
     },
     "execution_count": 54,
     "metadata": {},
     "output_type": "execute_result"
    }
   ],
   "source": [
    "spine_data.shape"
   ]
  },
  {
   "cell_type": "code",
   "execution_count": 55,
   "metadata": {},
   "outputs": [
    {
     "data": {
      "text/plain": [
       "array(['Abnormal', 'Normal'], dtype=object)"
      ]
     },
     "execution_count": 55,
     "metadata": {},
     "output_type": "execute_result"
    }
   ],
   "source": [
    "spine_data.classs.unique()"
   ]
  },
  {
   "cell_type": "code",
   "execution_count": 56,
   "metadata": {},
   "outputs": [],
   "source": [
    "RANDOM_SEED = 11"
   ]
  },
  {
   "cell_type": "code",
   "execution_count": 57,
   "metadata": {},
   "outputs": [
    {
     "data": {
      "text/plain": [
       "pelvic_incidence            float64\n",
       "pelvic_tilt                 float64\n",
       "lumbar_lordosis_angle       float64\n",
       "sacral_slope                float64\n",
       "pelvic_radius               float64\n",
       "degree_spondylolisthesia    float64\n",
       "pelvic_slope                float64\n",
       "direct_tilt                 float64\n",
       "thorasic_slope              float64\n",
       "cervical_slit               float64\n",
       "sacrum_angle                float64\n",
       "scoliosis_angle             float64\n",
       "classs                       object\n",
       "dtype: object"
      ]
     },
     "execution_count": 57,
     "metadata": {},
     "output_type": "execute_result"
    }
   ],
   "source": [
    "spine_data.dtypes"
   ]
  },
  {
   "cell_type": "code",
   "execution_count": 58,
   "metadata": {},
   "outputs": [
    {
     "data": {
      "text/plain": [
       "pelvic_incidence            0\n",
       "pelvic_tilt                 0\n",
       "lumbar_lordosis_angle       0\n",
       "sacral_slope                0\n",
       "pelvic_radius               0\n",
       "degree_spondylolisthesia    0\n",
       "pelvic_slope                0\n",
       "direct_tilt                 0\n",
       "thorasic_slope              0\n",
       "cervical_slit               0\n",
       "sacrum_angle                0\n",
       "scoliosis_angle             0\n",
       "classs                      0\n",
       "dtype: int64"
      ]
     },
     "execution_count": 58,
     "metadata": {},
     "output_type": "execute_result"
    }
   ],
   "source": [
    "spine_data.isna().sum()"
   ]
  },
  {
   "cell_type": "code",
   "execution_count": 59,
   "metadata": {},
   "outputs": [
    {
     "data": {
      "text/html": [
       "<div>\n",
       "<style scoped>\n",
       "    .dataframe tbody tr th:only-of-type {\n",
       "        vertical-align: middle;\n",
       "    }\n",
       "\n",
       "    .dataframe tbody tr th {\n",
       "        vertical-align: top;\n",
       "    }\n",
       "\n",
       "    .dataframe thead th {\n",
       "        text-align: right;\n",
       "    }\n",
       "</style>\n",
       "<table border=\"1\" class=\"dataframe\">\n",
       "  <thead>\n",
       "    <tr style=\"text-align: right;\">\n",
       "      <th></th>\n",
       "      <th>count</th>\n",
       "      <th>mean</th>\n",
       "      <th>std</th>\n",
       "      <th>min</th>\n",
       "      <th>25%</th>\n",
       "      <th>50%</th>\n",
       "      <th>75%</th>\n",
       "      <th>max</th>\n",
       "    </tr>\n",
       "  </thead>\n",
       "  <tbody>\n",
       "    <tr>\n",
       "      <td>pelvic_incidence</td>\n",
       "      <td>310.0</td>\n",
       "      <td>60.496653</td>\n",
       "      <td>17.236520</td>\n",
       "      <td>26.147921</td>\n",
       "      <td>46.430294</td>\n",
       "      <td>58.691038</td>\n",
       "      <td>72.877696</td>\n",
       "      <td>129.834041</td>\n",
       "    </tr>\n",
       "    <tr>\n",
       "      <td>pelvic_tilt</td>\n",
       "      <td>310.0</td>\n",
       "      <td>17.542822</td>\n",
       "      <td>10.008330</td>\n",
       "      <td>-6.554948</td>\n",
       "      <td>10.667069</td>\n",
       "      <td>16.357689</td>\n",
       "      <td>22.120395</td>\n",
       "      <td>49.431864</td>\n",
       "    </tr>\n",
       "    <tr>\n",
       "      <td>lumbar_lordosis_angle</td>\n",
       "      <td>310.0</td>\n",
       "      <td>51.930930</td>\n",
       "      <td>18.554064</td>\n",
       "      <td>14.000000</td>\n",
       "      <td>37.000000</td>\n",
       "      <td>49.562398</td>\n",
       "      <td>63.000000</td>\n",
       "      <td>125.742385</td>\n",
       "    </tr>\n",
       "    <tr>\n",
       "      <td>sacral_slope</td>\n",
       "      <td>310.0</td>\n",
       "      <td>42.953831</td>\n",
       "      <td>13.423102</td>\n",
       "      <td>13.366931</td>\n",
       "      <td>33.347122</td>\n",
       "      <td>42.404912</td>\n",
       "      <td>52.695888</td>\n",
       "      <td>121.429566</td>\n",
       "    </tr>\n",
       "    <tr>\n",
       "      <td>pelvic_radius</td>\n",
       "      <td>310.0</td>\n",
       "      <td>117.920655</td>\n",
       "      <td>13.317377</td>\n",
       "      <td>70.082575</td>\n",
       "      <td>110.709196</td>\n",
       "      <td>118.268178</td>\n",
       "      <td>125.467674</td>\n",
       "      <td>163.071041</td>\n",
       "    </tr>\n",
       "    <tr>\n",
       "      <td>degree_spondylolisthesia</td>\n",
       "      <td>310.0</td>\n",
       "      <td>26.296694</td>\n",
       "      <td>37.559027</td>\n",
       "      <td>-11.058179</td>\n",
       "      <td>1.603727</td>\n",
       "      <td>11.767934</td>\n",
       "      <td>41.287352</td>\n",
       "      <td>418.543082</td>\n",
       "    </tr>\n",
       "    <tr>\n",
       "      <td>pelvic_slope</td>\n",
       "      <td>310.0</td>\n",
       "      <td>0.472979</td>\n",
       "      <td>0.285787</td>\n",
       "      <td>0.003220</td>\n",
       "      <td>0.224367</td>\n",
       "      <td>0.475989</td>\n",
       "      <td>0.704846</td>\n",
       "      <td>0.998827</td>\n",
       "    </tr>\n",
       "    <tr>\n",
       "      <td>direct_tilt</td>\n",
       "      <td>310.0</td>\n",
       "      <td>21.321526</td>\n",
       "      <td>8.639423</td>\n",
       "      <td>7.027000</td>\n",
       "      <td>13.054400</td>\n",
       "      <td>21.907150</td>\n",
       "      <td>28.954075</td>\n",
       "      <td>36.743900</td>\n",
       "    </tr>\n",
       "    <tr>\n",
       "      <td>thorasic_slope</td>\n",
       "      <td>310.0</td>\n",
       "      <td>13.064511</td>\n",
       "      <td>3.399713</td>\n",
       "      <td>7.037800</td>\n",
       "      <td>10.417800</td>\n",
       "      <td>12.938450</td>\n",
       "      <td>15.889525</td>\n",
       "      <td>19.324000</td>\n",
       "    </tr>\n",
       "    <tr>\n",
       "      <td>cervical_slit</td>\n",
       "      <td>310.0</td>\n",
       "      <td>11.933317</td>\n",
       "      <td>2.893265</td>\n",
       "      <td>7.030600</td>\n",
       "      <td>9.541140</td>\n",
       "      <td>11.953835</td>\n",
       "      <td>14.371810</td>\n",
       "      <td>16.821080</td>\n",
       "    </tr>\n",
       "    <tr>\n",
       "      <td>sacrum_angle</td>\n",
       "      <td>310.0</td>\n",
       "      <td>-14.053139</td>\n",
       "      <td>12.225582</td>\n",
       "      <td>-35.287375</td>\n",
       "      <td>-24.289522</td>\n",
       "      <td>-14.622856</td>\n",
       "      <td>-3.497094</td>\n",
       "      <td>6.972071</td>\n",
       "    </tr>\n",
       "    <tr>\n",
       "      <td>scoliosis_angle</td>\n",
       "      <td>310.0</td>\n",
       "      <td>25.645981</td>\n",
       "      <td>10.450558</td>\n",
       "      <td>7.007900</td>\n",
       "      <td>17.189075</td>\n",
       "      <td>24.931950</td>\n",
       "      <td>33.979600</td>\n",
       "      <td>44.341200</td>\n",
       "    </tr>\n",
       "  </tbody>\n",
       "</table>\n",
       "</div>"
      ],
      "text/plain": [
       "                          count        mean        std        min         25%  \\\n",
       "pelvic_incidence          310.0   60.496653  17.236520  26.147921   46.430294   \n",
       "pelvic_tilt               310.0   17.542822  10.008330  -6.554948   10.667069   \n",
       "lumbar_lordosis_angle     310.0   51.930930  18.554064  14.000000   37.000000   \n",
       "sacral_slope              310.0   42.953831  13.423102  13.366931   33.347122   \n",
       "pelvic_radius             310.0  117.920655  13.317377  70.082575  110.709196   \n",
       "degree_spondylolisthesia  310.0   26.296694  37.559027 -11.058179    1.603727   \n",
       "pelvic_slope              310.0    0.472979   0.285787   0.003220    0.224367   \n",
       "direct_tilt               310.0   21.321526   8.639423   7.027000   13.054400   \n",
       "thorasic_slope            310.0   13.064511   3.399713   7.037800   10.417800   \n",
       "cervical_slit             310.0   11.933317   2.893265   7.030600    9.541140   \n",
       "sacrum_angle              310.0  -14.053139  12.225582 -35.287375  -24.289522   \n",
       "scoliosis_angle           310.0   25.645981  10.450558   7.007900   17.189075   \n",
       "\n",
       "                                 50%         75%         max  \n",
       "pelvic_incidence           58.691038   72.877696  129.834041  \n",
       "pelvic_tilt                16.357689   22.120395   49.431864  \n",
       "lumbar_lordosis_angle      49.562398   63.000000  125.742385  \n",
       "sacral_slope               42.404912   52.695888  121.429566  \n",
       "pelvic_radius             118.268178  125.467674  163.071041  \n",
       "degree_spondylolisthesia   11.767934   41.287352  418.543082  \n",
       "pelvic_slope                0.475989    0.704846    0.998827  \n",
       "direct_tilt                21.907150   28.954075   36.743900  \n",
       "thorasic_slope             12.938450   15.889525   19.324000  \n",
       "cervical_slit              11.953835   14.371810   16.821080  \n",
       "sacrum_angle              -14.622856   -3.497094    6.972071  \n",
       "scoliosis_angle            24.931950   33.979600   44.341200  "
      ]
     },
     "execution_count": 59,
     "metadata": {},
     "output_type": "execute_result"
    }
   ],
   "source": [
    "spine_data.describe().transpose()"
   ]
  },
  {
   "cell_type": "code",
   "execution_count": 60,
   "metadata": {},
   "outputs": [],
   "source": [
    "from sklearn import preprocessing"
   ]
  },
  {
   "cell_type": "code",
   "execution_count": 61,
   "metadata": {},
   "outputs": [],
   "source": [
    "label_encoding = preprocessing.LabelEncoder()\n",
    "\n",
    "spine_data['classs'] = label_encoding.fit_transform(spine_data['classs'].astype(str))"
   ]
  },
  {
   "cell_type": "code",
   "execution_count": 62,
   "metadata": {},
   "outputs": [
    {
     "data": {
      "text/html": [
       "<div>\n",
       "<style scoped>\n",
       "    .dataframe tbody tr th:only-of-type {\n",
       "        vertical-align: middle;\n",
       "    }\n",
       "\n",
       "    .dataframe tbody tr th {\n",
       "        vertical-align: top;\n",
       "    }\n",
       "\n",
       "    .dataframe thead th {\n",
       "        text-align: right;\n",
       "    }\n",
       "</style>\n",
       "<table border=\"1\" class=\"dataframe\">\n",
       "  <thead>\n",
       "    <tr style=\"text-align: right;\">\n",
       "      <th></th>\n",
       "      <th>pelvic_incidence</th>\n",
       "      <th>pelvic_tilt</th>\n",
       "      <th>lumbar_lordosis_angle</th>\n",
       "      <th>sacral_slope</th>\n",
       "      <th>pelvic_radius</th>\n",
       "      <th>degree_spondylolisthesia</th>\n",
       "      <th>pelvic_slope</th>\n",
       "      <th>direct_tilt</th>\n",
       "      <th>thorasic_slope</th>\n",
       "      <th>cervical_slit</th>\n",
       "      <th>sacrum_angle</th>\n",
       "      <th>scoliosis_angle</th>\n",
       "      <th>classs</th>\n",
       "    </tr>\n",
       "  </thead>\n",
       "  <tbody>\n",
       "    <tr>\n",
       "      <td>0</td>\n",
       "      <td>74.433593</td>\n",
       "      <td>41.557331</td>\n",
       "      <td>27.700000</td>\n",
       "      <td>32.876262</td>\n",
       "      <td>107.949304</td>\n",
       "      <td>5.000089</td>\n",
       "      <td>0.606768</td>\n",
       "      <td>32.6283</td>\n",
       "      <td>9.8062</td>\n",
       "      <td>11.62142</td>\n",
       "      <td>-10.028289</td>\n",
       "      <td>9.3141</td>\n",
       "      <td>0</td>\n",
       "    </tr>\n",
       "    <tr>\n",
       "      <td>1</td>\n",
       "      <td>41.187770</td>\n",
       "      <td>5.792974</td>\n",
       "      <td>42.867392</td>\n",
       "      <td>35.394796</td>\n",
       "      <td>103.348880</td>\n",
       "      <td>27.660277</td>\n",
       "      <td>0.044130</td>\n",
       "      <td>21.0757</td>\n",
       "      <td>10.5374</td>\n",
       "      <td>9.66748</td>\n",
       "      <td>-9.571667</td>\n",
       "      <td>30.5253</td>\n",
       "      <td>0</td>\n",
       "    </tr>\n",
       "    <tr>\n",
       "      <td>2</td>\n",
       "      <td>49.782121</td>\n",
       "      <td>6.466805</td>\n",
       "      <td>53.000000</td>\n",
       "      <td>43.315316</td>\n",
       "      <td>110.864783</td>\n",
       "      <td>25.335647</td>\n",
       "      <td>0.334657</td>\n",
       "      <td>17.6515</td>\n",
       "      <td>11.7040</td>\n",
       "      <td>16.26239</td>\n",
       "      <td>-0.895590</td>\n",
       "      <td>38.4719</td>\n",
       "      <td>0</td>\n",
       "    </tr>\n",
       "    <tr>\n",
       "      <td>3</td>\n",
       "      <td>61.821627</td>\n",
       "      <td>13.597105</td>\n",
       "      <td>64.000000</td>\n",
       "      <td>48.224523</td>\n",
       "      <td>121.779803</td>\n",
       "      <td>1.296191</td>\n",
       "      <td>0.629661</td>\n",
       "      <td>17.9906</td>\n",
       "      <td>13.6082</td>\n",
       "      <td>8.34518</td>\n",
       "      <td>-10.939434</td>\n",
       "      <td>20.7594</td>\n",
       "      <td>1</td>\n",
       "    </tr>\n",
       "    <tr>\n",
       "      <td>4</td>\n",
       "      <td>83.879941</td>\n",
       "      <td>23.077427</td>\n",
       "      <td>87.141512</td>\n",
       "      <td>60.802514</td>\n",
       "      <td>124.646072</td>\n",
       "      <td>80.555605</td>\n",
       "      <td>0.436933</td>\n",
       "      <td>7.2994</td>\n",
       "      <td>11.1917</td>\n",
       "      <td>16.28150</td>\n",
       "      <td>-8.553212</td>\n",
       "      <td>24.8562</td>\n",
       "      <td>0</td>\n",
       "    </tr>\n",
       "    <tr>\n",
       "      <td>...</td>\n",
       "      <td>...</td>\n",
       "      <td>...</td>\n",
       "      <td>...</td>\n",
       "      <td>...</td>\n",
       "      <td>...</td>\n",
       "      <td>...</td>\n",
       "      <td>...</td>\n",
       "      <td>...</td>\n",
       "      <td>...</td>\n",
       "      <td>...</td>\n",
       "      <td>...</td>\n",
       "      <td>...</td>\n",
       "      <td>...</td>\n",
       "    </tr>\n",
       "    <tr>\n",
       "      <td>305</td>\n",
       "      <td>82.406524</td>\n",
       "      <td>29.276422</td>\n",
       "      <td>77.054565</td>\n",
       "      <td>53.130102</td>\n",
       "      <td>117.042244</td>\n",
       "      <td>62.765348</td>\n",
       "      <td>0.418464</td>\n",
       "      <td>29.7716</td>\n",
       "      <td>16.1890</td>\n",
       "      <td>8.58139</td>\n",
       "      <td>-31.511149</td>\n",
       "      <td>32.6221</td>\n",
       "      <td>0</td>\n",
       "    </tr>\n",
       "    <tr>\n",
       "      <td>306</td>\n",
       "      <td>115.923261</td>\n",
       "      <td>37.515436</td>\n",
       "      <td>76.800000</td>\n",
       "      <td>78.407825</td>\n",
       "      <td>104.698603</td>\n",
       "      <td>81.198927</td>\n",
       "      <td>0.542816</td>\n",
       "      <td>22.3317</td>\n",
       "      <td>8.8519</td>\n",
       "      <td>11.48960</td>\n",
       "      <td>-6.754004</td>\n",
       "      <td>32.5082</td>\n",
       "      <td>0</td>\n",
       "    </tr>\n",
       "    <tr>\n",
       "      <td>307</td>\n",
       "      <td>64.809541</td>\n",
       "      <td>15.174078</td>\n",
       "      <td>58.839994</td>\n",
       "      <td>49.635463</td>\n",
       "      <td>111.679961</td>\n",
       "      <td>21.407198</td>\n",
       "      <td>0.303206</td>\n",
       "      <td>25.2382</td>\n",
       "      <td>7.1750</td>\n",
       "      <td>10.20296</td>\n",
       "      <td>-33.025711</td>\n",
       "      <td>17.1654</td>\n",
       "      <td>0</td>\n",
       "    </tr>\n",
       "    <tr>\n",
       "      <td>308</td>\n",
       "      <td>45.075450</td>\n",
       "      <td>12.306951</td>\n",
       "      <td>44.583177</td>\n",
       "      <td>32.768499</td>\n",
       "      <td>147.894637</td>\n",
       "      <td>-8.941709</td>\n",
       "      <td>0.932922</td>\n",
       "      <td>32.1169</td>\n",
       "      <td>14.3037</td>\n",
       "      <td>10.64326</td>\n",
       "      <td>-31.198847</td>\n",
       "      <td>11.2307</td>\n",
       "      <td>1</td>\n",
       "    </tr>\n",
       "    <tr>\n",
       "      <td>309</td>\n",
       "      <td>63.619192</td>\n",
       "      <td>16.934508</td>\n",
       "      <td>49.349262</td>\n",
       "      <td>46.684684</td>\n",
       "      <td>117.089747</td>\n",
       "      <td>-0.357812</td>\n",
       "      <td>0.953932</td>\n",
       "      <td>15.5713</td>\n",
       "      <td>9.9518</td>\n",
       "      <td>15.09867</td>\n",
       "      <td>-26.758834</td>\n",
       "      <td>40.4129</td>\n",
       "      <td>1</td>\n",
       "    </tr>\n",
       "  </tbody>\n",
       "</table>\n",
       "<p>310 rows × 13 columns</p>\n",
       "</div>"
      ],
      "text/plain": [
       "     pelvic_incidence  pelvic_tilt  lumbar_lordosis_angle  sacral_slope  \\\n",
       "0           74.433593    41.557331              27.700000     32.876262   \n",
       "1           41.187770     5.792974              42.867392     35.394796   \n",
       "2           49.782121     6.466805              53.000000     43.315316   \n",
       "3           61.821627    13.597105              64.000000     48.224523   \n",
       "4           83.879941    23.077427              87.141512     60.802514   \n",
       "..                ...          ...                    ...           ...   \n",
       "305         82.406524    29.276422              77.054565     53.130102   \n",
       "306        115.923261    37.515436              76.800000     78.407825   \n",
       "307         64.809541    15.174078              58.839994     49.635463   \n",
       "308         45.075450    12.306951              44.583177     32.768499   \n",
       "309         63.619192    16.934508              49.349262     46.684684   \n",
       "\n",
       "     pelvic_radius  degree_spondylolisthesia  pelvic_slope  direct_tilt  \\\n",
       "0       107.949304                  5.000089      0.606768      32.6283   \n",
       "1       103.348880                 27.660277      0.044130      21.0757   \n",
       "2       110.864783                 25.335647      0.334657      17.6515   \n",
       "3       121.779803                  1.296191      0.629661      17.9906   \n",
       "4       124.646072                 80.555605      0.436933       7.2994   \n",
       "..             ...                       ...           ...          ...   \n",
       "305     117.042244                 62.765348      0.418464      29.7716   \n",
       "306     104.698603                 81.198927      0.542816      22.3317   \n",
       "307     111.679961                 21.407198      0.303206      25.2382   \n",
       "308     147.894637                 -8.941709      0.932922      32.1169   \n",
       "309     117.089747                 -0.357812      0.953932      15.5713   \n",
       "\n",
       "     thorasic_slope  cervical_slit  sacrum_angle  scoliosis_angle  classs  \n",
       "0            9.8062       11.62142    -10.028289           9.3141       0  \n",
       "1           10.5374        9.66748     -9.571667          30.5253       0  \n",
       "2           11.7040       16.26239     -0.895590          38.4719       0  \n",
       "3           13.6082        8.34518    -10.939434          20.7594       1  \n",
       "4           11.1917       16.28150     -8.553212          24.8562       0  \n",
       "..              ...            ...           ...              ...     ...  \n",
       "305         16.1890        8.58139    -31.511149          32.6221       0  \n",
       "306          8.8519       11.48960     -6.754004          32.5082       0  \n",
       "307          7.1750       10.20296    -33.025711          17.1654       0  \n",
       "308         14.3037       10.64326    -31.198847          11.2307       1  \n",
       "309          9.9518       15.09867    -26.758834          40.4129       1  \n",
       "\n",
       "[310 rows x 13 columns]"
      ]
     },
     "execution_count": 62,
     "metadata": {},
     "output_type": "execute_result"
    }
   ],
   "source": [
    "spine_data"
   ]
  },
  {
   "cell_type": "code",
   "execution_count": 63,
   "metadata": {},
   "outputs": [
    {
     "data": {
      "text/html": [
       "<div>\n",
       "<style scoped>\n",
       "    .dataframe tbody tr th:only-of-type {\n",
       "        vertical-align: middle;\n",
       "    }\n",
       "\n",
       "    .dataframe tbody tr th {\n",
       "        vertical-align: top;\n",
       "    }\n",
       "\n",
       "    .dataframe thead th {\n",
       "        text-align: right;\n",
       "    }\n",
       "</style>\n",
       "<table border=\"1\" class=\"dataframe\">\n",
       "  <thead>\n",
       "    <tr style=\"text-align: right;\">\n",
       "      <th></th>\n",
       "      <th>pelvic_incidence</th>\n",
       "      <th>pelvic_tilt</th>\n",
       "      <th>lumbar_lordosis_angle</th>\n",
       "      <th>sacral_slope</th>\n",
       "      <th>pelvic_radius</th>\n",
       "      <th>degree_spondylolisthesia</th>\n",
       "      <th>pelvic_slope</th>\n",
       "      <th>direct_tilt</th>\n",
       "      <th>thorasic_slope</th>\n",
       "      <th>cervical_slit</th>\n",
       "      <th>sacrum_angle</th>\n",
       "      <th>scoliosis_angle</th>\n",
       "      <th>classs</th>\n",
       "    </tr>\n",
       "  </thead>\n",
       "  <tbody>\n",
       "    <tr>\n",
       "      <td>pelvic_incidence</td>\n",
       "      <td>1.000000</td>\n",
       "      <td>0.629199</td>\n",
       "      <td>0.717282</td>\n",
       "      <td>0.814960</td>\n",
       "      <td>-0.247467</td>\n",
       "      <td>0.638743</td>\n",
       "      <td>0.043290</td>\n",
       "      <td>-0.078411</td>\n",
       "      <td>-0.089740</td>\n",
       "      <td>0.016750</td>\n",
       "      <td>0.019240</td>\n",
       "      <td>-0.007251</td>\n",
       "      <td>-0.353336</td>\n",
       "    </tr>\n",
       "    <tr>\n",
       "      <td>pelvic_tilt</td>\n",
       "      <td>0.629199</td>\n",
       "      <td>1.000000</td>\n",
       "      <td>0.432764</td>\n",
       "      <td>0.062345</td>\n",
       "      <td>0.032668</td>\n",
       "      <td>0.397862</td>\n",
       "      <td>0.008852</td>\n",
       "      <td>-0.072119</td>\n",
       "      <td>-0.063394</td>\n",
       "      <td>0.028931</td>\n",
       "      <td>0.032859</td>\n",
       "      <td>-0.056550</td>\n",
       "      <td>-0.326063</td>\n",
       "    </tr>\n",
       "    <tr>\n",
       "      <td>lumbar_lordosis_angle</td>\n",
       "      <td>0.717282</td>\n",
       "      <td>0.432764</td>\n",
       "      <td>1.000000</td>\n",
       "      <td>0.598387</td>\n",
       "      <td>-0.080344</td>\n",
       "      <td>0.533667</td>\n",
       "      <td>0.029486</td>\n",
       "      <td>-0.112939</td>\n",
       "      <td>-0.063582</td>\n",
       "      <td>0.063875</td>\n",
       "      <td>0.057199</td>\n",
       "      <td>-0.049054</td>\n",
       "      <td>-0.312484</td>\n",
       "    </tr>\n",
       "    <tr>\n",
       "      <td>sacral_slope</td>\n",
       "      <td>0.814960</td>\n",
       "      <td>0.062345</td>\n",
       "      <td>0.598387</td>\n",
       "      <td>1.000000</td>\n",
       "      <td>-0.342128</td>\n",
       "      <td>0.523557</td>\n",
       "      <td>0.048988</td>\n",
       "      <td>-0.046914</td>\n",
       "      <td>-0.067968</td>\n",
       "      <td>-0.000063</td>\n",
       "      <td>0.000207</td>\n",
       "      <td>0.032853</td>\n",
       "      <td>-0.210602</td>\n",
       "    </tr>\n",
       "    <tr>\n",
       "      <td>pelvic_radius</td>\n",
       "      <td>-0.247467</td>\n",
       "      <td>0.032668</td>\n",
       "      <td>-0.080344</td>\n",
       "      <td>-0.342128</td>\n",
       "      <td>1.000000</td>\n",
       "      <td>-0.026065</td>\n",
       "      <td>0.015767</td>\n",
       "      <td>0.063433</td>\n",
       "      <td>0.060477</td>\n",
       "      <td>-0.039800</td>\n",
       "      <td>0.029738</td>\n",
       "      <td>-0.030145</td>\n",
       "      <td>0.309857</td>\n",
       "    </tr>\n",
       "    <tr>\n",
       "      <td>degree_spondylolisthesia</td>\n",
       "      <td>0.638743</td>\n",
       "      <td>0.397862</td>\n",
       "      <td>0.533667</td>\n",
       "      <td>0.523557</td>\n",
       "      <td>-0.026065</td>\n",
       "      <td>1.000000</td>\n",
       "      <td>0.085925</td>\n",
       "      <td>-0.063812</td>\n",
       "      <td>-0.057286</td>\n",
       "      <td>0.056576</td>\n",
       "      <td>0.023021</td>\n",
       "      <td>-0.041023</td>\n",
       "      <td>-0.443687</td>\n",
       "    </tr>\n",
       "    <tr>\n",
       "      <td>pelvic_slope</td>\n",
       "      <td>0.043290</td>\n",
       "      <td>0.008852</td>\n",
       "      <td>0.029486</td>\n",
       "      <td>0.048988</td>\n",
       "      <td>0.015767</td>\n",
       "      <td>0.085925</td>\n",
       "      <td>1.000000</td>\n",
       "      <td>0.012694</td>\n",
       "      <td>-0.011770</td>\n",
       "      <td>0.088017</td>\n",
       "      <td>0.060743</td>\n",
       "      <td>-0.073893</td>\n",
       "      <td>-0.055865</td>\n",
       "    </tr>\n",
       "    <tr>\n",
       "      <td>direct_tilt</td>\n",
       "      <td>-0.078411</td>\n",
       "      <td>-0.072119</td>\n",
       "      <td>-0.112939</td>\n",
       "      <td>-0.046914</td>\n",
       "      <td>0.063433</td>\n",
       "      <td>-0.063812</td>\n",
       "      <td>0.012694</td>\n",
       "      <td>1.000000</td>\n",
       "      <td>0.009887</td>\n",
       "      <td>0.072738</td>\n",
       "      <td>-0.037428</td>\n",
       "      <td>-0.024021</td>\n",
       "      <td>0.039591</td>\n",
       "    </tr>\n",
       "    <tr>\n",
       "      <td>thorasic_slope</td>\n",
       "      <td>-0.089740</td>\n",
       "      <td>-0.063394</td>\n",
       "      <td>-0.063582</td>\n",
       "      <td>-0.067968</td>\n",
       "      <td>0.060477</td>\n",
       "      <td>-0.057286</td>\n",
       "      <td>-0.011770</td>\n",
       "      <td>0.009887</td>\n",
       "      <td>1.000000</td>\n",
       "      <td>0.052451</td>\n",
       "      <td>0.011354</td>\n",
       "      <td>0.009541</td>\n",
       "      <td>0.049354</td>\n",
       "    </tr>\n",
       "    <tr>\n",
       "      <td>cervical_slit</td>\n",
       "      <td>0.016750</td>\n",
       "      <td>0.028931</td>\n",
       "      <td>0.063875</td>\n",
       "      <td>-0.000063</td>\n",
       "      <td>-0.039800</td>\n",
       "      <td>0.056576</td>\n",
       "      <td>0.088017</td>\n",
       "      <td>0.072738</td>\n",
       "      <td>0.052451</td>\n",
       "      <td>1.000000</td>\n",
       "      <td>0.057451</td>\n",
       "      <td>0.021243</td>\n",
       "      <td>-0.100044</td>\n",
       "    </tr>\n",
       "    <tr>\n",
       "      <td>sacrum_angle</td>\n",
       "      <td>0.019240</td>\n",
       "      <td>0.032859</td>\n",
       "      <td>0.057199</td>\n",
       "      <td>0.000207</td>\n",
       "      <td>0.029738</td>\n",
       "      <td>0.023021</td>\n",
       "      <td>0.060743</td>\n",
       "      <td>-0.037428</td>\n",
       "      <td>0.011354</td>\n",
       "      <td>0.057451</td>\n",
       "      <td>1.000000</td>\n",
       "      <td>0.015337</td>\n",
       "      <td>-0.026887</td>\n",
       "    </tr>\n",
       "    <tr>\n",
       "      <td>scoliosis_angle</td>\n",
       "      <td>-0.007251</td>\n",
       "      <td>-0.056550</td>\n",
       "      <td>-0.049054</td>\n",
       "      <td>0.032853</td>\n",
       "      <td>-0.030145</td>\n",
       "      <td>-0.041023</td>\n",
       "      <td>-0.073893</td>\n",
       "      <td>-0.024021</td>\n",
       "      <td>0.009541</td>\n",
       "      <td>0.021243</td>\n",
       "      <td>0.015337</td>\n",
       "      <td>1.000000</td>\n",
       "      <td>0.069315</td>\n",
       "    </tr>\n",
       "    <tr>\n",
       "      <td>classs</td>\n",
       "      <td>-0.353336</td>\n",
       "      <td>-0.326063</td>\n",
       "      <td>-0.312484</td>\n",
       "      <td>-0.210602</td>\n",
       "      <td>0.309857</td>\n",
       "      <td>-0.443687</td>\n",
       "      <td>-0.055865</td>\n",
       "      <td>0.039591</td>\n",
       "      <td>0.049354</td>\n",
       "      <td>-0.100044</td>\n",
       "      <td>-0.026887</td>\n",
       "      <td>0.069315</td>\n",
       "      <td>1.000000</td>\n",
       "    </tr>\n",
       "  </tbody>\n",
       "</table>\n",
       "</div>"
      ],
      "text/plain": [
       "                          pelvic_incidence  pelvic_tilt  \\\n",
       "pelvic_incidence                  1.000000     0.629199   \n",
       "pelvic_tilt                       0.629199     1.000000   \n",
       "lumbar_lordosis_angle             0.717282     0.432764   \n",
       "sacral_slope                      0.814960     0.062345   \n",
       "pelvic_radius                    -0.247467     0.032668   \n",
       "degree_spondylolisthesia          0.638743     0.397862   \n",
       "pelvic_slope                      0.043290     0.008852   \n",
       "direct_tilt                      -0.078411    -0.072119   \n",
       "thorasic_slope                   -0.089740    -0.063394   \n",
       "cervical_slit                     0.016750     0.028931   \n",
       "sacrum_angle                      0.019240     0.032859   \n",
       "scoliosis_angle                  -0.007251    -0.056550   \n",
       "classs                           -0.353336    -0.326063   \n",
       "\n",
       "                          lumbar_lordosis_angle  sacral_slope  pelvic_radius  \\\n",
       "pelvic_incidence                       0.717282      0.814960      -0.247467   \n",
       "pelvic_tilt                            0.432764      0.062345       0.032668   \n",
       "lumbar_lordosis_angle                  1.000000      0.598387      -0.080344   \n",
       "sacral_slope                           0.598387      1.000000      -0.342128   \n",
       "pelvic_radius                         -0.080344     -0.342128       1.000000   \n",
       "degree_spondylolisthesia               0.533667      0.523557      -0.026065   \n",
       "pelvic_slope                           0.029486      0.048988       0.015767   \n",
       "direct_tilt                           -0.112939     -0.046914       0.063433   \n",
       "thorasic_slope                        -0.063582     -0.067968       0.060477   \n",
       "cervical_slit                          0.063875     -0.000063      -0.039800   \n",
       "sacrum_angle                           0.057199      0.000207       0.029738   \n",
       "scoliosis_angle                       -0.049054      0.032853      -0.030145   \n",
       "classs                                -0.312484     -0.210602       0.309857   \n",
       "\n",
       "                          degree_spondylolisthesia  pelvic_slope  direct_tilt  \\\n",
       "pelvic_incidence                          0.638743      0.043290    -0.078411   \n",
       "pelvic_tilt                               0.397862      0.008852    -0.072119   \n",
       "lumbar_lordosis_angle                     0.533667      0.029486    -0.112939   \n",
       "sacral_slope                              0.523557      0.048988    -0.046914   \n",
       "pelvic_radius                            -0.026065      0.015767     0.063433   \n",
       "degree_spondylolisthesia                  1.000000      0.085925    -0.063812   \n",
       "pelvic_slope                              0.085925      1.000000     0.012694   \n",
       "direct_tilt                              -0.063812      0.012694     1.000000   \n",
       "thorasic_slope                           -0.057286     -0.011770     0.009887   \n",
       "cervical_slit                             0.056576      0.088017     0.072738   \n",
       "sacrum_angle                              0.023021      0.060743    -0.037428   \n",
       "scoliosis_angle                          -0.041023     -0.073893    -0.024021   \n",
       "classs                                   -0.443687     -0.055865     0.039591   \n",
       "\n",
       "                          thorasic_slope  cervical_slit  sacrum_angle  \\\n",
       "pelvic_incidence               -0.089740       0.016750      0.019240   \n",
       "pelvic_tilt                    -0.063394       0.028931      0.032859   \n",
       "lumbar_lordosis_angle          -0.063582       0.063875      0.057199   \n",
       "sacral_slope                   -0.067968      -0.000063      0.000207   \n",
       "pelvic_radius                   0.060477      -0.039800      0.029738   \n",
       "degree_spondylolisthesia       -0.057286       0.056576      0.023021   \n",
       "pelvic_slope                   -0.011770       0.088017      0.060743   \n",
       "direct_tilt                     0.009887       0.072738     -0.037428   \n",
       "thorasic_slope                  1.000000       0.052451      0.011354   \n",
       "cervical_slit                   0.052451       1.000000      0.057451   \n",
       "sacrum_angle                    0.011354       0.057451      1.000000   \n",
       "scoliosis_angle                 0.009541       0.021243      0.015337   \n",
       "classs                          0.049354      -0.100044     -0.026887   \n",
       "\n",
       "                          scoliosis_angle    classs  \n",
       "pelvic_incidence                -0.007251 -0.353336  \n",
       "pelvic_tilt                     -0.056550 -0.326063  \n",
       "lumbar_lordosis_angle           -0.049054 -0.312484  \n",
       "sacral_slope                     0.032853 -0.210602  \n",
       "pelvic_radius                   -0.030145  0.309857  \n",
       "degree_spondylolisthesia        -0.041023 -0.443687  \n",
       "pelvic_slope                    -0.073893 -0.055865  \n",
       "direct_tilt                     -0.024021  0.039591  \n",
       "thorasic_slope                   0.009541  0.049354  \n",
       "cervical_slit                    0.021243 -0.100044  \n",
       "sacrum_angle                     0.015337 -0.026887  \n",
       "scoliosis_angle                  1.000000  0.069315  \n",
       "classs                           0.069315  1.000000  "
      ]
     },
     "execution_count": 63,
     "metadata": {},
     "output_type": "execute_result"
    }
   ],
   "source": [
    "spine_data_corr = spine_data.corr()\n",
    "\n",
    "spine_data_corr"
   ]
  },
  {
   "cell_type": "code",
   "execution_count": 64,
   "metadata": {},
   "outputs": [],
   "source": [
    "import seaborn as sns"
   ]
  },
  {
   "cell_type": "code",
   "execution_count": 65,
   "metadata": {},
   "outputs": [
    {
     "data": {
      "image/png": "[encoded data removed]",
      "text/plain": [
       "<Figure size 864x576 with 2 Axes>"
      ]
     },
     "metadata": {
      "needs_background": "light"
     },
     "output_type": "display_data"
    }
   ],
   "source": [
    "fig,ax= plt.subplots(figsize = (12,8))\n",
    "\n",
    "sns.heatmap(spine_data_corr, annot=True)\n",
    "\n",
    "ax.set_ylim(sorted(ax.get_xlim(),reverse=True))\n",
    "\n",
    "plt.show()"
   ]
  },
  {
   "cell_type": "code",
   "execution_count": 66,
   "metadata": {},
   "outputs": [],
   "source": [
    "from sklearn.model_selection import train_test_split\n",
    "\n",
    "X = spine_data.drop('classs',axis=1)\n",
    "Y = spine_data['classs']\n",
    "\n",
    "x_train,x_test,y_train,y_test = train_test_split(X,Y,test_size=0.20,random_state = RANDOM_SEED)"
   ]
  },
  {
   "cell_type": "code",
   "execution_count": 67,
   "metadata": {},
   "outputs": [],
   "source": [
    "from sklearn.neural_network import MLPClassifier"
   ]
  },
  {
   "cell_type": "code",
   "execution_count": 68,
   "metadata": {},
   "outputs": [],
   "source": [
    "mlp_clf = MLPClassifier(hidden_layer_sizes=(10,),\n",
    "                       max_iter=100,\n",
    "                       activation='relu',\n",
    "                       alpha=0.0001,\n",
    "                       solver = 'lbfgs',\n",
    "                       verbose=True)"
   ]
  },
  {
   "cell_type": "markdown",
   "metadata": {},
   "source": [
    "Instantiate the MLPClassifier and specify the hyper parameters you want for your neural network model. Here are specified exactly 1 hidden layer with 10 neurons. \n",
    "\n",
    "\n",
    "We'll run training for the maximum of 100 iterations, and the activation function that we have specified here is ReLU activation. \n",
    "\n",
    "\n",
    "In addition to ReLU activation, we've seen that the multi-layer perceptron in scikit-learn supports logistic activation. It also supports tanh activation and the activation that was just the identity function. That's when you have a linear neuron. \n",
    "\n",
    "\n",
    "The alpha parameter, which controls the regularization of a neural network, are set to 0.0001. And since our dataset is fairly small, we'll use the lbfgs optimizer to train this model. \n",
    "\n",
    "\n",
    "We are now ready to train our neural network, which we can do by simply calling fit on the training data. The classification model built using scikit-learn MLPClassifier trains by default using the cross entropy loss function. Once the model has completed training on our dataset, we can use this MLPClassifier for predictions. \n"
   ]
  },
  {
   "cell_type": "code",
   "execution_count": 69,
   "metadata": {},
   "outputs": [
    {
     "data": {
      "text/plain": [
       "MLPClassifier(activation='relu', alpha=0.0001, batch_size='auto', beta_1=0.9,\n",
       "              beta_2=0.999, early_stopping=False, epsilon=1e-08,\n",
       "              hidden_layer_sizes=(10,), learning_rate='constant',\n",
       "              learning_rate_init=0.001, max_iter=100, momentum=0.9,\n",
       "              n_iter_no_change=10, nesterovs_momentum=True, power_t=0.5,\n",
       "              random_state=None, shuffle=True, solver='lbfgs', tol=0.0001,\n",
       "              validation_fraction=0.1, verbose=True, warm_start=False)"
      ]
     },
     "execution_count": 69,
     "metadata": {},
     "output_type": "execute_result"
    }
   ],
   "source": [
    "mlp_clf.fit(x_train,y_train)"
   ]
  },
  {
   "cell_type": "code",
   "execution_count": 70,
   "metadata": {},
   "outputs": [],
   "source": [
    "y_pred = mlp_clf.predict(x_test)"
   ]
  },
  {
   "cell_type": "code",
   "execution_count": 71,
   "metadata": {},
   "outputs": [
    {
     "data": {
      "text/html": [
       "<div>\n",
       "<style scoped>\n",
       "    .dataframe tbody tr th:only-of-type {\n",
       "        vertical-align: middle;\n",
       "    }\n",
       "\n",
       "    .dataframe tbody tr th {\n",
       "        vertical-align: top;\n",
       "    }\n",
       "\n",
       "    .dataframe thead th {\n",
       "        text-align: right;\n",
       "    }\n",
       "</style>\n",
       "<table border=\"1\" class=\"dataframe\">\n",
       "  <thead>\n",
       "    <tr style=\"text-align: right;\">\n",
       "      <th></th>\n",
       "      <th>y_test</th>\n",
       "      <th>y_pred</th>\n",
       "    </tr>\n",
       "  </thead>\n",
       "  <tbody>\n",
       "    <tr>\n",
       "      <td>53</td>\n",
       "      <td>1</td>\n",
       "      <td>0</td>\n",
       "    </tr>\n",
       "    <tr>\n",
       "      <td>222</td>\n",
       "      <td>0</td>\n",
       "      <td>0</td>\n",
       "    </tr>\n",
       "    <tr>\n",
       "      <td>184</td>\n",
       "      <td>0</td>\n",
       "      <td>0</td>\n",
       "    </tr>\n",
       "    <tr>\n",
       "      <td>102</td>\n",
       "      <td>1</td>\n",
       "      <td>0</td>\n",
       "    </tr>\n",
       "    <tr>\n",
       "      <td>170</td>\n",
       "      <td>0</td>\n",
       "      <td>0</td>\n",
       "    </tr>\n",
       "    <tr>\n",
       "      <td>277</td>\n",
       "      <td>1</td>\n",
       "      <td>0</td>\n",
       "    </tr>\n",
       "    <tr>\n",
       "      <td>113</td>\n",
       "      <td>0</td>\n",
       "      <td>0</td>\n",
       "    </tr>\n",
       "    <tr>\n",
       "      <td>61</td>\n",
       "      <td>0</td>\n",
       "      <td>0</td>\n",
       "    </tr>\n",
       "    <tr>\n",
       "      <td>98</td>\n",
       "      <td>0</td>\n",
       "      <td>0</td>\n",
       "    </tr>\n",
       "    <tr>\n",
       "      <td>265</td>\n",
       "      <td>0</td>\n",
       "      <td>0</td>\n",
       "    </tr>\n",
       "  </tbody>\n",
       "</table>\n",
       "</div>"
      ],
      "text/plain": [
       "     y_test  y_pred\n",
       "53        1       0\n",
       "222       0       0\n",
       "184       0       0\n",
       "102       1       0\n",
       "170       0       0\n",
       "277       1       0\n",
       "113       0       0\n",
       "61        0       0\n",
       "98        0       0\n",
       "265       0       0"
      ]
     },
     "execution_count": 71,
     "metadata": {},
     "output_type": "execute_result"
    }
   ],
   "source": [
    "pred_results = pd.DataFrame({'y_test':y_test,\n",
    "                           'y_pred':y_pred})\n",
    "pred_results.sample(10)"
   ]
  },
  {
   "cell_type": "code",
   "execution_count": 72,
   "metadata": {},
   "outputs": [],
   "source": [
    "from sklearn.metrics import accuracy_score"
   ]
  },
  {
   "cell_type": "code",
   "execution_count": 73,
   "metadata": {},
   "outputs": [
    {
     "data": {
      "text/plain": [
       "0.6612903225806451"
      ]
     },
     "execution_count": 73,
     "metadata": {},
     "output_type": "execute_result"
    }
   ],
   "source": [
    "accuracy_score(y_test,y_pred)"
   ]
  },
  {
   "cell_type": "markdown",
   "metadata": {},
   "source": [
    "Using the features available our model was able to predict mostly correctly whether the spine was abnormal or not. Let's objectively evaluate this model using the accuracy_score on the test data, and you can see that the accuracy is 66%. That's not a fantastic model but not a bad one either. Our model predicted 66% of the input values correctly. "
   ]
  },
  {
   "cell_type": "markdown",
   "metadata": {},
   "source": [
    "### MODEL-II"
   ]
  },
  {
   "cell_type": "markdown",
   "metadata": {},
   "source": [
    "Let's change the design of our neural network to see how performance changes. We currently have 1 hidden layer with 10 neurons. I'm going to make the neural network more complex and will use 100 neurons in this hidden layer. "
   ]
  },
  {
   "cell_type": "code",
   "execution_count": 74,
   "metadata": {},
   "outputs": [
    {
     "data": {
      "text/plain": [
       "0.6612903225806451"
      ]
     },
     "execution_count": 74,
     "metadata": {},
     "output_type": "execute_result"
    }
   ],
   "source": [
    "mlp_clf = MLPClassifier(hidden_layer_sizes=(100,),\n",
    "                       max_iter=100,\n",
    "                       activation='relu',\n",
    "                       alpha=0.0001,\n",
    "                       solver = 'lbfgs',\n",
    "                       verbose=True)\n",
    "\n",
    "mlp_clf.fit(x_train,y_train)\n",
    "\n",
    "y_pred = mlp_clf.predict(x_test)\n",
    "\n",
    "accuracy_score(y_test,y_pred)"
   ]
  },
  {
   "cell_type": "markdown",
   "metadata": {},
   "source": [
    "And finally, we'll get to the accuracy score of this model, and you can see that this model didnt perform any better. "
   ]
  },
  {
   "cell_type": "markdown",
   "metadata": {},
   "source": [
    "### MODEL-III"
   ]
  },
  {
   "cell_type": "code",
   "execution_count": 75,
   "metadata": {},
   "outputs": [
    {
     "data": {
      "text/plain": [
       "0.6451612903225806"
      ]
     },
     "execution_count": 75,
     "metadata": {},
     "output_type": "execute_result"
    }
   ],
   "source": [
    "mlp_clf = MLPClassifier(hidden_layer_sizes=(100,),\n",
    "                       max_iter=100,\n",
    "                       activation='relu',\n",
    "                       alpha=0.0001,\n",
    "                       solver = 'lbfgs',\n",
    "                       verbose=True)\n",
    "\n",
    "mlp_clf.fit(x_train,y_train)\n",
    "\n",
    "y_pred = mlp_clf.predict(x_test)\n",
    "\n",
    "accuracy_score(y_test,y_pred)"
   ]
  },
  {
   "cell_type": "markdown",
   "metadata": {},
   "source": [
    "### MODEL-IV"
   ]
  },
  {
   "cell_type": "markdown",
   "metadata": {},
   "source": [
    "change this model to have 2 hidden layers both with 100 neurons. I'm steadily making this model more complex to see if that helps, "
   ]
  },
  {
   "cell_type": "code",
   "execution_count": 76,
   "metadata": {},
   "outputs": [
    {
     "data": {
      "text/plain": [
       "0.7580645161290323"
      ]
     },
     "execution_count": 76,
     "metadata": {},
     "output_type": "execute_result"
    }
   ],
   "source": [
    "mlp_clf = MLPClassifier(hidden_layer_sizes=(100,100),\n",
    "                       max_iter=100,\n",
    "                       activation='relu',\n",
    "                       alpha=0.0001,\n",
    "                       solver = 'lbfgs',\n",
    "                       verbose=True)\n",
    "\n",
    "mlp_clf.fit(x_train,y_train)\n",
    "\n",
    "y_pred = mlp_clf.predict(x_test)\n",
    "\n",
    "accuracy_score(y_test,y_pred)"
   ]
  },
  {
   "cell_type": "markdown",
   "metadata": {},
   "source": [
    "and it did. But we are still stuck at around 80%. "
   ]
  },
  {
   "cell_type": "markdown",
   "metadata": {},
   "source": [
    "### MODEL-V"
   ]
  },
  {
   "cell_type": "markdown",
   "metadata": {},
   "source": [
    "What if I trained this model for longer and used a different regularization? I'll increase max_iter to 1000 and I've changed alpha to be 0.001."
   ]
  },
  {
   "cell_type": "code",
   "execution_count": 77,
   "metadata": {},
   "outputs": [
    {
     "data": {
      "text/plain": [
       "0.6612903225806451"
      ]
     },
     "execution_count": 77,
     "metadata": {},
     "output_type": "execute_result"
    }
   ],
   "source": [
    "mlp_clf = MLPClassifier(hidden_layer_sizes=(100,100),\n",
    "                       max_iter=1000,\n",
    "                       activation='relu',\n",
    "                       alpha=0.001,\n",
    "                       solver = 'lbfgs',\n",
    "                       verbose=True)\n",
    "\n",
    "mlp_clf.fit(x_train,y_train)\n",
    "\n",
    "y_pred = mlp_clf.predict(x_test)\n",
    "\n",
    "accuracy_score(y_test,y_pred)"
   ]
  },
  {
   "cell_type": "markdown",
   "metadata": {},
   "source": [
    "WORSE"
   ]
  },
  {
   "cell_type": "markdown",
   "metadata": {},
   "source": [
    "So I have applied stronger regularization to this model and this only made the model worse."
   ]
  },
  {
   "cell_type": "markdown",
   "metadata": {},
   "source": [
    "### MODEL-VI"
   ]
  },
  {
   "cell_type": "markdown",
   "metadata": {},
   "source": [
    "change the activation function to be the logistic activation. And I'll go with 1000 iterations of training and an alpha of 0.001 and calculate the accuracy of this model on the test data, "
   ]
  },
  {
   "cell_type": "code",
   "execution_count": 80,
   "metadata": {},
   "outputs": [
    {
     "data": {
      "text/plain": [
       "0.8064516129032258"
      ]
     },
     "execution_count": 80,
     "metadata": {},
     "output_type": "execute_result"
    }
   ],
   "source": [
    "mlp_clf = MLPClassifier(hidden_layer_sizes=(100,),\n",
    "                       max_iter=1000,\n",
    "                       activation='logistic',\n",
    "                       alpha=0.001,\n",
    "                       solver = 'lbfgs',\n",
    "                       verbose=True)\n",
    "\n",
    "mlp_clf.fit(x_train,y_train)\n",
    "\n",
    "y_pred = mlp_clf.predict(x_test)\n",
    "\n",
    "accuracy_score(y_test,y_pred)"
   ]
  },
  {
   "cell_type": "markdown",
   "metadata": {},
   "source": [
    "I find that this has actually improved the model."
   ]
  },
  {
   "cell_type": "markdown",
   "metadata": {},
   "source": [
    "We used logistic activation, and with longer training, our model went back up to about 80% accuracy. You can use the pd.crosstab function to view a confusion matrix of your model's results. This will give you the actual labels verses predicted labels and how many counts your model got right or wrong. The main diagonal here is all of the test instances that your model predicted correctly. "
   ]
  },
  {
   "cell_type": "code",
   "execution_count": 83,
   "metadata": {},
   "outputs": [
    {
     "data": {
      "text/html": [
       "<div>\n",
       "<style scoped>\n",
       "    .dataframe tbody tr th:only-of-type {\n",
       "        vertical-align: middle;\n",
       "    }\n",
       "\n",
       "    .dataframe tbody tr th {\n",
       "        vertical-align: top;\n",
       "    }\n",
       "\n",
       "    .dataframe thead th {\n",
       "        text-align: right;\n",
       "    }\n",
       "</style>\n",
       "<table border=\"1\" class=\"dataframe\">\n",
       "  <thead>\n",
       "    <tr style=\"text-align: right;\">\n",
       "      <th>y_pred</th>\n",
       "      <th>0</th>\n",
       "      <th>1</th>\n",
       "    </tr>\n",
       "    <tr>\n",
       "      <th>y_test</th>\n",
       "      <th></th>\n",
       "      <th></th>\n",
       "    </tr>\n",
       "  </thead>\n",
       "  <tbody>\n",
       "    <tr>\n",
       "      <td>0</td>\n",
       "      <td>33</td>\n",
       "      <td>8</td>\n",
       "    </tr>\n",
       "    <tr>\n",
       "      <td>1</td>\n",
       "      <td>4</td>\n",
       "      <td>17</td>\n",
       "    </tr>\n",
       "  </tbody>\n",
       "</table>\n",
       "</div>"
      ],
      "text/plain": [
       "y_pred   0   1\n",
       "y_test        \n",
       "0       33   8\n",
       "1        4  17"
      ]
     },
     "execution_count": 83,
     "metadata": {},
     "output_type": "execute_result"
    }
   ],
   "source": [
    "pred_results = pd.DataFrame({'y_test':y_test,\n",
    "                           'y_pred':y_pred})\n",
    "spine_tab = pd.crosstab(pred_results.y_test,pred_results.y_pred)\n",
    "spine_tab"
   ]
  },
  {
   "cell_type": "markdown",
   "metadata": {},
   "source": [
    "Instead of using pandas, you can use the confusion_matrix utility function that scikit-learn offers. "
   ]
  },
  {
   "cell_type": "code",
   "execution_count": 84,
   "metadata": {},
   "outputs": [],
   "source": [
    "from sklearn.metrics import classification_report,confusion_matrix"
   ]
  },
  {
   "cell_type": "code",
   "execution_count": 88,
   "metadata": {},
   "outputs": [
    {
     "name": "stdout",
     "output_type": "stream",
     "text": [
      "[[33  8]\n",
      " [ 4 17]]\n"
     ]
    }
   ],
   "source": [
    "print(confusion_matrix(y_test,y_pred))"
   ]
  },
  {
   "cell_type": "markdown",
   "metadata": {},
   "source": [
    "In addition, the classifications report will also give you a quick measure of how your classification model performs. Pass in y_test and y_pred into the confusion_matrix function, and this will print out the confusion matrix to screen. "
   ]
  },
  {
   "cell_type": "code",
   "execution_count": 87,
   "metadata": {},
   "outputs": [
    {
     "name": "stdout",
     "output_type": "stream",
     "text": [
      "              precision    recall  f1-score   support\n",
      "\n",
      "           0       0.89      0.80      0.85        41\n",
      "           1       0.68      0.81      0.74        21\n",
      "\n",
      "    accuracy                           0.81        62\n",
      "   macro avg       0.79      0.81      0.79        62\n",
      "weighted avg       0.82      0.81      0.81        62\n",
      "\n"
     ]
    }
   ],
   "source": [
    "print(classification_report(y_test,y_pred))"
   ]
  },
  {
   "cell_type": "markdown",
   "metadata": {},
   "source": [
    "The classification_report utility function will give you other measures other than accuracy that you can use to evaluate your model such as precision, recall, and f1-score. Precision is a measure of how many of the positive identifications of spine abnormality your model got right, and recall is a measure of how many of the actual spine abnormalities that exist in your dataset were correctly identified by our model."
   ]
  },
  {
   "cell_type": "code",
   "execution_count": null,
   "metadata": {},
   "outputs": [],
   "source": []
  }
 ],
 "metadata": {
  "kernelspec": {
   "display_name": "Python 3",
   "language": "python",
   "name": "python3"
  },
  "language_info": {
   "codemirror_mode": {
    "name": "ipython",
    "version": 3
   },
   "file_extension": ".py",
   "mimetype": "text/x-python",
   "name": "python",
   "nbconvert_exporter": "python",
   "pygments_lexer": "ipython3",
   "version": "3.7.4"
  }
 },
 "nbformat": 4,
 "nbformat_minor": 2
}
