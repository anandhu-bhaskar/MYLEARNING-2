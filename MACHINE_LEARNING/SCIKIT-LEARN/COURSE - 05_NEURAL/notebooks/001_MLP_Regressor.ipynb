{
 "cells": [
  {
   "cell_type": "markdown",
   "metadata": {},
   "source": [
    "We've already discussed the fact that a neural network model is simply a network of interconnected layers where the neurons and the different layers are connected with one another. \n",
    "\n",
    "\n",
    "The interconnections between neurons have weights, and these weights determine how sensitive a neuron is to the output from the previous neuron. \n",
    "\n",
    "\n",
    "And the objective of the training process of the neural network is to find these weights and biases between neurons and their connections. \n",
    "\n",
    "\n",
    "\n",
    "Now, a linear regression can be performed by the simplest possible neural network, one that has just one neuron. So you have a set of points and you pass this set of points through a single neuron. \n",
    "\n",
    "\n",
    "What you'll get is simple linear regression. Now you might ask how is it that linear regression needs just one neuron? \n",
    "\n",
    "\n",
    "Well, this goes back to what exactly a neuron does to its input. It applies two simple operations, the affine transformation and the activation function. \n",
    "\n",
    "\n",
    "The affine transformation is a weighted sum of the inputs with the bias added. Well, that's simply the linear regression line. \n",
    "\n",
    "\n",
    "The simplest possible neural network, a single neuron that performs linear regression, has its activation function equal to the identity function, so there is no other activation function. \n",
    "\n",
    "\n",
    "\n",
    "You simply pass the output of the affine transformation through to the output of the neuron.\n",
    "\n",
    "\n",
    "\n",
    "Now hopefully you're already familiar with what exactly the object of a linear regression is. You have a number of data points and finding the best fit line through this data will give you a good regression line. \n",
    "\n",
    "\n",
    "The best fit line is the one that minimizes the distances from the actual point and the loss function that you have to minimize in a neural network to perform a regression is this mean square error loss. \n",
    "\n",
    "\n",
    "The mean square error is the sum of the square of the distance of these points from the regression line. \n",
    "\n",
    "\n",
    "Now minimizing this means square error occurs during the gradient process, that is the actual training of the neural network via a process called gradient descent optimization. \n",
    "\n",
    "\n",
    "\n",
    "Performing linear regression is actually an optimization problem, but the objective function is to minimize the variance of the residuals(MSE) of the regression. This is the mean square error, and this is the error that we want to minimize. \n",
    "\n",
    "\n",
    "The constraint on this optimization problem is basically how the relationship should be expressed. The relationship has to be expressed as a straight line of the form y = Wx + b. That is the formula for the regression line. And the decision variables here in this linear regression optimization problem are the values of W and b. \n",
    "\n",
    "<img src = \"../files/Capture16.png\">\n",
    "\n",
    "We're discussing the simplest possible neural network that is linear regression performed using just a single neuron, but you can imagine this and extend this to all of the weights and biases that exist in your neural network for any complex neural network. \n",
    "\n",
    "\n",
    "The training of any neural network is basically solving this optimization problem.\n",
    "\n",
    "\n",
    "Let's set up our gradient descent. We have W and b on the lower axis, and we have mean square error on the third axis. Our objective function for this optimization problem is to find the smallest possible value of the mean square error, so we want to find both W and b values that correspond to the smallest possible value of MSE. So we initialize the W and b to some value, which will be somewhere on this slope, and we then walk down the slope during the training process to converge on the best possible value of W and b using this optimization algorithm. The training process of our neural network finds these best values. \n",
    "\n",
    "\n",
    "\n",
    "The training process in the neural network involves the use of an optimizer, which is in charge of this optimization function and moves the model parameters in the direction of reducing gradient. The basic optimizer that is often used is the SGD optimizer. The SGD stands for stochastic gradient descent. This moves each parameter in the direction of reducing gradient. \n",
    "\n",
    "<img src = \"../files/Capture17.png\">\n",
    "\n",
    "\n",
    "Observe that your model parameters are multiplied by something called the learning_rate. This learning_rate determines how fast your model learns from your data. This is the size of the step in the direction of reducing gradient. \n",
    "\n",
    "\n",
    "Larger the learning rate, larger the size of the steps you take towards the bottom, but if your learning rate is too large, it's possible that you'll bounce around on the gradient slope and never find that lowest value of MSE. So this learning rate is something that you need to tweak. \n",
    "\n",
    "\n",
    "<img src = \"../files/Capture18.png\">\n",
    "\n",
    "\n",
    "There are other optimizers available such as momentum-based optimizers, which are an improvement over the plain stochastic gradient descent optimizer. These use a momentum vector to help accelerate movement towards the direction of reducing gradients. \n",
    "\n",
    "We've discussed earlier that the support for neural networks in scikit-learn is fairly limited. \n",
    "\n",
    "\n",
    "Scikit-learn also supports just a small number of optimizers. It supports the basic SGD, or stochastic gradient descent optimizer. It supports the Adam optimizer and the L- BFGS optimizer. \n",
    "\n",
    "\n",
    "We've discussed earlier that scikit-learn has neural network support for supervised learning using multi-layer perceptrons and dimensionality reduction using RBM, or restricted Boltzmann machines.\n",
    "\n",
    "Here we build our regression model using multi-layer perceptrons, or MLP. The MLPRegressor estimator object is what we'll use to set up a neural network."
   ]
  },
  {
   "cell_type": "markdown",
   "metadata": {},
   "source": [
    "# MLP"
   ]
  },
  {
   "cell_type": "markdown",
   "metadata": {},
   "source": [
    "The dataset that we'll use to build our regression models is the diet dataset available here at kaggle.com. This tracks an individual over a period of a few months, his diet, whether he exercised or not, and the weight loss that he experienced. \n",
    "\n",
    "\n",
    "The weight is expressed in two ways, stone, pounds, and ounces, and just ounces. Here are the dietary details for each date. \n",
    "\n",
    "\n",
    "We have calories intake, whether he ate 5 donuts or not, whether he exercised, walk, run, whether he had a glass of wine, and finally, the change in weight. \n",
    "\n",
    "\n",
    "Weight loss or weight gain measured in ounces. This is the column that we build a regression model to predict. This is a fairly small dataset. \n",
    "\n",
    "\n"
   ]
  },
  {
   "cell_type": "code",
   "execution_count": 1,
   "metadata": {},
   "outputs": [],
   "source": [
    "import pandas as pd\n",
    "import numpy as np\n",
    "import matplotlib.pyplot as plt\n",
    "import sklearn"
   ]
  },
  {
   "cell_type": "code",
   "execution_count": 2,
   "metadata": {},
   "outputs": [],
   "source": [
    "diet_data = pd.read_csv(\"../datasets/diet_data.csv\")"
   ]
  },
  {
   "cell_type": "code",
   "execution_count": 3,
   "metadata": {},
   "outputs": [
    {
     "data": {
      "text/html": [
       "<div>\n",
       "<style scoped>\n",
       "    .dataframe tbody tr th:only-of-type {\n",
       "        vertical-align: middle;\n",
       "    }\n",
       "\n",
       "    .dataframe tbody tr th {\n",
       "        vertical-align: top;\n",
       "    }\n",
       "\n",
       "    .dataframe thead th {\n",
       "        text-align: right;\n",
       "    }\n",
       "</style>\n",
       "<table border=\"1\" class=\"dataframe\">\n",
       "  <thead>\n",
       "    <tr style=\"text-align: right;\">\n",
       "      <th></th>\n",
       "      <th>Date</th>\n",
       "      <th>Stone</th>\n",
       "      <th>Pounds</th>\n",
       "      <th>Ounces</th>\n",
       "      <th>weight_oz</th>\n",
       "      <th>calories</th>\n",
       "      <th>cals_per_oz</th>\n",
       "      <th>five_donuts</th>\n",
       "      <th>walk</th>\n",
       "      <th>run</th>\n",
       "      <th>wine</th>\n",
       "      <th>prot</th>\n",
       "      <th>weight</th>\n",
       "      <th>change</th>\n",
       "    </tr>\n",
       "  </thead>\n",
       "  <tbody>\n",
       "    <tr>\n",
       "      <td>0</td>\n",
       "      <td>7/30/2018</td>\n",
       "      <td>12.0</td>\n",
       "      <td>2.0</td>\n",
       "      <td>6.0</td>\n",
       "      <td>2726.0</td>\n",
       "      <td>1950.0</td>\n",
       "      <td>0.72</td>\n",
       "      <td>1.0</td>\n",
       "      <td>1.0</td>\n",
       "      <td>0.0</td>\n",
       "      <td>0.0</td>\n",
       "      <td>0.0</td>\n",
       "      <td>0.0</td>\n",
       "      <td>-30.0</td>\n",
       "    </tr>\n",
       "    <tr>\n",
       "      <td>1</td>\n",
       "      <td>7/31/2018</td>\n",
       "      <td>12.0</td>\n",
       "      <td>0.0</td>\n",
       "      <td>8.0</td>\n",
       "      <td>2696.0</td>\n",
       "      <td>2600.0</td>\n",
       "      <td>0.96</td>\n",
       "      <td>1.0</td>\n",
       "      <td>0.0</td>\n",
       "      <td>0.0</td>\n",
       "      <td>0.0</td>\n",
       "      <td>0.0</td>\n",
       "      <td>0.0</td>\n",
       "      <td>8.0</td>\n",
       "    </tr>\n",
       "    <tr>\n",
       "      <td>2</td>\n",
       "      <td>8/1/2018</td>\n",
       "      <td>12.0</td>\n",
       "      <td>1.0</td>\n",
       "      <td>0.0</td>\n",
       "      <td>2704.0</td>\n",
       "      <td>2500.0</td>\n",
       "      <td>0.92</td>\n",
       "      <td>1.0</td>\n",
       "      <td>1.0</td>\n",
       "      <td>0.0</td>\n",
       "      <td>0.0</td>\n",
       "      <td>0.0</td>\n",
       "      <td>0.0</td>\n",
       "      <td>0.0</td>\n",
       "    </tr>\n",
       "    <tr>\n",
       "      <td>3</td>\n",
       "      <td>8/2/2018</td>\n",
       "      <td>12.0</td>\n",
       "      <td>1.0</td>\n",
       "      <td>0.0</td>\n",
       "      <td>2704.0</td>\n",
       "      <td>1850.0</td>\n",
       "      <td>0.68</td>\n",
       "      <td>1.0</td>\n",
       "      <td>1.0</td>\n",
       "      <td>0.0</td>\n",
       "      <td>1.0</td>\n",
       "      <td>0.0</td>\n",
       "      <td>0.0</td>\n",
       "      <td>-40.0</td>\n",
       "    </tr>\n",
       "    <tr>\n",
       "      <td>4</td>\n",
       "      <td>8/3/2018</td>\n",
       "      <td>11.0</td>\n",
       "      <td>12.0</td>\n",
       "      <td>8.0</td>\n",
       "      <td>2664.0</td>\n",
       "      <td>2900.0</td>\n",
       "      <td>1.09</td>\n",
       "      <td>1.0</td>\n",
       "      <td>1.0</td>\n",
       "      <td>0.0</td>\n",
       "      <td>0.0</td>\n",
       "      <td>0.0</td>\n",
       "      <td>0.0</td>\n",
       "      <td>14.0</td>\n",
       "    </tr>\n",
       "  </tbody>\n",
       "</table>\n",
       "</div>"
      ],
      "text/plain": [
       "        Date  Stone  Pounds  Ounces  weight_oz  calories cals_per_oz  \\\n",
       "0  7/30/2018   12.0     2.0     6.0     2726.0    1950.0        0.72   \n",
       "1  7/31/2018   12.0     0.0     8.0     2696.0    2600.0        0.96   \n",
       "2   8/1/2018   12.0     1.0     0.0     2704.0    2500.0        0.92   \n",
       "3   8/2/2018   12.0     1.0     0.0     2704.0    1850.0        0.68   \n",
       "4   8/3/2018   11.0    12.0     8.0     2664.0    2900.0        1.09   \n",
       "\n",
       "   five_donuts  walk  run  wine  prot  weight  change  \n",
       "0          1.0   1.0  0.0   0.0   0.0     0.0   -30.0  \n",
       "1          1.0   0.0  0.0   0.0   0.0     0.0     8.0  \n",
       "2          1.0   1.0  0.0   0.0   0.0     0.0     0.0  \n",
       "3          1.0   1.0  0.0   1.0   0.0     0.0   -40.0  \n",
       "4          1.0   1.0  0.0   0.0   0.0     0.0    14.0  "
      ]
     },
     "execution_count": 3,
     "metadata": {},
     "output_type": "execute_result"
    }
   ],
   "source": [
    "diet_data.head()"
   ]
  },
  {
   "cell_type": "code",
   "execution_count": 4,
   "metadata": {},
   "outputs": [],
   "source": [
    "diet_data = diet_data.sample(frac=1).reset_index(drop=True)"
   ]
  },
  {
   "cell_type": "code",
   "execution_count": 5,
   "metadata": {},
   "outputs": [
    {
     "data": {
      "text/html": [
       "<div>\n",
       "<style scoped>\n",
       "    .dataframe tbody tr th:only-of-type {\n",
       "        vertical-align: middle;\n",
       "    }\n",
       "\n",
       "    .dataframe tbody tr th {\n",
       "        vertical-align: top;\n",
       "    }\n",
       "\n",
       "    .dataframe thead th {\n",
       "        text-align: right;\n",
       "    }\n",
       "</style>\n",
       "<table border=\"1\" class=\"dataframe\">\n",
       "  <thead>\n",
       "    <tr style=\"text-align: right;\">\n",
       "      <th></th>\n",
       "      <th>Date</th>\n",
       "      <th>Stone</th>\n",
       "      <th>Pounds</th>\n",
       "      <th>Ounces</th>\n",
       "      <th>weight_oz</th>\n",
       "      <th>calories</th>\n",
       "      <th>cals_per_oz</th>\n",
       "      <th>five_donuts</th>\n",
       "      <th>walk</th>\n",
       "      <th>run</th>\n",
       "      <th>wine</th>\n",
       "      <th>prot</th>\n",
       "      <th>weight</th>\n",
       "      <th>change</th>\n",
       "    </tr>\n",
       "  </thead>\n",
       "  <tbody>\n",
       "    <tr>\n",
       "      <td>0</td>\n",
       "      <td>9/2/2018</td>\n",
       "      <td>12.0</td>\n",
       "      <td>1.0</td>\n",
       "      <td>6.0</td>\n",
       "      <td>2710.0</td>\n",
       "      <td>4600.0</td>\n",
       "      <td>1.70</td>\n",
       "      <td>0.0</td>\n",
       "      <td>0.0</td>\n",
       "      <td>0.0</td>\n",
       "      <td>1.0</td>\n",
       "      <td>0.0</td>\n",
       "      <td>0.0</td>\n",
       "      <td>14.0</td>\n",
       "    </tr>\n",
       "    <tr>\n",
       "      <td>1</td>\n",
       "      <td>9/26/2018</td>\n",
       "      <td>11.0</td>\n",
       "      <td>13.0</td>\n",
       "      <td>2.0</td>\n",
       "      <td>2674.0</td>\n",
       "      <td>2300.0</td>\n",
       "      <td>0.86</td>\n",
       "      <td>0.0</td>\n",
       "      <td>1.0</td>\n",
       "      <td>0.0</td>\n",
       "      <td>0.0</td>\n",
       "      <td>1.0</td>\n",
       "      <td>1.0</td>\n",
       "      <td>6.0</td>\n",
       "    </tr>\n",
       "    <tr>\n",
       "      <td>2</td>\n",
       "      <td>8/29/2018</td>\n",
       "      <td>11.0</td>\n",
       "      <td>12.0</td>\n",
       "      <td>0.0</td>\n",
       "      <td>2656.0</td>\n",
       "      <td>2150.0</td>\n",
       "      <td>0.81</td>\n",
       "      <td>0.0</td>\n",
       "      <td>1.0</td>\n",
       "      <td>1.0</td>\n",
       "      <td>0.0</td>\n",
       "      <td>0.0</td>\n",
       "      <td>0.0</td>\n",
       "      <td>-16.0</td>\n",
       "    </tr>\n",
       "    <tr>\n",
       "      <td>3</td>\n",
       "      <td>10/16/2018</td>\n",
       "      <td>12.0</td>\n",
       "      <td>1.0</td>\n",
       "      <td>6.0</td>\n",
       "      <td>2710.0</td>\n",
       "      <td>2300.0</td>\n",
       "      <td>0.85</td>\n",
       "      <td>1.0</td>\n",
       "      <td>1.0</td>\n",
       "      <td>0.0</td>\n",
       "      <td>0.0</td>\n",
       "      <td>0.0</td>\n",
       "      <td>1.0</td>\n",
       "      <td>-34.0</td>\n",
       "    </tr>\n",
       "    <tr>\n",
       "      <td>4</td>\n",
       "      <td>8/19/2018</td>\n",
       "      <td>12.0</td>\n",
       "      <td>0.0</td>\n",
       "      <td>6.0</td>\n",
       "      <td>2694.0</td>\n",
       "      <td>4200.0</td>\n",
       "      <td>1.56</td>\n",
       "      <td>0.0</td>\n",
       "      <td>0.0</td>\n",
       "      <td>0.0</td>\n",
       "      <td>1.0</td>\n",
       "      <td>0.0</td>\n",
       "      <td>0.0</td>\n",
       "      <td>16.0</td>\n",
       "    </tr>\n",
       "  </tbody>\n",
       "</table>\n",
       "</div>"
      ],
      "text/plain": [
       "         Date  Stone  Pounds  Ounces  weight_oz  calories cals_per_oz  \\\n",
       "0    9/2/2018   12.0     1.0     6.0     2710.0    4600.0        1.70   \n",
       "1   9/26/2018   11.0    13.0     2.0     2674.0    2300.0        0.86   \n",
       "2   8/29/2018   11.0    12.0     0.0     2656.0    2150.0        0.81   \n",
       "3  10/16/2018   12.0     1.0     6.0     2710.0    2300.0        0.85   \n",
       "4   8/19/2018   12.0     0.0     6.0     2694.0    4200.0        1.56   \n",
       "\n",
       "   five_donuts  walk  run  wine  prot  weight  change  \n",
       "0          0.0   0.0  0.0   1.0   0.0     0.0    14.0  \n",
       "1          0.0   1.0  0.0   0.0   1.0     1.0     6.0  \n",
       "2          0.0   1.0  1.0   0.0   0.0     0.0   -16.0  \n",
       "3          1.0   1.0  0.0   0.0   0.0     1.0   -34.0  \n",
       "4          0.0   0.0  0.0   1.0   0.0     0.0    16.0  "
      ]
     },
     "execution_count": 5,
     "metadata": {},
     "output_type": "execute_result"
    }
   ],
   "source": [
    "diet_data.head() # shuffling ensures that our model doesn't pickup inadvertant patterns"
   ]
  },
  {
   "cell_type": "code",
   "execution_count": 6,
   "metadata": {},
   "outputs": [
    {
     "data": {
      "text/plain": [
       "(151, 14)"
      ]
     },
     "execution_count": 6,
     "metadata": {},
     "output_type": "execute_result"
    }
   ],
   "source": [
    "diet_data.shape"
   ]
  },
  {
   "cell_type": "code",
   "execution_count": 7,
   "metadata": {},
   "outputs": [
    {
     "data": {
      "text/plain": [
       "Date            object\n",
       "Stone          float64\n",
       "Pounds         float64\n",
       "Ounces         float64\n",
       "weight_oz      float64\n",
       "calories       float64\n",
       "cals_per_oz     object\n",
       "five_donuts    float64\n",
       "walk           float64\n",
       "run            float64\n",
       "wine           float64\n",
       "prot           float64\n",
       "weight         float64\n",
       "change         float64\n",
       "dtype: object"
      ]
     },
     "execution_count": 7,
     "metadata": {},
     "output_type": "execute_result"
    }
   ],
   "source": [
    "diet_data.dtypes"
   ]
  },
  {
   "cell_type": "code",
   "execution_count": 8,
   "metadata": {},
   "outputs": [
    {
     "data": {
      "text/plain": [
       "Date            1\n",
       "Stone           9\n",
       "Pounds          9\n",
       "Ounces          9\n",
       "weight_oz       2\n",
       "calories       11\n",
       "cals_per_oz     4\n",
       "five_donuts    11\n",
       "walk           11\n",
       "run            11\n",
       "wine           11\n",
       "prot           11\n",
       "weight         11\n",
       "change          4\n",
       "dtype: int64"
      ]
     },
     "execution_count": 8,
     "metadata": {},
     "output_type": "execute_result"
    }
   ],
   "source": [
    "diet_data.isna().sum()"
   ]
  },
  {
   "cell_type": "code",
   "execution_count": 9,
   "metadata": {},
   "outputs": [
    {
     "data": {
      "text/plain": [
       "11"
      ]
     },
     "execution_count": 9,
     "metadata": {},
     "output_type": "execute_result"
    }
   ],
   "source": [
    "# no. of rows with missing values\n",
    "\n",
    "diet_data.shape[0] - diet_data.dropna().shape[0]"
   ]
  },
  {
   "cell_type": "code",
   "execution_count": 10,
   "metadata": {},
   "outputs": [
    {
     "data": {
      "text/plain": [
       "115"
      ]
     },
     "execution_count": 10,
     "metadata": {},
     "output_type": "execute_result"
    }
   ],
   "source": [
    "# Total no of missing values- cells\n",
    "\n",
    "diet_data.isnull().values.ravel().sum()"
   ]
  },
  {
   "cell_type": "code",
   "execution_count": 11,
   "metadata": {},
   "outputs": [],
   "source": [
    "diet_data.dropna(inplace=True)"
   ]
  },
  {
   "cell_type": "code",
   "execution_count": 12,
   "metadata": {},
   "outputs": [
    {
     "data": {
      "text/plain": [
       "Date           0\n",
       "Stone          0\n",
       "Pounds         0\n",
       "Ounces         0\n",
       "weight_oz      0\n",
       "calories       0\n",
       "cals_per_oz    0\n",
       "five_donuts    0\n",
       "walk           0\n",
       "run            0\n",
       "wine           0\n",
       "prot           0\n",
       "weight         0\n",
       "change         0\n",
       "dtype: int64"
      ]
     },
     "execution_count": 12,
     "metadata": {},
     "output_type": "execute_result"
    }
   ],
   "source": [
    "diet_data[diet_data.isnull().any(axis=1)].count() #check if any missing values left"
   ]
  },
  {
   "cell_type": "code",
   "execution_count": 13,
   "metadata": {},
   "outputs": [
    {
     "data": {
      "text/plain": [
       "(140, 14)"
      ]
     },
     "execution_count": 13,
     "metadata": {},
     "output_type": "execute_result"
    }
   ],
   "source": [
    "diet_data.shape"
   ]
  },
  {
   "cell_type": "code",
   "execution_count": 14,
   "metadata": {},
   "outputs": [
    {
     "data": {
      "text/html": [
       "<div>\n",
       "<style scoped>\n",
       "    .dataframe tbody tr th:only-of-type {\n",
       "        vertical-align: middle;\n",
       "    }\n",
       "\n",
       "    .dataframe tbody tr th {\n",
       "        vertical-align: top;\n",
       "    }\n",
       "\n",
       "    .dataframe thead th {\n",
       "        text-align: right;\n",
       "    }\n",
       "</style>\n",
       "<table border=\"1\" class=\"dataframe\">\n",
       "  <thead>\n",
       "    <tr style=\"text-align: right;\">\n",
       "      <th></th>\n",
       "      <th>Stone</th>\n",
       "      <th>Pounds</th>\n",
       "      <th>Ounces</th>\n",
       "      <th>weight_oz</th>\n",
       "      <th>calories</th>\n",
       "      <th>five_donuts</th>\n",
       "      <th>walk</th>\n",
       "      <th>run</th>\n",
       "      <th>wine</th>\n",
       "      <th>prot</th>\n",
       "      <th>weight</th>\n",
       "      <th>change</th>\n",
       "    </tr>\n",
       "  </thead>\n",
       "  <tbody>\n",
       "    <tr>\n",
       "      <td>count</td>\n",
       "      <td>140.000000</td>\n",
       "      <td>140.000000</td>\n",
       "      <td>140.000000</td>\n",
       "      <td>140.000000</td>\n",
       "      <td>140.000000</td>\n",
       "      <td>140.000000</td>\n",
       "      <td>140.000000</td>\n",
       "      <td>140.000000</td>\n",
       "      <td>140.000000</td>\n",
       "      <td>140.000000</td>\n",
       "      <td>140.000000</td>\n",
       "      <td>140.000000</td>\n",
       "    </tr>\n",
       "    <tr>\n",
       "      <td>mean</td>\n",
       "      <td>11.542857</td>\n",
       "      <td>6.157143</td>\n",
       "      <td>3.585714</td>\n",
       "      <td>2687.700000</td>\n",
       "      <td>3180.714286</td>\n",
       "      <td>0.371429</td>\n",
       "      <td>0.678571</td>\n",
       "      <td>0.250000</td>\n",
       "      <td>0.307143</td>\n",
       "      <td>0.178571</td>\n",
       "      <td>0.442857</td>\n",
       "      <td>-1.485714</td>\n",
       "    </tr>\n",
       "    <tr>\n",
       "      <td>std</td>\n",
       "      <td>0.499949</td>\n",
       "      <td>5.664824</td>\n",
       "      <td>2.913589</td>\n",
       "      <td>28.663189</td>\n",
       "      <td>1478.753433</td>\n",
       "      <td>0.484922</td>\n",
       "      <td>0.468702</td>\n",
       "      <td>0.434568</td>\n",
       "      <td>0.462966</td>\n",
       "      <td>0.384368</td>\n",
       "      <td>0.498508</td>\n",
       "      <td>25.098793</td>\n",
       "    </tr>\n",
       "    <tr>\n",
       "      <td>min</td>\n",
       "      <td>11.000000</td>\n",
       "      <td>0.000000</td>\n",
       "      <td>0.000000</td>\n",
       "      <td>2628.000000</td>\n",
       "      <td>1400.000000</td>\n",
       "      <td>0.000000</td>\n",
       "      <td>0.000000</td>\n",
       "      <td>0.000000</td>\n",
       "      <td>0.000000</td>\n",
       "      <td>0.000000</td>\n",
       "      <td>0.000000</td>\n",
       "      <td>-58.000000</td>\n",
       "    </tr>\n",
       "    <tr>\n",
       "      <td>25%</td>\n",
       "      <td>11.000000</td>\n",
       "      <td>1.000000</td>\n",
       "      <td>0.000000</td>\n",
       "      <td>2670.000000</td>\n",
       "      <td>2187.500000</td>\n",
       "      <td>0.000000</td>\n",
       "      <td>0.000000</td>\n",
       "      <td>0.000000</td>\n",
       "      <td>0.000000</td>\n",
       "      <td>0.000000</td>\n",
       "      <td>0.000000</td>\n",
       "      <td>-18.000000</td>\n",
       "    </tr>\n",
       "    <tr>\n",
       "      <td>50%</td>\n",
       "      <td>12.000000</td>\n",
       "      <td>3.000000</td>\n",
       "      <td>4.000000</td>\n",
       "      <td>2689.000000</td>\n",
       "      <td>2575.000000</td>\n",
       "      <td>0.000000</td>\n",
       "      <td>1.000000</td>\n",
       "      <td>0.000000</td>\n",
       "      <td>0.000000</td>\n",
       "      <td>0.000000</td>\n",
       "      <td>0.000000</td>\n",
       "      <td>-3.000000</td>\n",
       "    </tr>\n",
       "    <tr>\n",
       "      <td>75%</td>\n",
       "      <td>12.000000</td>\n",
       "      <td>12.000000</td>\n",
       "      <td>6.000000</td>\n",
       "      <td>2704.000000</td>\n",
       "      <td>3850.000000</td>\n",
       "      <td>1.000000</td>\n",
       "      <td>1.000000</td>\n",
       "      <td>0.250000</td>\n",
       "      <td>1.000000</td>\n",
       "      <td>0.000000</td>\n",
       "      <td>1.000000</td>\n",
       "      <td>16.000000</td>\n",
       "    </tr>\n",
       "    <tr>\n",
       "      <td>max</td>\n",
       "      <td>12.000000</td>\n",
       "      <td>13.000000</td>\n",
       "      <td>8.000000</td>\n",
       "      <td>2768.000000</td>\n",
       "      <td>9150.000000</td>\n",
       "      <td>1.000000</td>\n",
       "      <td>1.000000</td>\n",
       "      <td>1.000000</td>\n",
       "      <td>1.000000</td>\n",
       "      <td>1.000000</td>\n",
       "      <td>1.000000</td>\n",
       "      <td>102.000000</td>\n",
       "    </tr>\n",
       "  </tbody>\n",
       "</table>\n",
       "</div>"
      ],
      "text/plain": [
       "            Stone      Pounds      Ounces    weight_oz     calories  \\\n",
       "count  140.000000  140.000000  140.000000   140.000000   140.000000   \n",
       "mean    11.542857    6.157143    3.585714  2687.700000  3180.714286   \n",
       "std      0.499949    5.664824    2.913589    28.663189  1478.753433   \n",
       "min     11.000000    0.000000    0.000000  2628.000000  1400.000000   \n",
       "25%     11.000000    1.000000    0.000000  2670.000000  2187.500000   \n",
       "50%     12.000000    3.000000    4.000000  2689.000000  2575.000000   \n",
       "75%     12.000000   12.000000    6.000000  2704.000000  3850.000000   \n",
       "max     12.000000   13.000000    8.000000  2768.000000  9150.000000   \n",
       "\n",
       "       five_donuts        walk         run        wine        prot  \\\n",
       "count   140.000000  140.000000  140.000000  140.000000  140.000000   \n",
       "mean      0.371429    0.678571    0.250000    0.307143    0.178571   \n",
       "std       0.484922    0.468702    0.434568    0.462966    0.384368   \n",
       "min       0.000000    0.000000    0.000000    0.000000    0.000000   \n",
       "25%       0.000000    0.000000    0.000000    0.000000    0.000000   \n",
       "50%       0.000000    1.000000    0.000000    0.000000    0.000000   \n",
       "75%       1.000000    1.000000    0.250000    1.000000    0.000000   \n",
       "max       1.000000    1.000000    1.000000    1.000000    1.000000   \n",
       "\n",
       "           weight      change  \n",
       "count  140.000000  140.000000  \n",
       "mean     0.442857   -1.485714  \n",
       "std      0.498508   25.098793  \n",
       "min      0.000000  -58.000000  \n",
       "25%      0.000000  -18.000000  \n",
       "50%      0.000000   -3.000000  \n",
       "75%      1.000000   16.000000  \n",
       "max      1.000000  102.000000  "
      ]
     },
     "execution_count": 14,
     "metadata": {},
     "output_type": "execute_result"
    }
   ],
   "source": [
    "diet_data.describe()"
   ]
  },
  {
   "cell_type": "markdown",
   "metadata": {},
   "source": [
    "You can see here that the mean and the standard deviation of the different features are very different. \n",
    "\n",
    "\n",
    "Neural network models built using scikit- learn's multi-layer perceptron are very sensitive to feature scaling, so you want to standardize these features so they have mean equal to 0 and a unit variance. \n",
    "\n",
    "\n"
   ]
  },
  {
   "cell_type": "code",
   "execution_count": 15,
   "metadata": {},
   "outputs": [
    {
     "data": {
      "image/png": "[encoded data removed]",
      "text/plain": [
       "<Figure size 864x576 with 1 Axes>"
      ]
     },
     "metadata": {
      "needs_background": "light"
     },
     "output_type": "display_data"
    }
   ],
   "source": [
    "fig,ax = plt.subplots(figsize= (12,8))\n",
    "\n",
    "plt.scatter(diet_data['calories'],diet_data['change'])\n",
    "\n",
    "plt.xlabel(\"Calories\")\n",
    "plt.ylabel(\"Change\")\n",
    "plt.show()"
   ]
  },
  {
   "cell_type": "markdown",
   "metadata": {},
   "source": [
    "Let's see the relationship between calories and change in weight, and this scatter plot shows us very clearly that there is a linear relationship. Clearly calories consumed on a day affects the change in weight for the individual. "
   ]
  },
  {
   "cell_type": "code",
   "execution_count": 16,
   "metadata": {},
   "outputs": [
    {
     "data": {
      "image/png": "[encoded data removed]",
      "text/plain": [
       "<Figure size 864x576 with 1 Axes>"
      ]
     },
     "metadata": {
      "needs_background": "light"
     },
     "output_type": "display_data"
    }
   ],
   "source": [
    "fig,ax = plt.subplots(figsize= (12,8))\n",
    "\n",
    "plt.scatter(diet_data['wine'],diet_data['change'])\n",
    "\n",
    "plt.xlabel(\"WINE\")\n",
    "plt.ylabel(\"Change\")\n",
    "plt.show()"
   ]
  },
  {
   "cell_type": "markdown",
   "metadata": {},
   "source": [
    "Let's take look at another relationship here. Whether or not the person consumed wine on a particular day and the change in weight. Wine consumption is a category variable, the person consumed wine or not, and this is what the scatter plot looks like. You can see that it seems like that the days he consumes wine, the change in weight is higher. "
   ]
  },
  {
   "cell_type": "code",
   "execution_count": 17,
   "metadata": {},
   "outputs": [
    {
     "data": {
      "text/html": [
       "<div>\n",
       "<style scoped>\n",
       "    .dataframe tbody tr th:only-of-type {\n",
       "        vertical-align: middle;\n",
       "    }\n",
       "\n",
       "    .dataframe tbody tr th {\n",
       "        vertical-align: top;\n",
       "    }\n",
       "\n",
       "    .dataframe thead th {\n",
       "        text-align: right;\n",
       "    }\n",
       "</style>\n",
       "<table border=\"1\" class=\"dataframe\">\n",
       "  <thead>\n",
       "    <tr style=\"text-align: right;\">\n",
       "      <th></th>\n",
       "      <th>Stone</th>\n",
       "      <th>Pounds</th>\n",
       "      <th>Ounces</th>\n",
       "      <th>weight_oz</th>\n",
       "      <th>calories</th>\n",
       "      <th>five_donuts</th>\n",
       "      <th>walk</th>\n",
       "      <th>run</th>\n",
       "      <th>wine</th>\n",
       "      <th>prot</th>\n",
       "      <th>weight</th>\n",
       "      <th>change</th>\n",
       "    </tr>\n",
       "  </thead>\n",
       "  <tbody>\n",
       "    <tr>\n",
       "      <td>Stone</td>\n",
       "      <td>1.000000</td>\n",
       "      <td>-0.980384</td>\n",
       "      <td>-0.190219</td>\n",
       "      <td>0.787595</td>\n",
       "      <td>0.002099</td>\n",
       "      <td>0.052567</td>\n",
       "      <td>-0.109649</td>\n",
       "      <td>-0.033113</td>\n",
       "      <td>-0.072821</td>\n",
       "      <td>-0.133707</td>\n",
       "      <td>0.009897</td>\n",
       "      <td>-0.286142</td>\n",
       "    </tr>\n",
       "    <tr>\n",
       "      <td>Pounds</td>\n",
       "      <td>-0.980384</td>\n",
       "      <td>1.000000</td>\n",
       "      <td>0.157404</td>\n",
       "      <td>-0.652264</td>\n",
       "      <td>-0.030854</td>\n",
       "      <td>-0.029257</td>\n",
       "      <td>0.122125</td>\n",
       "      <td>0.054065</td>\n",
       "      <td>0.030841</td>\n",
       "      <td>0.135703</td>\n",
       "      <td>0.010845</td>\n",
       "      <td>0.214880</td>\n",
       "    </tr>\n",
       "    <tr>\n",
       "      <td>Ounces</td>\n",
       "      <td>-0.190219</td>\n",
       "      <td>0.157404</td>\n",
       "      <td>1.000000</td>\n",
       "      <td>-0.143811</td>\n",
       "      <td>-0.012220</td>\n",
       "      <td>0.007856</td>\n",
       "      <td>0.049295</td>\n",
       "      <td>-0.031251</td>\n",
       "      <td>0.041677</td>\n",
       "      <td>0.040839</td>\n",
       "      <td>0.008350</td>\n",
       "      <td>0.123744</td>\n",
       "    </tr>\n",
       "    <tr>\n",
       "      <td>weight_oz</td>\n",
       "      <td>0.787595</td>\n",
       "      <td>-0.652264</td>\n",
       "      <td>-0.143811</td>\n",
       "      <td>1.000000</td>\n",
       "      <td>-0.090605</td>\n",
       "      <td>0.113664</td>\n",
       "      <td>-0.037218</td>\n",
       "      <td>0.038408</td>\n",
       "      <td>-0.182756</td>\n",
       "      <td>-0.089135</td>\n",
       "      <td>0.073811</td>\n",
       "      <td>-0.425912</td>\n",
       "    </tr>\n",
       "    <tr>\n",
       "      <td>calories</td>\n",
       "      <td>0.002099</td>\n",
       "      <td>-0.030854</td>\n",
       "      <td>-0.012220</td>\n",
       "      <td>-0.090605</td>\n",
       "      <td>1.000000</td>\n",
       "      <td>-0.239251</td>\n",
       "      <td>-0.434065</td>\n",
       "      <td>0.000840</td>\n",
       "      <td>0.270376</td>\n",
       "      <td>0.073819</td>\n",
       "      <td>0.123413</td>\n",
       "      <td>0.773989</td>\n",
       "    </tr>\n",
       "    <tr>\n",
       "      <td>five_donuts</td>\n",
       "      <td>0.052567</td>\n",
       "      <td>-0.029257</td>\n",
       "      <td>0.007856</td>\n",
       "      <td>0.113664</td>\n",
       "      <td>-0.239251</td>\n",
       "      <td>1.000000</td>\n",
       "      <td>0.275835</td>\n",
       "      <td>-0.136558</td>\n",
       "      <td>-0.159311</td>\n",
       "      <td>-0.281215</td>\n",
       "      <td>-0.149653</td>\n",
       "      <td>-0.214417</td>\n",
       "    </tr>\n",
       "    <tr>\n",
       "      <td>walk</td>\n",
       "      <td>-0.109649</td>\n",
       "      <td>0.122125</td>\n",
       "      <td>0.049295</td>\n",
       "      <td>-0.037218</td>\n",
       "      <td>-0.434065</td>\n",
       "      <td>0.275835</td>\n",
       "      <td>1.000000</td>\n",
       "      <td>-0.132453</td>\n",
       "      <td>-0.072229</td>\n",
       "      <td>0.201095</td>\n",
       "      <td>0.059382</td>\n",
       "      <td>-0.384581</td>\n",
       "    </tr>\n",
       "    <tr>\n",
       "      <td>run</td>\n",
       "      <td>-0.033113</td>\n",
       "      <td>0.054065</td>\n",
       "      <td>-0.031251</td>\n",
       "      <td>0.038408</td>\n",
       "      <td>0.000840</td>\n",
       "      <td>-0.136558</td>\n",
       "      <td>-0.132453</td>\n",
       "      <td>1.000000</td>\n",
       "      <td>-0.062577</td>\n",
       "      <td>-0.053838</td>\n",
       "      <td>0.249068</td>\n",
       "      <td>-0.150387</td>\n",
       "    </tr>\n",
       "    <tr>\n",
       "      <td>wine</td>\n",
       "      <td>-0.072821</td>\n",
       "      <td>0.030841</td>\n",
       "      <td>0.041677</td>\n",
       "      <td>-0.182756</td>\n",
       "      <td>0.270376</td>\n",
       "      <td>-0.159311</td>\n",
       "      <td>-0.072229</td>\n",
       "      <td>-0.062577</td>\n",
       "      <td>1.000000</td>\n",
       "      <td>-0.027434</td>\n",
       "      <td>-0.063680</td>\n",
       "      <td>0.215387</td>\n",
       "    </tr>\n",
       "    <tr>\n",
       "      <td>prot</td>\n",
       "      <td>-0.133707</td>\n",
       "      <td>0.135703</td>\n",
       "      <td>0.040839</td>\n",
       "      <td>-0.089135</td>\n",
       "      <td>0.073819</td>\n",
       "      <td>-0.281215</td>\n",
       "      <td>0.201095</td>\n",
       "      <td>-0.053838</td>\n",
       "      <td>-0.027434</td>\n",
       "      <td>1.000000</td>\n",
       "      <td>0.522965</td>\n",
       "      <td>0.035156</td>\n",
       "    </tr>\n",
       "    <tr>\n",
       "      <td>weight</td>\n",
       "      <td>0.009897</td>\n",
       "      <td>0.010845</td>\n",
       "      <td>0.008350</td>\n",
       "      <td>0.073811</td>\n",
       "      <td>0.123413</td>\n",
       "      <td>-0.149653</td>\n",
       "      <td>0.059382</td>\n",
       "      <td>0.249068</td>\n",
       "      <td>-0.063680</td>\n",
       "      <td>0.522965</td>\n",
       "      <td>1.000000</td>\n",
       "      <td>0.038015</td>\n",
       "    </tr>\n",
       "    <tr>\n",
       "      <td>change</td>\n",
       "      <td>-0.286142</td>\n",
       "      <td>0.214880</td>\n",
       "      <td>0.123744</td>\n",
       "      <td>-0.425912</td>\n",
       "      <td>0.773989</td>\n",
       "      <td>-0.214417</td>\n",
       "      <td>-0.384581</td>\n",
       "      <td>-0.150387</td>\n",
       "      <td>0.215387</td>\n",
       "      <td>0.035156</td>\n",
       "      <td>0.038015</td>\n",
       "      <td>1.000000</td>\n",
       "    </tr>\n",
       "  </tbody>\n",
       "</table>\n",
       "</div>"
      ],
      "text/plain": [
       "                Stone    Pounds    Ounces  weight_oz  calories  five_donuts  \\\n",
       "Stone        1.000000 -0.980384 -0.190219   0.787595  0.002099     0.052567   \n",
       "Pounds      -0.980384  1.000000  0.157404  -0.652264 -0.030854    -0.029257   \n",
       "Ounces      -0.190219  0.157404  1.000000  -0.143811 -0.012220     0.007856   \n",
       "weight_oz    0.787595 -0.652264 -0.143811   1.000000 -0.090605     0.113664   \n",
       "calories     0.002099 -0.030854 -0.012220  -0.090605  1.000000    -0.239251   \n",
       "five_donuts  0.052567 -0.029257  0.007856   0.113664 -0.239251     1.000000   \n",
       "walk        -0.109649  0.122125  0.049295  -0.037218 -0.434065     0.275835   \n",
       "run         -0.033113  0.054065 -0.031251   0.038408  0.000840    -0.136558   \n",
       "wine        -0.072821  0.030841  0.041677  -0.182756  0.270376    -0.159311   \n",
       "prot        -0.133707  0.135703  0.040839  -0.089135  0.073819    -0.281215   \n",
       "weight       0.009897  0.010845  0.008350   0.073811  0.123413    -0.149653   \n",
       "change      -0.286142  0.214880  0.123744  -0.425912  0.773989    -0.214417   \n",
       "\n",
       "                 walk       run      wine      prot    weight    change  \n",
       "Stone       -0.109649 -0.033113 -0.072821 -0.133707  0.009897 -0.286142  \n",
       "Pounds       0.122125  0.054065  0.030841  0.135703  0.010845  0.214880  \n",
       "Ounces       0.049295 -0.031251  0.041677  0.040839  0.008350  0.123744  \n",
       "weight_oz   -0.037218  0.038408 -0.182756 -0.089135  0.073811 -0.425912  \n",
       "calories    -0.434065  0.000840  0.270376  0.073819  0.123413  0.773989  \n",
       "five_donuts  0.275835 -0.136558 -0.159311 -0.281215 -0.149653 -0.214417  \n",
       "walk         1.000000 -0.132453 -0.072229  0.201095  0.059382 -0.384581  \n",
       "run         -0.132453  1.000000 -0.062577 -0.053838  0.249068 -0.150387  \n",
       "wine        -0.072229 -0.062577  1.000000 -0.027434 -0.063680  0.215387  \n",
       "prot         0.201095 -0.053838 -0.027434  1.000000  0.522965  0.035156  \n",
       "weight       0.059382  0.249068 -0.063680  0.522965  1.000000  0.038015  \n",
       "change      -0.384581 -0.150387  0.215387  0.035156  0.038015  1.000000  "
      ]
     },
     "execution_count": 17,
     "metadata": {},
     "output_type": "execute_result"
    }
   ],
   "source": [
    "diet_data_corr = diet_data.corr()\n",
    "diet_data_corr"
   ]
  },
  {
   "cell_type": "markdown",
   "metadata": {},
   "source": [
    "Instead of viewing relationships a pair of variables at a time, you can simply set up a correlation matrix. A correlation matrix contains an entry for each pair of variables, and this is a number between -1 and 1.\n",
    "\n",
    "And the number is 1, those two variables are perfectly positively correlated. This means that the change in value of one variable is proportioned to the change in the value of the other."
   ]
  },
  {
   "cell_type": "markdown",
   "metadata": {},
   "source": [
    "- Observe the variable calories and change. You can see that it has a correlation of 0.77. That is very highly positively correlated.Also the positive value indicates that the change is in the same direction.\n",
    "\n",
    "\n",
    "- Let's take a look at another pair of variables, walk and change. You can see that these are negatively correlated. When a person walks, there is a change in weight in the opposite direction.\n",
    "\n",
    "\n",
    "- Exercise seems to make him lose weight, consuming more calories seems to make him gain weight. That makes sense."
   ]
  },
  {
   "cell_type": "code",
   "execution_count": 18,
   "metadata": {},
   "outputs": [],
   "source": [
    "import seaborn as sns"
   ]
  },
  {
   "cell_type": "code",
   "execution_count": 19,
   "metadata": {},
   "outputs": [
    {
     "data": {
      "image/png": "[encoded data removed]",
      "text/plain": [
       "<Figure size 864x576 with 2 Axes>"
      ]
     },
     "metadata": {
      "needs_background": "light"
     },
     "output_type": "display_data"
    }
   ],
   "source": [
    "fig,ax = plt.subplots(figsize= (12,8))\n",
    "\n",
    "sns.heatmap(diet_data_corr,annot=True)\n",
    "ax.set_ylim(sorted(ax.get_xlim(),reverse=True))\n",
    "plt.show()"
   ]
  },
  {
   "cell_type": "markdown",
   "metadata": {},
   "source": [
    " - Calories, walk, and wine are positively correlated with the change in weight.\n",
    " \n",
    " \n",
    "Now that we've explored our data, we are ready to set up the features and targets to train our regression model. The X values that we use for training will include all columns except the change, which is the target, date, stone, pounds, and ounces. The information in these columns is captured in the weight and ounces columns, so we can go ahead and drop these columns as well. "
   ]
  },
  {
   "cell_type": "code",
   "execution_count": 20,
   "metadata": {},
   "outputs": [],
   "source": [
    "from sklearn.model_selection import train_test_split\n",
    "\n",
    "X = diet_data.drop(columns = ['change','Date','Stone','Pounds','Ounces'])\n",
    "Y = diet_data['change']\n",
    "x_train,x_test,y_train,y_test = train_test_split(X,Y,test_size=0.2)"
   ]
  },
  {
   "cell_type": "markdown",
   "metadata": {},
   "source": [
    "the target that we train our regression model to predict is the change in weight. \n",
    "\n",
    "We'll now use scikit-learn's standard scaler to standardize the numeric features in our data. We'll pre-process all numeric features to have 0 mean and unit variance. This is the recommended option when you're building models using the multi-layer perceptron in scikit-learn. "
   ]
  },
  {
   "cell_type": "code",
   "execution_count": 21,
   "metadata": {},
   "outputs": [],
   "source": [
    "from sklearn.preprocessing import StandardScaler"
   ]
  },
  {
   "cell_type": "code",
   "execution_count": 22,
   "metadata": {},
   "outputs": [],
   "source": [
    "scaler = StandardScaler()\n",
    "scaler.fit(x_train)\n",
    "\n",
    "x_train = scaler.transform(x_train)\n",
    "x_test  = scaler.transform(x_test)"
   ]
  },
  {
   "cell_type": "markdown",
   "metadata": {},
   "source": [
    "If the scales of your numeric features are not that really different, you'll find that neural networks work well in scikit-learn even without scaling of features. "
   ]
  },
  {
   "cell_type": "markdown",
   "metadata": {},
   "source": [
    "# Build and Train a Neural Network Using the MLPRegressor"
   ]
  },
  {
   "cell_type": "markdown",
   "metadata": {},
   "source": [
    "We are now ready to build our neural network regression model using scikit-learn's MLPRegressor. \n",
    "\n",
    "\n",
    "Go ahead and import MLPRegressor from sklearn.neural_network. The MLPRegressor allows you to configure the layers of your neural network and outputs continuous values for the prediction problem.\n",
    "\n",
    "\n",
    "You can instantiate this estimator object for a neural network just like you would any other scikit estimator. \n",
    "\n",
    "\n",
    "The activation function I want to use for the hidden layers of this model is the ReLU activation. \n",
    "\n",
    "\n",
    "Remember that the activation function is what allows the neurons in your neural network learn non-linear relationships and data. \n",
    "\n",
    "\n",
    "This first multi-layer perceptron I want to keep very, very simple. It's going to have just one hidden layer, and that's going to have just one neuron. \n",
    "\n",
    "\n",
    "Hidden_layer_sizes is a tuple that allows you to specify the number of hidden layers in your model and the number of neurons in each hidden layer. \n"
   ]
  },
  {
   "cell_type": "code",
   "execution_count": 23,
   "metadata": {},
   "outputs": [],
   "source": [
    "from sklearn.neural_network import MLPRegressor"
   ]
  },
  {
   "cell_type": "markdown",
   "metadata": {},
   "source": [
    "Under the hood, the MLPRegressor uses the mean square error loss to train your neural network, and it also uses an optimization algorithm. "
   ]
  },
  {
   "cell_type": "code",
   "execution_count": 24,
   "metadata": {},
   "outputs": [],
   "source": [
    "mlp_reg = MLPRegressor(activation='relu',\n",
    "                      hidden_layer_sizes=(1,),\n",
    "                      solver = 'lbfgs',\n",
    "                      verbose = True,\n",
    "                      max_iter=100)"
   ]
  },
  {
   "cell_type": "markdown",
   "metadata": {},
   "source": [
    "You have a number of choices for the optimization algorithm in the MLPRegressor. This lbfgs optimizer that we have specified converges well for small datasets such as ours and performs faster.\n",
    "\n",
    "\n",
    "This high-level estimator object makes it very easy to train your neural networks and fit on the training data just like you would with any other scikit estimator. \n",
    "\n",
    "\n",
    "Invoking fit, we'll train this neural network using back propogation to update more parameters. "
   ]
  },
  {
   "cell_type": "code",
   "execution_count": 25,
   "metadata": {},
   "outputs": [
    {
     "data": {
      "text/plain": [
       "MLPRegressor(activation='relu', alpha=0.0001, batch_size='auto', beta_1=0.9,\n",
       "             beta_2=0.999, early_stopping=False, epsilon=1e-08,\n",
       "             hidden_layer_sizes=(1,), learning_rate='constant',\n",
       "             learning_rate_init=0.001, max_iter=100, momentum=0.9,\n",
       "             n_iter_no_change=10, nesterovs_momentum=True, power_t=0.5,\n",
       "             random_state=None, shuffle=True, solver='lbfgs', tol=0.0001,\n",
       "             validation_fraction=0.1, verbose=True, warm_start=False)"
      ]
     },
     "execution_count": 25,
     "metadata": {},
     "output_type": "execute_result"
    }
   ],
   "source": [
    "mlp_reg.fit(x_train,y_train)"
   ]
  },
  {
   "cell_type": "markdown",
   "metadata": {},
   "source": [
    "- The multi-layer perceptron in scikit-learn uses the mean square error loss as the default loss function for regression models. \n",
    "\n",
    "\n",
    "-  Because I'd set verbose to True when I had instantiated this estimator, when I invoke the fit function, the hyper parameters of my neural network are displayed to screen.\n",
    "\n",
    "\n",
    "- Observe that the batch_size here is auto. This basically means that if there are 200 samples or less in your dataset, the entire dataset would be fed in at one go, otherwise, it'll be batched into batches of 200. \n",
    "\n",
    "\n",
    "- The default learning_rate of your neural network is 0.001. This is basically the rate at which the model learns from the training data. \n",
    "\n",
    "\n",
    "- This is the size of the step that the optimizer takes while stepping down the gradient slope when it tries to minimize the loss function and find the best parameters for your model. \n",
    "\n",
    "\n",
    "- Constant indicates that the initial learning rate does not change during training. \n",
    "\n",
    "\n",
    "Neural networks in scikit-learn help mitigate overfitting on the training data using regularization. \n",
    "\n",
    "\n",
    "Alpha here is the L2 regularization penalty, which penalizes models with complex coefficients, forcing a model to keep things simple. \n",
    "\n",
    "\n",
    "Now that we have a trained neural network, albeit with just a single neuron in the hidden layer and ReLU activation, let's use it for a prediction. \n",
    "\n"
   ]
  },
  {
   "cell_type": "code",
   "execution_count": 26,
   "metadata": {},
   "outputs": [],
   "source": [
    "y_pred = mlp_reg.predict(x_test)"
   ]
  },
  {
   "cell_type": "code",
   "execution_count": 27,
   "metadata": {},
   "outputs": [],
   "source": [
    "from sklearn.metrics import r2_score"
   ]
  },
  {
   "cell_type": "code",
   "execution_count": 28,
   "metadata": {},
   "outputs": [
    {
     "data": {
      "text/plain": [
       "0.7511491727112488"
      ]
     },
     "execution_count": 28,
     "metadata": {},
     "output_type": "execute_result"
    }
   ],
   "source": [
    "mlp_reg.score(x_train,y_train)"
   ]
  },
  {
   "cell_type": "markdown",
   "metadata": {},
   "source": [
    "Well call predict on the test data and store predicted values in y_pred. We now evaluate our regression model using the r2_score. \n",
    "\n",
    "\n",
    "The r2 is a measure of how much of the variance in the underlying data has been captured by our regression model. \n",
    "\n",
    "\n",
    "If your model has a high r2, that indicates a good fit, that's a good model, though very high r2s may indicate overfitting as well. This cost function on the regression will calculate the r2 score on the training data, which is 75%. That's pretty high. "
   ]
  },
  {
   "cell_type": "markdown",
   "metadata": {},
   "source": [
    "Let's see how our model performed on the test data. Let's calculate the r2 score. "
   ]
  },
  {
   "cell_type": "code",
   "execution_count": 29,
   "metadata": {},
   "outputs": [
    {
     "data": {
      "text/plain": [
       "0.7279163936924142"
      ]
     },
     "execution_count": 29,
     "metadata": {},
     "output_type": "execute_result"
    }
   ],
   "source": [
    "r2_score(y_test,y_pred)"
   ]
  },
  {
   "cell_type": "markdown",
   "metadata": {},
   "source": [
    "The r2 score on the test data is 72.79. This is a good model because it did well even on instances it hasn't seen before. It seems like our model is a good one. \n",
    "\n",
    "Let's see the predicted values from our model as compared with the actual values in the test data in the form of a line plot. "
   ]
  },
  {
   "cell_type": "code",
   "execution_count": 30,
   "metadata": {},
   "outputs": [
    {
     "data": {
      "image/png": "[encoded data removed]",
      "text/plain": [
       "<Figure size 1440x720 with 1 Axes>"
      ]
     },
     "metadata": {
      "needs_background": "light"
     },
     "output_type": "display_data"
    }
   ],
   "source": [
    "plt.figure(figsize=(20,10))\n",
    "\n",
    "plt.plot(y_pred,label=\"Predicted\")\n",
    "plt.plot(y_test.values,label=\"Actual\")\n",
    "\n",
    "plt.ylabel(\"Change in weight\")\n",
    "plt.legend()\n",
    "plt.show()"
   ]
  },
  {
   "cell_type": "markdown",
   "metadata": {},
   "source": [
    "You can see that these two lines track each other very closely. The predicted values are very close to the actual values. \n",
    "\n",
    "\n",
    "### model - II\n",
    "\n",
    "Now this neural network with one neuron in the hidden layer and ReLU activation is kind of boring. Let's change this. I'm going to keep the activation function the same, the ReLU activation, but I've changed the size of the hidden layer to have 5 neurons.\n",
    "\n",
    "\n"
   ]
  },
  {
   "cell_type": "code",
   "execution_count": 31,
   "metadata": {},
   "outputs": [],
   "source": [
    "#5 neurons\n",
    "mlp_reg2 = MLPRegressor(activation='relu',\n",
    "                      hidden_layer_sizes=(5,),\n",
    "                      solver = 'lbfgs',\n",
    "                      verbose = True,\n",
    "                      max_iter=100)"
   ]
  },
  {
   "cell_type": "markdown",
   "metadata": {},
   "source": [
    "I'll call it fit to train the model, and then we'll score the model."
   ]
  },
  {
   "cell_type": "code",
   "execution_count": 32,
   "metadata": {},
   "outputs": [
    {
     "data": {
      "text/plain": [
       "MLPRegressor(activation='relu', alpha=0.0001, batch_size='auto', beta_1=0.9,\n",
       "             beta_2=0.999, early_stopping=False, epsilon=1e-08,\n",
       "             hidden_layer_sizes=(5,), learning_rate='constant',\n",
       "             learning_rate_init=0.001, max_iter=100, momentum=0.9,\n",
       "             n_iter_no_change=10, nesterovs_momentum=True, power_t=0.5,\n",
       "             random_state=None, shuffle=True, solver='lbfgs', tol=0.0001,\n",
       "             validation_fraction=0.1, verbose=True, warm_start=False)"
      ]
     },
     "execution_count": 32,
     "metadata": {},
     "output_type": "execute_result"
    }
   ],
   "source": [
    "mlp_reg2.fit(x_train,y_train)"
   ]
  },
  {
   "cell_type": "code",
   "execution_count": 33,
   "metadata": {},
   "outputs": [],
   "source": [
    "y_pred = mlp_reg2.predict(x_test)"
   ]
  },
  {
   "cell_type": "code",
   "execution_count": 34,
   "metadata": {},
   "outputs": [
    {
     "data": {
      "text/plain": [
       "0.8681770929609336"
      ]
     },
     "execution_count": 34,
     "metadata": {},
     "output_type": "execute_result"
    }
   ],
   "source": [
    "mlp_reg2.score(x_train,y_train)"
   ]
  },
  {
   "cell_type": "markdown",
   "metadata": {},
   "source": [
    "We made our model more complex, and this has increased the r2 score on the training data to 86%. This seems like a good thing until you try this model out on the test data "
   ]
  },
  {
   "cell_type": "code",
   "execution_count": 35,
   "metadata": {},
   "outputs": [
    {
     "data": {
      "text/plain": [
       "0.6944396222886109"
      ]
     },
     "execution_count": 35,
     "metadata": {},
     "output_type": "execute_result"
    }
   ],
   "source": [
    "r2_score(y_test,y_pred)"
   ]
  },
  {
   "cell_type": "markdown",
   "metadata": {},
   "source": [
    "And you can see that the r2 score has fallen to 69%. \n",
    "\n",
    "With a higher r2 score on the training data and a lower r2 on the test data, this can only mean that this model has overfit on the training data. "
   ]
  },
  {
   "cell_type": "markdown",
   "metadata": {},
   "source": [
    "### Model-III"
   ]
  },
  {
   "cell_type": "markdown",
   "metadata": {},
   "source": [
    "Let's go back and change our neural network. This time we'll have two hidden layers, the first one with 2 neurons and the second one with 4 neurons. The activation function remains the same, ReLU activation. "
   ]
  },
  {
   "cell_type": "code",
   "execution_count": 48,
   "metadata": {},
   "outputs": [],
   "source": [
    "# 2 neurons on layer1 & 4 neurons in layer2\n",
    "mlp_reg3 = MLPRegressor(activation='relu',\n",
    "                      hidden_layer_sizes=(2,4),\n",
    "                      solver = 'lbfgs',\n",
    "                      verbose = True,\n",
    "                      max_iter=100)"
   ]
  },
  {
   "cell_type": "markdown",
   "metadata": {},
   "source": [
    "I'll call it fit to train the model, and then we'll score the model."
   ]
  },
  {
   "cell_type": "code",
   "execution_count": 49,
   "metadata": {},
   "outputs": [
    {
     "data": {
      "text/plain": [
       "MLPRegressor(activation='relu', alpha=0.0001, batch_size='auto', beta_1=0.9,\n",
       "             beta_2=0.999, early_stopping=False, epsilon=1e-08,\n",
       "             hidden_layer_sizes=(2, 4), learning_rate='constant',\n",
       "             learning_rate_init=0.001, max_iter=100, momentum=0.9,\n",
       "             n_iter_no_change=10, nesterovs_momentum=True, power_t=0.5,\n",
       "             random_state=None, shuffle=True, solver='lbfgs', tol=0.0001,\n",
       "             validation_fraction=0.1, verbose=True, warm_start=False)"
      ]
     },
     "execution_count": 49,
     "metadata": {},
     "output_type": "execute_result"
    }
   ],
   "source": [
    "mlp_reg3.fit(x_train,y_train)"
   ]
  },
  {
   "cell_type": "code",
   "execution_count": 50,
   "metadata": {},
   "outputs": [],
   "source": [
    "y_pred = mlp_reg3.predict(x_test)"
   ]
  },
  {
   "cell_type": "code",
   "execution_count": 51,
   "metadata": {},
   "outputs": [
    {
     "data": {
      "text/plain": [
       "0.814439202615965"
      ]
     },
     "execution_count": 51,
     "metadata": {},
     "output_type": "execute_result"
    }
   ],
   "source": [
    "mlp_reg3.score(x_train,y_train)"
   ]
  },
  {
   "cell_type": "markdown",
   "metadata": {},
   "source": [
    "r2 score on the training data is now 81.4 %, still very high. "
   ]
  },
  {
   "cell_type": "code",
   "execution_count": 35,
   "metadata": {},
   "outputs": [
    {
     "data": {
      "text/plain": [
       "0.6944396222886109"
      ]
     },
     "execution_count": 35,
     "metadata": {},
     "output_type": "execute_result"
    }
   ],
   "source": [
    "r2_score(y_test,y_pred)"
   ]
  },
  {
   "cell_type": "markdown",
   "metadata": {},
   "source": [
    "Let's see how it looks on the test data, and the r2 is 69%. \n",
    "\n",
    "\n",
    "Now, still not as good as the very simple first neural network that we built with one neuron, but an improvement over the previous model where we had one hidden layer with five neurons. \n",
    "\n",
    "\n",
    "Let's change this neural network once again. This time we won't change the configuration of the layers, but we'll change the activation function. "
   ]
  },
  {
   "cell_type": "markdown",
   "metadata": {},
   "source": [
    "### Model-IV"
   ]
  },
  {
   "cell_type": "markdown",
   "metadata": {},
   "source": [
    "We'll change the activation function to be the logistic or the sigmoid activation function. This is in the shape of an S. "
   ]
  },
  {
   "cell_type": "code",
   "execution_count": 54,
   "metadata": {},
   "outputs": [],
   "source": [
    "# 2 neurons on layer1 & 4 neurons in layer2\n",
    "mlp_reg4 = MLPRegressor(activation='logistic',\n",
    "                      hidden_layer_sizes=(2,4),\n",
    "                      solver = 'lbfgs',\n",
    "                      verbose = True,\n",
    "                      max_iter=100)"
   ]
  },
  {
   "cell_type": "code",
   "execution_count": 55,
   "metadata": {},
   "outputs": [
    {
     "data": {
      "text/plain": [
       "MLPRegressor(activation='logistic', alpha=0.0001, batch_size='auto', beta_1=0.9,\n",
       "             beta_2=0.999, early_stopping=False, epsilon=1e-08,\n",
       "             hidden_layer_sizes=(2, 4), learning_rate='constant',\n",
       "             learning_rate_init=0.001, max_iter=100, momentum=0.9,\n",
       "             n_iter_no_change=10, nesterovs_momentum=True, power_t=0.5,\n",
       "             random_state=None, shuffle=True, solver='lbfgs', tol=0.0001,\n",
       "             validation_fraction=0.1, verbose=True, warm_start=False)"
      ]
     },
     "execution_count": 55,
     "metadata": {},
     "output_type": "execute_result"
    }
   ],
   "source": [
    "mlp_reg4.fit(x_train,y_train)"
   ]
  },
  {
   "cell_type": "code",
   "execution_count": 56,
   "metadata": {},
   "outputs": [],
   "source": [
    "y_pred = mlp_reg4.predict(x_test)"
   ]
  },
  {
   "cell_type": "code",
   "execution_count": 57,
   "metadata": {},
   "outputs": [
    {
     "data": {
      "text/plain": [
       "0.6292954955127629"
      ]
     },
     "execution_count": 57,
     "metadata": {},
     "output_type": "execute_result"
    }
   ],
   "source": [
    "mlp_reg4.score(x_train,y_train)"
   ]
  },
  {
   "cell_type": "code",
   "execution_count": 58,
   "metadata": {},
   "outputs": [
    {
     "data": {
      "text/plain": [
       "0.7463882241511703"
      ]
     },
     "execution_count": 58,
     "metadata": {},
     "output_type": "execute_result"
    }
   ],
   "source": [
    "r2_score(y_test,y_pred)"
   ]
  },
  {
   "cell_type": "markdown",
   "metadata": {},
   "source": [
    "When we execute the remaining code cells, you can see that overall for the same model this model performs worse with logistic activation for the training, as well as the test data. "
   ]
  },
  {
   "cell_type": "markdown",
   "metadata": {},
   "source": [
    "### Model - V"
   ]
  },
  {
   "cell_type": "markdown",
   "metadata": {},
   "source": [
    "Let's change our neural network model one last time. I'll switch back to ReLU activation since that clearly works well, but I'm going to add three hidden layers, 2 neurons, 6 neurons, and 4 neurons are present in these layers. \n",
    "\n"
   ]
  },
  {
   "cell_type": "markdown",
   "metadata": {},
   "source": [
    "Let's go ahead and see what the r2 score is on the training data. "
   ]
  },
  {
   "cell_type": "code",
   "execution_count": 60,
   "metadata": {},
   "outputs": [],
   "source": [
    "# 2 neurons on layer1 & 6 neurons in layer2 & 4 neurons in layer 3\n",
    "mlp_reg5 = MLPRegressor(activation='relu',\n",
    "                      hidden_layer_sizes=(2,6,4),\n",
    "                      solver = 'lbfgs',\n",
    "                      verbose = True,\n",
    "                      max_iter=100)"
   ]
  },
  {
   "cell_type": "code",
   "execution_count": 61,
   "metadata": {},
   "outputs": [
    {
     "data": {
      "text/plain": [
       "MLPRegressor(activation='relu', alpha=0.0001, batch_size='auto', beta_1=0.9,\n",
       "             beta_2=0.999, early_stopping=False, epsilon=1e-08,\n",
       "             hidden_layer_sizes=(2, 6, 4), learning_rate='constant',\n",
       "             learning_rate_init=0.001, max_iter=100, momentum=0.9,\n",
       "             n_iter_no_change=10, nesterovs_momentum=True, power_t=0.5,\n",
       "             random_state=None, shuffle=True, solver='lbfgs', tol=0.0001,\n",
       "             validation_fraction=0.1, verbose=True, warm_start=False)"
      ]
     },
     "execution_count": 61,
     "metadata": {},
     "output_type": "execute_result"
    }
   ],
   "source": [
    "mlp_reg5.fit(x_train,y_train)"
   ]
  },
  {
   "cell_type": "code",
   "execution_count": 62,
   "metadata": {},
   "outputs": [],
   "source": [
    "y_pred = mlp_reg5.predict(x_test)"
   ]
  },
  {
   "cell_type": "code",
   "execution_count": 63,
   "metadata": {},
   "outputs": [
    {
     "data": {
      "text/plain": [
       "0.8102621737493473"
      ]
     },
     "execution_count": 63,
     "metadata": {},
     "output_type": "execute_result"
    }
   ],
   "source": [
    "mlp_reg5.score(x_train,y_train)"
   ]
  },
  {
   "cell_type": "markdown",
   "metadata": {},
   "source": [
    "It's 81%, but how does it perform on the test data?"
   ]
  },
  {
   "cell_type": "code",
   "execution_count": 64,
   "metadata": {},
   "outputs": [
    {
     "data": {
      "text/plain": [
       "0.7981529301409491"
      ]
     },
     "execution_count": 64,
     "metadata": {},
     "output_type": "execute_result"
    }
   ],
   "source": [
    "r2_score(y_test,y_pred)"
   ]
  },
  {
   "cell_type": "markdown",
   "metadata": {},
   "source": [
    "R2 is 72%. A definite improvement. "
   ]
  },
  {
   "cell_type": "markdown",
   "metadata": {},
   "source": [
    "What we did here was essentially hyperparameter tuning of our neural network. We saw that for our data, simpler models worked well and having a single layer with many neurons did not perform so well. ReLU activation worked better than logistic activation."
   ]
  },
  {
   "cell_type": "code",
   "execution_count": null,
   "metadata": {},
   "outputs": [],
   "source": []
  }
 ],
 "metadata": {
  "kernelspec": {
   "display_name": "Python 3",
   "language": "python",
   "name": "python3"
  },
  "language_info": {
   "codemirror_mode": {
    "name": "ipython",
    "version": 3
   },
   "file_extension": ".py",
   "mimetype": "text/x-python",
   "name": "python",
   "nbconvert_exporter": "python",
   "pygments_lexer": "ipython3",
   "version": "3.7.4"
  }
 },
 "nbformat": 4,
 "nbformat_minor": 2
}
