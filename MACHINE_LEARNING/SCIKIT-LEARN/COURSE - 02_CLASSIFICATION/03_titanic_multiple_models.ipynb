{
 "cells": [
  {
   "cell_type": "markdown",
   "metadata": {},
   "source": [
    "# CLASSIFICATION USING MULTIPLE MODELS"
   ]
  },
  {
   "cell_type": "code",
   "execution_count": 1,
   "metadata": {},
   "outputs": [],
   "source": [
    "import sklearn\n",
    "import numpy as np\n",
    "import pandas as pd\n",
    "import seaborn as sns\n",
    "import matplotlib.pyplot as plt\n",
    "\n",
    "from sklearn.model_selection import train_test_split\n",
    "from sklearn.metrics import precision_score\n",
    "from sklearn.metrics import accuracy_score\n",
    "from sklearn.metrics import recall_score"
   ]
  },
  {
   "cell_type": "code",
   "execution_count": 2,
   "metadata": {},
   "outputs": [],
   "source": [
    "from sklearn.discriminant_analysis import QuadraticDiscriminantAnalysis\n",
    "from sklearn.discriminant_analysis import LinearDiscriminantAnalysis\n",
    "from sklearn.neighbors import RadiusNeighborsClassifier\n",
    "from sklearn.linear_model import LogisticRegression\n",
    "from sklearn.linear_model import SGDClassifier\n",
    "from sklearn.tree import DecisionTreeClassifier\n",
    "from sklearn.naive_bayes import GaussianNB\n",
    "from sklearn.svm import LinearSVC"
   ]
  },
  {
   "cell_type": "code",
   "execution_count": 3,
   "metadata": {},
   "outputs": [],
   "source": [
    "titanic_df = pd.read_csv('./datasets/titanic_processed.csv')"
   ]
  },
  {
   "cell_type": "code",
   "execution_count": 4,
   "metadata": {},
   "outputs": [
    {
     "data": {
      "text/html": [
       "<div>\n",
       "<style scoped>\n",
       "    .dataframe tbody tr th:only-of-type {\n",
       "        vertical-align: middle;\n",
       "    }\n",
       "\n",
       "    .dataframe tbody tr th {\n",
       "        vertical-align: top;\n",
       "    }\n",
       "\n",
       "    .dataframe thead th {\n",
       "        text-align: right;\n",
       "    }\n",
       "</style>\n",
       "<table border=\"1\" class=\"dataframe\">\n",
       "  <thead>\n",
       "    <tr style=\"text-align: right;\">\n",
       "      <th></th>\n",
       "      <th>Survived</th>\n",
       "      <th>Pclass</th>\n",
       "      <th>Sex</th>\n",
       "      <th>Age</th>\n",
       "      <th>SibSp</th>\n",
       "      <th>Parch</th>\n",
       "      <th>Fare</th>\n",
       "      <th>Embarked_C</th>\n",
       "      <th>Embarked_Q</th>\n",
       "      <th>Embarked_S</th>\n",
       "    </tr>\n",
       "  </thead>\n",
       "  <tbody>\n",
       "    <tr>\n",
       "      <td>0</td>\n",
       "      <td>1</td>\n",
       "      <td>2</td>\n",
       "      <td>0</td>\n",
       "      <td>23.0</td>\n",
       "      <td>0</td>\n",
       "      <td>0</td>\n",
       "      <td>13.7917</td>\n",
       "      <td>1</td>\n",
       "      <td>0</td>\n",
       "      <td>0</td>\n",
       "    </tr>\n",
       "    <tr>\n",
       "      <td>1</td>\n",
       "      <td>0</td>\n",
       "      <td>1</td>\n",
       "      <td>0</td>\n",
       "      <td>25.0</td>\n",
       "      <td>1</td>\n",
       "      <td>2</td>\n",
       "      <td>151.5500</td>\n",
       "      <td>0</td>\n",
       "      <td>0</td>\n",
       "      <td>1</td>\n",
       "    </tr>\n",
       "    <tr>\n",
       "      <td>2</td>\n",
       "      <td>0</td>\n",
       "      <td>3</td>\n",
       "      <td>1</td>\n",
       "      <td>22.0</td>\n",
       "      <td>0</td>\n",
       "      <td>0</td>\n",
       "      <td>7.7958</td>\n",
       "      <td>0</td>\n",
       "      <td>0</td>\n",
       "      <td>1</td>\n",
       "    </tr>\n",
       "    <tr>\n",
       "      <td>3</td>\n",
       "      <td>0</td>\n",
       "      <td>3</td>\n",
       "      <td>0</td>\n",
       "      <td>6.0</td>\n",
       "      <td>4</td>\n",
       "      <td>2</td>\n",
       "      <td>31.2750</td>\n",
       "      <td>0</td>\n",
       "      <td>0</td>\n",
       "      <td>1</td>\n",
       "    </tr>\n",
       "    <tr>\n",
       "      <td>4</td>\n",
       "      <td>1</td>\n",
       "      <td>3</td>\n",
       "      <td>0</td>\n",
       "      <td>38.0</td>\n",
       "      <td>1</td>\n",
       "      <td>5</td>\n",
       "      <td>31.3875</td>\n",
       "      <td>0</td>\n",
       "      <td>0</td>\n",
       "      <td>1</td>\n",
       "    </tr>\n",
       "  </tbody>\n",
       "</table>\n",
       "</div>"
      ],
      "text/plain": [
       "   Survived  Pclass  Sex   Age  SibSp  Parch      Fare  Embarked_C  \\\n",
       "0         1       2    0  23.0      0      0   13.7917           1   \n",
       "1         0       1    0  25.0      1      2  151.5500           0   \n",
       "2         0       3    1  22.0      0      0    7.7958           0   \n",
       "3         0       3    0   6.0      4      2   31.2750           0   \n",
       "4         1       3    0  38.0      1      5   31.3875           0   \n",
       "\n",
       "   Embarked_Q  Embarked_S  \n",
       "0           0           0  \n",
       "1           0           1  \n",
       "2           0           1  \n",
       "3           0           1  \n",
       "4           0           1  "
      ]
     },
     "execution_count": 4,
     "metadata": {},
     "output_type": "execute_result"
    }
   ],
   "source": [
    "titanic_df.head()"
   ]
  },
  {
   "cell_type": "code",
   "execution_count": 5,
   "metadata": {},
   "outputs": [
    {
     "data": {
      "text/plain": [
       "['Pclass',\n",
       " 'Sex',\n",
       " 'Age',\n",
       " 'SibSp',\n",
       " 'Parch',\n",
       " 'Fare',\n",
       " 'Embarked_C',\n",
       " 'Embarked_Q',\n",
       " 'Embarked_S']"
      ]
     },
     "execution_count": 5,
     "metadata": {},
     "output_type": "execute_result"
    }
   ],
   "source": [
    "FEATURES = list(titanic_df.columns[1:]) # extract features except Survived\n",
    "FEATURES"
   ]
  },
  {
   "cell_type": "code",
   "execution_count": 6,
   "metadata": {},
   "outputs": [],
   "source": [
    "result_dict = {}"
   ]
  },
  {
   "cell_type": "code",
   "execution_count": 7,
   "metadata": {},
   "outputs": [],
   "source": [
    "def summarize(y_test,y_pred):\n",
    "    acc = accuracy_score(y_test,y_pred,normalize=True)      # op :fraction\n",
    "    num_acc = accuracy_score(y_test,y_pred,normalize=False) # op :number\n",
    "    \n",
    "    precis = precision_score(y_test,y_pred)\n",
    "    recall = recall_score(y_test,y_pred)\n",
    "    \n",
    "    return {'Accuracy_Count':num_acc,\n",
    "            'Accuracy' : acc,\n",
    "            'Precision': precis,\n",
    "            'Recall'   : recall}"
   ]
  },
  {
   "cell_type": "code",
   "execution_count": 8,
   "metadata": {},
   "outputs": [],
   "source": [
    "#write build model helper function\n",
    "\n",
    "def build_model(classifier_fn,\n",
    "               name_of_y_col,\n",
    "               name_of_x_cols,\n",
    "               dataset,\n",
    "               test_fract=0.2):\n",
    "    \n",
    "    X = dataset[name_of_x_cols]\n",
    "    Y = dataset[name_of_y_col]\n",
    "    \n",
    "    x_train,x_test,y_train,y_test = train_test_split(X,Y, test_size = test_fract) \n",
    "    \n",
    "    model = classifier_fn(x_train,y_train)\n",
    "    \n",
    "    y_pred_train  = model.predict(x_train)\n",
    "    y_pred = model.predict(x_test)\n",
    "    \n",
    "    train_summary = summarize(y_train,y_pred_train)\n",
    "    test_summary  = summarize(y_test,y_pred)\n",
    "    \n",
    "    pred_results = pd.DataFrame({ 'y_test': y_test,\n",
    "                                  'y_pred': y_pred})\n",
    "    \n",
    "    model_crosstab = pd.crosstab(pred_results.y_pred,pred_results.y_test)\n",
    "    \n",
    "    return {'Training':train_summary,\n",
    "            'Test':test_summary,\n",
    "            'Confusion_Matrix':model_crosstab}\n",
    "    \n",
    "    "
   ]
  },
  {
   "cell_type": "code",
   "execution_count": 9,
   "metadata": {},
   "outputs": [],
   "source": [
    "def compare_results():\n",
    "    for key in result_dict:\n",
    "        print('Classification :',key)\n",
    "        \n",
    "        print()\n",
    "        print('Training Data')\n",
    "        for score in result_dict[key]['Training']:\n",
    "            print(score,result_dict[key]['Training'][score])\n",
    "            \n",
    "        print()\n",
    "        print('Test Data')\n",
    "        for score in result_dict[key]['Test']:\n",
    "            print(score,result_dict[key]['Test'][score])\n",
    "        \n",
    "        print()"
   ]
  },
  {
   "cell_type": "markdown",
   "metadata": {},
   "source": [
    "# LOGISTIC REGRESSION"
   ]
  },
  {
   "cell_type": "code",
   "execution_count": 10,
   "metadata": {},
   "outputs": [],
   "source": [
    "def logistic_fn(x_train,y_train):\n",
    "    model = LogisticRegression(solver='liblinear')\n",
    "    model.fit(x_train,y_train)\n",
    "    \n",
    "    return model"
   ]
  },
  {
   "cell_type": "code",
   "execution_count": 11,
   "metadata": {},
   "outputs": [
    {
     "name": "stdout",
     "output_type": "stream",
     "text": [
      "Classification : survived-logistic\n",
      "\n",
      "Training Data\n",
      "Accuracy_Count 463\n",
      "Accuracy 0.8137082601054482\n",
      "Precision 0.8061224489795918\n",
      "Recall 0.6991150442477876\n",
      "\n",
      "Test Data\n",
      "Accuracy_Count 107\n",
      "Accuracy 0.7482517482517482\n",
      "Precision 0.7096774193548387\n",
      "Recall 0.7096774193548387\n",
      "\n"
     ]
    }
   ],
   "source": [
    "result_dict['survived-logistic'] = build_model(logistic_fn,\n",
    "                                              'Survived',\n",
    "                                               FEATURES,\n",
    "                                               titanic_df)\n",
    "compare_results()"
   ]
  },
  {
   "cell_type": "markdown",
   "metadata": {},
   "source": [
    "# LDA"
   ]
  },
  {
   "cell_type": "code",
   "execution_count": 12,
   "metadata": {},
   "outputs": [],
   "source": [
    "# uses svd - Singular Value Decomposition : uses by default\n",
    "# svd find finds the best axis w-out calculating the covariance of matrix of features\n",
    "# using covariance matrix is extremely useful when we have many featurtes\n",
    "\n",
    "\n",
    "def linear_discriminant_fn(x_train,y_train,solver='svd'):\n",
    "    \n",
    "    model = LinearDiscriminantAnalysis(solver=solver)\n",
    "    model.fit(x_train,y_train)\n",
    "    \n",
    "    return model"
   ]
  },
  {
   "cell_type": "code",
   "execution_count": 13,
   "metadata": {},
   "outputs": [
    {
     "name": "stdout",
     "output_type": "stream",
     "text": [
      "Classification : survived-logistic\n",
      "\n",
      "Training Data\n",
      "Accuracy_Count 463\n",
      "Accuracy 0.8137082601054482\n",
      "Precision 0.8061224489795918\n",
      "Recall 0.6991150442477876\n",
      "\n",
      "Test Data\n",
      "Accuracy_Count 107\n",
      "Accuracy 0.7482517482517482\n",
      "Precision 0.7096774193548387\n",
      "Recall 0.7096774193548387\n",
      "\n",
      "Classification : survived-LDA\n",
      "\n",
      "Training Data\n",
      "Accuracy_Count 452\n",
      "Accuracy 0.7943760984182777\n",
      "Precision 0.7808219178082192\n",
      "Recall 0.7125\n",
      "\n",
      "Test Data\n",
      "Accuracy_Count 116\n",
      "Accuracy 0.8111888111888111\n",
      "Precision 0.7058823529411765\n",
      "Recall 0.75\n",
      "\n"
     ]
    },
    {
     "name": "stderr",
     "output_type": "stream",
     "text": [
      "C:\\Users\\LOCALGHOST\\Anaconda3\\lib\\site-packages\\sklearn\\discriminant_analysis.py:388: UserWarning: Variables are collinear.\n",
      "  warnings.warn(\"Variables are collinear.\")\n"
     ]
    }
   ],
   "source": [
    "result_dict['survived-LDA'] = build_model(linear_discriminant_fn,\n",
    "                                         'Survived',\n",
    "                                         FEATURES,\n",
    "                                         titanic_df)\n",
    "compare_results()"
   ]
  },
  {
   "cell_type": "markdown",
   "metadata": {},
   "source": [
    "##### (\"Variables are collinear.\") Warning :\n",
    "\n",
    "    The input features contains onehot encodes values. \n",
    "    For many machine learning model if you include all of the one hot encoded features in your training data,you will encounter something that is called a dummy trap.\n",
    "    \n",
    "    \n",
    "    This occurs when there is a perfect colinearity b/w two or more features in your training dataset and this dummy trap can result in poor ML models.\n",
    "    \n",
    "    \n",
    "    The way to fix this is to use dummy encoding of our categorical variables instead of one-hot encoding.This can be done very easily by dropping one of the columns from our one hot encoded set, That's exactly what we'll do here.\n",
    "     "
   ]
  },
  {
   "cell_type": "code",
   "execution_count": 14,
   "metadata": {},
   "outputs": [
    {
     "name": "stdout",
     "output_type": "stream",
     "text": [
      "Classification : survived-logistic\n",
      "\n",
      "Training Data\n",
      "Accuracy_Count 463\n",
      "Accuracy 0.8137082601054482\n",
      "Precision 0.8061224489795918\n",
      "Recall 0.6991150442477876\n",
      "\n",
      "Test Data\n",
      "Accuracy_Count 107\n",
      "Accuracy 0.7482517482517482\n",
      "Precision 0.7096774193548387\n",
      "Recall 0.7096774193548387\n",
      "\n",
      "Classification : survived-LDA\n",
      "\n",
      "Training Data\n",
      "Accuracy_Count 453\n",
      "Accuracy 0.7961335676625659\n",
      "Precision 0.7666666666666667\n",
      "Recall 0.706140350877193\n",
      "\n",
      "Test Data\n",
      "Accuracy_Count 112\n",
      "Accuracy 0.7832167832167832\n",
      "Precision 0.7636363636363637\n",
      "Recall 0.7\n",
      "\n"
     ]
    }
   ],
   "source": [
    "# instead of using all of our training features lets drop the last of the one-hot encoded columns\n",
    "\n",
    "result_dict['survived-LDA'] = build_model(linear_discriminant_fn,\n",
    "                                         'Survived',\n",
    "                                         FEATURES[0:-1],\n",
    "                                         titanic_df)\n",
    "compare_results()"
   ]
  },
  {
   "cell_type": "markdown",
   "metadata": {},
   "source": [
    "The warning is gone."
   ]
  },
  {
   "cell_type": "markdown",
   "metadata": {},
   "source": [
    "Certain estimators automatically takes care of this . Log_Reg Estimator API automatically takes care of this."
   ]
  },
  {
   "cell_type": "markdown",
   "metadata": {},
   "source": [
    "# QDA"
   ]
  },
  {
   "cell_type": "markdown",
   "metadata": {},
   "source": [
    "Find bext axes to seperate the classes such that all instances of a class are in the same quadrant but the decision boundary is quadratic . ie it is not necessarily a straight line(like in LDA)...could be a curve."
   ]
  },
  {
   "cell_type": "markdown",
   "metadata": {},
   "source": [
    "Useful when the X variable corresponding to different labels have different covariances i.e covariances are different for X for all values of Y.\n",
    "\n",
    "If you analyze your data and find that its true, then QDA will work fine."
   ]
  },
  {
   "cell_type": "code",
   "execution_count": 15,
   "metadata": {},
   "outputs": [],
   "source": [
    "def quadratic_discriminant_fn(x_train,y_train):\n",
    "    \n",
    "    model = QuadraticDiscriminantAnalysis()\n",
    "    model.fit(x_train,y_train)\n",
    "    \n",
    "    return model"
   ]
  },
  {
   "cell_type": "markdown",
   "metadata": {},
   "source": [
    "this is also prone to the dummy trap, so we dont have have to pass in all one hot encoded features"
   ]
  },
  {
   "cell_type": "code",
   "execution_count": 16,
   "metadata": {},
   "outputs": [
    {
     "name": "stdout",
     "output_type": "stream",
     "text": [
      "Classification : survived-logistic\n",
      "\n",
      "Training Data\n",
      "Accuracy_Count 463\n",
      "Accuracy 0.8137082601054482\n",
      "Precision 0.8061224489795918\n",
      "Recall 0.6991150442477876\n",
      "\n",
      "Test Data\n",
      "Accuracy_Count 107\n",
      "Accuracy 0.7482517482517482\n",
      "Precision 0.7096774193548387\n",
      "Recall 0.7096774193548387\n",
      "\n",
      "Classification : survived-LDA\n",
      "\n",
      "Training Data\n",
      "Accuracy_Count 453\n",
      "Accuracy 0.7961335676625659\n",
      "Precision 0.7666666666666667\n",
      "Recall 0.706140350877193\n",
      "\n",
      "Test Data\n",
      "Accuracy_Count 112\n",
      "Accuracy 0.7832167832167832\n",
      "Precision 0.7636363636363637\n",
      "Recall 0.7\n",
      "\n",
      "Classification : survived-QDA\n",
      "\n",
      "Training Data\n",
      "Accuracy_Count 454\n",
      "Accuracy 0.7978910369068541\n",
      "Precision 0.757847533632287\n",
      "Recall 0.7347826086956522\n",
      "\n",
      "Test Data\n",
      "Accuracy_Count 110\n",
      "Accuracy 0.7692307692307693\n",
      "Precision 0.7272727272727273\n",
      "Recall 0.6896551724137931\n",
      "\n"
     ]
    }
   ],
   "source": [
    "result_dict['survived-QDA'] = build_model(quadratic_discriminant_fn,\n",
    "                                         'Survived',\n",
    "                                         FEATURES[0:-1],\n",
    "                                         titanic_df)\n",
    "compare_results()"
   ]
  },
  {
   "cell_type": "markdown",
   "metadata": {},
   "source": [
    "QDA peforms a bit better when compared to LDA, even though the different is not so significant."
   ]
  },
  {
   "cell_type": "markdown",
   "metadata": {},
   "source": [
    "### SGD Classifier"
   ]
  },
  {
   "cell_type": "code",
   "execution_count": 33,
   "metadata": {},
   "outputs": [],
   "source": [
    "def sgd_fn(x_train,y_train,max_iter = 10000,tol=1e-3):\n",
    "    model= SGDClassifier(max_iter=max_iter,tol =tol)\n",
    "    model.fit(x_train,y_train)\n",
    "    \n",
    "    return model"
   ]
  },
  {
   "cell_type": "markdown",
   "metadata": {},
   "source": [
    "max_iter = no of iterations to which the model should train.\n",
    "tol = tolerance refers to stoping criterion for training. The model will stop training if the loss calculated at a particular\n",
    "iteration is less than the tolerance value that we have specified. When the value falls below the tol value the model isn't improving.\n"
   ]
  },
  {
   "cell_type": "code",
   "execution_count": 34,
   "metadata": {},
   "outputs": [
    {
     "name": "stdout",
     "output_type": "stream",
     "text": [
      "Classification : survived-logistic\n",
      "\n",
      "Training Data\n",
      "Accuracy_Count 463\n",
      "Accuracy 0.8137082601054482\n",
      "Precision 0.8061224489795918\n",
      "Recall 0.6991150442477876\n",
      "\n",
      "Test Data\n",
      "Accuracy_Count 107\n",
      "Accuracy 0.7482517482517482\n",
      "Precision 0.7096774193548387\n",
      "Recall 0.7096774193548387\n",
      "\n",
      "Classification : survived-LDA\n",
      "\n",
      "Training Data\n",
      "Accuracy_Count 453\n",
      "Accuracy 0.7961335676625659\n",
      "Precision 0.7666666666666667\n",
      "Recall 0.706140350877193\n",
      "\n",
      "Test Data\n",
      "Accuracy_Count 112\n",
      "Accuracy 0.7832167832167832\n",
      "Precision 0.7636363636363637\n",
      "Recall 0.7\n",
      "\n",
      "Classification : survived-QDA\n",
      "\n",
      "Training Data\n",
      "Accuracy_Count 454\n",
      "Accuracy 0.7978910369068541\n",
      "Precision 0.757847533632287\n",
      "Recall 0.7347826086956522\n",
      "\n",
      "Test Data\n",
      "Accuracy_Count 110\n",
      "Accuracy 0.7692307692307693\n",
      "Precision 0.7272727272727273\n",
      "Recall 0.6896551724137931\n",
      "\n",
      "Classification : survived-SGD\n",
      "\n",
      "Training Data\n",
      "Accuracy_Count 424\n",
      "Accuracy 0.7451669595782073\n",
      "Precision 0.6605839416058394\n",
      "Recall 0.776824034334764\n",
      "\n",
      "Test Data\n",
      "Accuracy_Count 116\n",
      "Accuracy 0.8111888111888111\n",
      "Precision 0.7333333333333333\n",
      "Recall 0.8\n",
      "\n"
     ]
    }
   ],
   "source": [
    "result_dict['survived-SGD'] = build_model(sgd_fn,\n",
    "                                         'Survived',\n",
    "                                         FEATURES,\n",
    "                                         titanic_df)\n",
    "compare_results()"
   ]
  },
  {
   "cell_type": "markdown",
   "metadata": {},
   "source": [
    "Fairly low accuracy"
   ]
  },
  {
   "cell_type": "markdown",
   "metadata": {},
   "source": [
    "After increasing the accuracy we got 81% acc on test data which is good"
   ]
  },
  {
   "cell_type": "markdown",
   "metadata": {},
   "source": [
    "### Linear SVC"
   ]
  },
  {
   "cell_type": "code",
   "execution_count": 35,
   "metadata": {},
   "outputs": [],
   "source": [
    "def linear_svc_fn(x_train,y_train,c=1.0,max_iter =100, tol =1e-3):\n",
    "    model = LinearSVC(C=c,max_iter=max_iter,tol=tol,dual=False)\n",
    "    model.fit(x_train,y_train)\n",
    "    \n",
    "    return model"
   ]
  },
  {
   "cell_type": "code",
   "execution_count": 36,
   "metadata": {},
   "outputs": [
    {
     "name": "stdout",
     "output_type": "stream",
     "text": [
      "Classification : survived-logistic\n",
      "\n",
      "Training Data\n",
      "Accuracy_Count 463\n",
      "Accuracy 0.8137082601054482\n",
      "Precision 0.8061224489795918\n",
      "Recall 0.6991150442477876\n",
      "\n",
      "Test Data\n",
      "Accuracy_Count 107\n",
      "Accuracy 0.7482517482517482\n",
      "Precision 0.7096774193548387\n",
      "Recall 0.7096774193548387\n",
      "\n",
      "Classification : survived-LDA\n",
      "\n",
      "Training Data\n",
      "Accuracy_Count 453\n",
      "Accuracy 0.7961335676625659\n",
      "Precision 0.7666666666666667\n",
      "Recall 0.706140350877193\n",
      "\n",
      "Test Data\n",
      "Accuracy_Count 112\n",
      "Accuracy 0.7832167832167832\n",
      "Precision 0.7636363636363637\n",
      "Recall 0.7\n",
      "\n",
      "Classification : survived-QDA\n",
      "\n",
      "Training Data\n",
      "Accuracy_Count 454\n",
      "Accuracy 0.7978910369068541\n",
      "Precision 0.757847533632287\n",
      "Recall 0.7347826086956522\n",
      "\n",
      "Test Data\n",
      "Accuracy_Count 110\n",
      "Accuracy 0.7692307692307693\n",
      "Precision 0.7272727272727273\n",
      "Recall 0.6896551724137931\n",
      "\n",
      "Classification : survived-SGD\n",
      "\n",
      "Training Data\n",
      "Accuracy_Count 424\n",
      "Accuracy 0.7451669595782073\n",
      "Precision 0.6605839416058394\n",
      "Recall 0.776824034334764\n",
      "\n",
      "Test Data\n",
      "Accuracy_Count 116\n",
      "Accuracy 0.8111888111888111\n",
      "Precision 0.7333333333333333\n",
      "Recall 0.8\n",
      "\n",
      "Classification : survived-LinearSVC\n",
      "\n",
      "Training Data\n",
      "Accuracy_Count 455\n",
      "Accuracy 0.7996485061511424\n",
      "Precision 0.7782805429864253\n",
      "Recall 0.7257383966244726\n",
      "\n",
      "Test Data\n",
      "Accuracy_Count 114\n",
      "Accuracy 0.7972027972027972\n",
      "Precision 0.75\n",
      "Recall 0.6470588235294118\n",
      "\n"
     ]
    }
   ],
   "source": [
    "result_dict['survived-LinearSVC'] = build_model(linear_svc_fn,\n",
    "                                         'Survived',\n",
    "                                         FEATURES,\n",
    "                                         titanic_df)\n",
    "compare_results()"
   ]
  },
  {
   "cell_type": "markdown",
   "metadata": {},
   "source": [
    "### Radius Neighbour"
   ]
  },
  {
   "cell_type": "code",
   "execution_count": 37,
   "metadata": {},
   "outputs": [],
   "source": [
    "def radius_neighbour_fn(x_train,y_train,radius=40.0):\n",
    "    model = RadiusNeighborsClassifier(radius=radius)\n",
    "    model.fit(x_train,y_train)\n",
    "    \n",
    "    return model"
   ]
  },
  {
   "cell_type": "code",
   "execution_count": 38,
   "metadata": {},
   "outputs": [
    {
     "name": "stdout",
     "output_type": "stream",
     "text": [
      "Classification : survived-logistic\n",
      "\n",
      "Training Data\n",
      "Accuracy_Count 463\n",
      "Accuracy 0.8137082601054482\n",
      "Precision 0.8061224489795918\n",
      "Recall 0.6991150442477876\n",
      "\n",
      "Test Data\n",
      "Accuracy_Count 107\n",
      "Accuracy 0.7482517482517482\n",
      "Precision 0.7096774193548387\n",
      "Recall 0.7096774193548387\n",
      "\n",
      "Classification : survived-LDA\n",
      "\n",
      "Training Data\n",
      "Accuracy_Count 453\n",
      "Accuracy 0.7961335676625659\n",
      "Precision 0.7666666666666667\n",
      "Recall 0.706140350877193\n",
      "\n",
      "Test Data\n",
      "Accuracy_Count 112\n",
      "Accuracy 0.7832167832167832\n",
      "Precision 0.7636363636363637\n",
      "Recall 0.7\n",
      "\n",
      "Classification : survived-QDA\n",
      "\n",
      "Training Data\n",
      "Accuracy_Count 454\n",
      "Accuracy 0.7978910369068541\n",
      "Precision 0.757847533632287\n",
      "Recall 0.7347826086956522\n",
      "\n",
      "Test Data\n",
      "Accuracy_Count 110\n",
      "Accuracy 0.7692307692307693\n",
      "Precision 0.7272727272727273\n",
      "Recall 0.6896551724137931\n",
      "\n",
      "Classification : survived-SGD\n",
      "\n",
      "Training Data\n",
      "Accuracy_Count 424\n",
      "Accuracy 0.7451669595782073\n",
      "Precision 0.6605839416058394\n",
      "Recall 0.776824034334764\n",
      "\n",
      "Test Data\n",
      "Accuracy_Count 116\n",
      "Accuracy 0.8111888111888111\n",
      "Precision 0.7333333333333333\n",
      "Recall 0.8\n",
      "\n",
      "Classification : survived-LinearSVC\n",
      "\n",
      "Training Data\n",
      "Accuracy_Count 455\n",
      "Accuracy 0.7996485061511424\n",
      "Precision 0.7782805429864253\n",
      "Recall 0.7257383966244726\n",
      "\n",
      "Test Data\n",
      "Accuracy_Count 114\n",
      "Accuracy 0.7972027972027972\n",
      "Precision 0.75\n",
      "Recall 0.6470588235294118\n",
      "\n",
      "Classification : survived-Radius-Neighbour\n",
      "\n",
      "Training Data\n",
      "Accuracy_Count 382\n",
      "Accuracy 0.671353251318102\n",
      "Precision 0.717391304347826\n",
      "Recall 0.2907488986784141\n",
      "\n",
      "Test Data\n",
      "Accuracy_Count 96\n",
      "Accuracy 0.6713286713286714\n",
      "Precision 0.75\n",
      "Recall 0.3442622950819672\n",
      "\n"
     ]
    }
   ],
   "source": [
    "result_dict['survived-Radius-Neighbour'] = build_model(radius_neighbour_fn,\n",
    "                                         'Survived',\n",
    "                                         FEATURES,\n",
    "                                         titanic_df)\n",
    "compare_results()"
   ]
  },
  {
   "cell_type": "markdown",
   "metadata": {},
   "source": [
    "Radius neighbour did't do well on this dataset . the accuracy is 67% and its possible that that the value of radius that we used is not really right."
   ]
  },
  {
   "cell_type": "markdown",
   "metadata": {},
   "source": [
    "Which values of these hyperparameters work well for a particular ML model on a given dataset is something that we only know by evaluating a number of different models "
   ]
  },
  {
   "cell_type": "markdown",
   "metadata": {},
   "source": [
    "This process is referred to a s Hyperparameter tuning."
   ]
  },
  {
   "cell_type": "markdown",
   "metadata": {},
   "source": [
    "### Decision Trees"
   ]
  },
  {
   "cell_type": "code",
   "execution_count": 41,
   "metadata": {},
   "outputs": [],
   "source": [
    "  def decision_tree_fn(x_train,y_train,max_depth=None,max_features=None):\n",
    "        model = DecisionTreeClassifier(max_depth=max_depth,max_features=max_features)\n",
    "        model.fit(x_train,y_train)\n",
    "        \n",
    "        return model"
   ]
  },
  {
   "cell_type": "code",
   "execution_count": 42,
   "metadata": {},
   "outputs": [
    {
     "name": "stdout",
     "output_type": "stream",
     "text": [
      "Classification : survived-logistic\n",
      "\n",
      "Training Data\n",
      "Accuracy_Count 463\n",
      "Accuracy 0.8137082601054482\n",
      "Precision 0.8061224489795918\n",
      "Recall 0.6991150442477876\n",
      "\n",
      "Test Data\n",
      "Accuracy_Count 107\n",
      "Accuracy 0.7482517482517482\n",
      "Precision 0.7096774193548387\n",
      "Recall 0.7096774193548387\n",
      "\n",
      "Classification : survived-LDA\n",
      "\n",
      "Training Data\n",
      "Accuracy_Count 453\n",
      "Accuracy 0.7961335676625659\n",
      "Precision 0.7666666666666667\n",
      "Recall 0.706140350877193\n",
      "\n",
      "Test Data\n",
      "Accuracy_Count 112\n",
      "Accuracy 0.7832167832167832\n",
      "Precision 0.7636363636363637\n",
      "Recall 0.7\n",
      "\n",
      "Classification : survived-QDA\n",
      "\n",
      "Training Data\n",
      "Accuracy_Count 454\n",
      "Accuracy 0.7978910369068541\n",
      "Precision 0.757847533632287\n",
      "Recall 0.7347826086956522\n",
      "\n",
      "Test Data\n",
      "Accuracy_Count 110\n",
      "Accuracy 0.7692307692307693\n",
      "Precision 0.7272727272727273\n",
      "Recall 0.6896551724137931\n",
      "\n",
      "Classification : survived-SGD\n",
      "\n",
      "Training Data\n",
      "Accuracy_Count 424\n",
      "Accuracy 0.7451669595782073\n",
      "Precision 0.6605839416058394\n",
      "Recall 0.776824034334764\n",
      "\n",
      "Test Data\n",
      "Accuracy_Count 116\n",
      "Accuracy 0.8111888111888111\n",
      "Precision 0.7333333333333333\n",
      "Recall 0.8\n",
      "\n",
      "Classification : survived-LinearSVC\n",
      "\n",
      "Training Data\n",
      "Accuracy_Count 455\n",
      "Accuracy 0.7996485061511424\n",
      "Precision 0.7782805429864253\n",
      "Recall 0.7257383966244726\n",
      "\n",
      "Test Data\n",
      "Accuracy_Count 114\n",
      "Accuracy 0.7972027972027972\n",
      "Precision 0.75\n",
      "Recall 0.6470588235294118\n",
      "\n",
      "Classification : survived-Radius-Neighbour\n",
      "\n",
      "Training Data\n",
      "Accuracy_Count 382\n",
      "Accuracy 0.671353251318102\n",
      "Precision 0.717391304347826\n",
      "Recall 0.2907488986784141\n",
      "\n",
      "Test Data\n",
      "Accuracy_Count 96\n",
      "Accuracy 0.6713286713286714\n",
      "Precision 0.75\n",
      "Recall 0.3442622950819672\n",
      "\n",
      "Classification : survived-DecisionTress\n",
      "\n",
      "Training Data\n",
      "Accuracy_Count 562\n",
      "Accuracy 0.9876977152899824\n",
      "Precision 1.0\n",
      "Recall 0.9691629955947136\n",
      "\n",
      "Test Data\n",
      "Accuracy_Count 105\n",
      "Accuracy 0.7342657342657343\n",
      "Precision 0.7446808510638298\n",
      "Recall 0.5737704918032787\n",
      "\n"
     ]
    }
   ],
   "source": [
    "result_dict['survived-DecisionTress'] = build_model(decision_tree_fn,\n",
    "                                         'Survived',\n",
    "                                         FEATURES,\n",
    "                                         titanic_df)\n",
    "compare_results()"
   ]
  },
  {
   "cell_type": "markdown",
   "metadata": {},
   "source": [
    "Note that it Performs exceedingly well during training. Observe traing accuracy is 98%\n",
    "and Test accuracy is just 73%."
   ]
  },
  {
   "cell_type": "markdown",
   "metadata": {},
   "source": [
    "Dt cn be extremely complex if you dont specify the constraints on size and shape of the tree.. It is very possible for this model to overfit on the training data such that the resulting  model performs very well during training but poorly or real data. "
   ]
  },
  {
   "cell_type": "markdown",
   "metadata": {},
   "source": [
    "Even though it gives us 73% accuracy , its clearly overfitted and not  a good model"
   ]
  },
  {
   "cell_type": "markdown",
   "metadata": {},
   "source": [
    "### Navie Bayes"
   ]
  },
  {
   "cell_type": "code",
   "execution_count": 43,
   "metadata": {},
   "outputs": [],
   "source": [
    "def naive_bayes_fn(x_train,y_train,priors=None):\n",
    "    \n",
    "    model = GaussianNB(priors=priors)\n",
    "    model.fit(x_train,y_train)\n",
    "    \n",
    "    return model"
   ]
  },
  {
   "cell_type": "code",
   "execution_count": 44,
   "metadata": {},
   "outputs": [
    {
     "name": "stdout",
     "output_type": "stream",
     "text": [
      "Classification : survived-logistic\n",
      "\n",
      "Training Data\n",
      "Accuracy_Count 463\n",
      "Accuracy 0.8137082601054482\n",
      "Precision 0.8061224489795918\n",
      "Recall 0.6991150442477876\n",
      "\n",
      "Test Data\n",
      "Accuracy_Count 107\n",
      "Accuracy 0.7482517482517482\n",
      "Precision 0.7096774193548387\n",
      "Recall 0.7096774193548387\n",
      "\n",
      "Classification : survived-LDA\n",
      "\n",
      "Training Data\n",
      "Accuracy_Count 453\n",
      "Accuracy 0.7961335676625659\n",
      "Precision 0.7666666666666667\n",
      "Recall 0.706140350877193\n",
      "\n",
      "Test Data\n",
      "Accuracy_Count 112\n",
      "Accuracy 0.7832167832167832\n",
      "Precision 0.7636363636363637\n",
      "Recall 0.7\n",
      "\n",
      "Classification : survived-QDA\n",
      "\n",
      "Training Data\n",
      "Accuracy_Count 454\n",
      "Accuracy 0.7978910369068541\n",
      "Precision 0.757847533632287\n",
      "Recall 0.7347826086956522\n",
      "\n",
      "Test Data\n",
      "Accuracy_Count 110\n",
      "Accuracy 0.7692307692307693\n",
      "Precision 0.7272727272727273\n",
      "Recall 0.6896551724137931\n",
      "\n",
      "Classification : survived-SGD\n",
      "\n",
      "Training Data\n",
      "Accuracy_Count 424\n",
      "Accuracy 0.7451669595782073\n",
      "Precision 0.6605839416058394\n",
      "Recall 0.776824034334764\n",
      "\n",
      "Test Data\n",
      "Accuracy_Count 116\n",
      "Accuracy 0.8111888111888111\n",
      "Precision 0.7333333333333333\n",
      "Recall 0.8\n",
      "\n",
      "Classification : survived-LinearSVC\n",
      "\n",
      "Training Data\n",
      "Accuracy_Count 455\n",
      "Accuracy 0.7996485061511424\n",
      "Precision 0.7782805429864253\n",
      "Recall 0.7257383966244726\n",
      "\n",
      "Test Data\n",
      "Accuracy_Count 114\n",
      "Accuracy 0.7972027972027972\n",
      "Precision 0.75\n",
      "Recall 0.6470588235294118\n",
      "\n",
      "Classification : survived-Radius-Neighbour\n",
      "\n",
      "Training Data\n",
      "Accuracy_Count 382\n",
      "Accuracy 0.671353251318102\n",
      "Precision 0.717391304347826\n",
      "Recall 0.2907488986784141\n",
      "\n",
      "Test Data\n",
      "Accuracy_Count 96\n",
      "Accuracy 0.6713286713286714\n",
      "Precision 0.75\n",
      "Recall 0.3442622950819672\n",
      "\n",
      "Classification : survived-DecisionTress\n",
      "\n",
      "Training Data\n",
      "Accuracy_Count 562\n",
      "Accuracy 0.9876977152899824\n",
      "Precision 1.0\n",
      "Recall 0.9691629955947136\n",
      "\n",
      "Test Data\n",
      "Accuracy_Count 105\n",
      "Accuracy 0.7342657342657343\n",
      "Precision 0.7446808510638298\n",
      "Recall 0.5737704918032787\n",
      "\n",
      "Classification : survived-NaiveBayes\n",
      "\n",
      "Training Data\n",
      "Accuracy_Count 436\n",
      "Accuracy 0.7662565905096661\n",
      "Precision 0.7236180904522613\n",
      "Recall 0.6486486486486487\n",
      "\n",
      "Test Data\n",
      "Accuracy_Count 113\n",
      "Accuracy 0.7902097902097902\n",
      "Precision 0.7727272727272727\n",
      "Recall 0.7727272727272727\n",
      "\n"
     ]
    }
   ],
   "source": [
    "result_dict['survived-NaiveBayes'] = build_model(naive_bayes_fn,\n",
    "                                         'Survived',\n",
    "                                         FEATURES,\n",
    "                                         titanic_df)\n",
    "compare_results()"
   ]
  },
  {
   "cell_type": "code",
   "execution_count": null,
   "metadata": {},
   "outputs": [],
   "source": []
  }
 ],
 "metadata": {
  "kernelspec": {
   "display_name": "Python 3",
   "language": "python",
   "name": "python3"
  },
  "language_info": {
   "codemirror_mode": {
    "name": "ipython",
    "version": 3
   },
   "file_extension": ".py",
   "mimetype": "text/x-python",
   "name": "python",
   "nbconvert_exporter": "python",
   "pygments_lexer": "ipython3",
   "version": "3.7.4"
  }
 },
 "nbformat": 4,
 "nbformat_minor": 2
}
