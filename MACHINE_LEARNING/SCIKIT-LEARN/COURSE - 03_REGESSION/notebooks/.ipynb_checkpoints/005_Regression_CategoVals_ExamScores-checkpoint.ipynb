{
 "cells": [
  {
   "cell_type": "code",
   "execution_count": 1,
   "metadata": {},
   "outputs": [],
   "source": [
    "import sklearn\n",
    "import datetime\n",
    "import numpy as np\n",
    "import pandas as pd\n",
    "import seaborn as sns\n",
    "import matplotlib.pyplot as plt\n",
    "\n",
    "from sklearn.model_selection import train_test_split\n",
    "from sklearn.linear_model import LinearRegression"
   ]
  },
  {
   "cell_type": "code",
   "execution_count": 2,
   "metadata": {},
   "outputs": [],
   "source": [
    "data = pd.read_csv(\"../datasets/exams.csv\")"
   ]
  },
  {
   "cell_type": "markdown",
   "metadata": {},
   "source": [
    "This is a dataset that contains categorical values, and we'll see how we can convert these to numeric form so that we can use them to train our machine learning model.\n",
    "\n",
    "This is a very simple toy dataset \n",
    "\n",
    "The original source for this dataset is roycekimmons.com and it contains information about different students. You can see that some of this information is personal. We know the gender of the student, the race or ethnicity he or she belongs to, the parental level of education, whether the student has standard or subsidized lunch, and whether the student has joined a test preparation course."
   ]
  },
  {
   "cell_type": "code",
   "execution_count": 3,
   "metadata": {},
   "outputs": [
    {
     "data": {
      "text/html": [
       "<div>\n",
       "<style scoped>\n",
       "    .dataframe tbody tr th:only-of-type {\n",
       "        vertical-align: middle;\n",
       "    }\n",
       "\n",
       "    .dataframe tbody tr th {\n",
       "        vertical-align: top;\n",
       "    }\n",
       "\n",
       "    .dataframe thead th {\n",
       "        text-align: right;\n",
       "    }\n",
       "</style>\n",
       "<table border=\"1\" class=\"dataframe\">\n",
       "  <thead>\n",
       "    <tr style=\"text-align: right;\">\n",
       "      <th></th>\n",
       "      <th>gender</th>\n",
       "      <th>race/ethnicity</th>\n",
       "      <th>parental level of education</th>\n",
       "      <th>lunch</th>\n",
       "      <th>test preparation course</th>\n",
       "      <th>math score</th>\n",
       "      <th>reading score</th>\n",
       "      <th>writing score</th>\n",
       "    </tr>\n",
       "  </thead>\n",
       "  <tbody>\n",
       "    <tr>\n",
       "      <td>13</td>\n",
       "      <td>female</td>\n",
       "      <td>group D</td>\n",
       "      <td>bachelor's degree</td>\n",
       "      <td>standard</td>\n",
       "      <td>none</td>\n",
       "      <td>69</td>\n",
       "      <td>71</td>\n",
       "      <td>72</td>\n",
       "    </tr>\n",
       "    <tr>\n",
       "      <td>3</td>\n",
       "      <td>female</td>\n",
       "      <td>group B</td>\n",
       "      <td>some college</td>\n",
       "      <td>free/reduced</td>\n",
       "      <td>completed</td>\n",
       "      <td>44</td>\n",
       "      <td>52</td>\n",
       "      <td>54</td>\n",
       "    </tr>\n",
       "    <tr>\n",
       "      <td>91</td>\n",
       "      <td>male</td>\n",
       "      <td>group D</td>\n",
       "      <td>some high school</td>\n",
       "      <td>standard</td>\n",
       "      <td>none</td>\n",
       "      <td>70</td>\n",
       "      <td>58</td>\n",
       "      <td>57</td>\n",
       "    </tr>\n",
       "    <tr>\n",
       "      <td>88</td>\n",
       "      <td>female</td>\n",
       "      <td>group B</td>\n",
       "      <td>some high school</td>\n",
       "      <td>free/reduced</td>\n",
       "      <td>completed</td>\n",
       "      <td>53</td>\n",
       "      <td>69</td>\n",
       "      <td>65</td>\n",
       "    </tr>\n",
       "    <tr>\n",
       "      <td>34</td>\n",
       "      <td>male</td>\n",
       "      <td>group C</td>\n",
       "      <td>high school</td>\n",
       "      <td>standard</td>\n",
       "      <td>none</td>\n",
       "      <td>80</td>\n",
       "      <td>67</td>\n",
       "      <td>69</td>\n",
       "    </tr>\n",
       "  </tbody>\n",
       "</table>\n",
       "</div>"
      ],
      "text/plain": [
       "    gender race/ethnicity parental level of education         lunch  \\\n",
       "13  female        group D           bachelor's degree      standard   \n",
       "3   female        group B                some college  free/reduced   \n",
       "91    male        group D            some high school      standard   \n",
       "88  female        group B            some high school  free/reduced   \n",
       "34    male        group C                 high school      standard   \n",
       "\n",
       "   test preparation course  math score  reading score  writing score  \n",
       "13                    none          69             71             72  \n",
       "3                completed          44             52             54  \n",
       "91                    none          70             58             57  \n",
       "88               completed          53             69             65  \n",
       "34                    none          80             67             69  "
      ]
     },
     "execution_count": 3,
     "metadata": {},
     "output_type": "execute_result"
    }
   ],
   "source": [
    "data.sample(5)"
   ]
  },
  {
   "cell_type": "markdown",
   "metadata": {},
   "source": [
    "You can see that these personal details are categorical, or discrete values. They're not numeric either, they're represented as string values in our dataset. We also have a few features describing the scores for that student in math, reading, as well as writing. All of these scores are out of a hundred. These are the only numeric features in our dataset with continuous values. \n",
    "\n",
    "This dataset has a total of 100 records for 100 students."
   ]
  },
  {
   "cell_type": "code",
   "execution_count": 4,
   "metadata": {},
   "outputs": [
    {
     "data": {
      "text/plain": [
       "(100, 8)"
      ]
     },
     "execution_count": 4,
     "metadata": {},
     "output_type": "execute_result"
    }
   ],
   "source": [
    "data.shape"
   ]
  },
  {
   "cell_type": "code",
   "execution_count": 5,
   "metadata": {},
   "outputs": [
    {
     "data": {
      "text/html": [
       "<div>\n",
       "<style scoped>\n",
       "    .dataframe tbody tr th:only-of-type {\n",
       "        vertical-align: middle;\n",
       "    }\n",
       "\n",
       "    .dataframe tbody tr th {\n",
       "        vertical-align: top;\n",
       "    }\n",
       "\n",
       "    .dataframe thead th {\n",
       "        text-align: right;\n",
       "    }\n",
       "</style>\n",
       "<table border=\"1\" class=\"dataframe\">\n",
       "  <thead>\n",
       "    <tr style=\"text-align: right;\">\n",
       "      <th></th>\n",
       "      <th>math score</th>\n",
       "      <th>reading score</th>\n",
       "      <th>writing score</th>\n",
       "    </tr>\n",
       "  </thead>\n",
       "  <tbody>\n",
       "    <tr>\n",
       "      <td>count</td>\n",
       "      <td>100.000000</td>\n",
       "      <td>100.000000</td>\n",
       "      <td>100.000000</td>\n",
       "    </tr>\n",
       "    <tr>\n",
       "      <td>mean</td>\n",
       "      <td>66.730000</td>\n",
       "      <td>69.980000</td>\n",
       "      <td>69.140000</td>\n",
       "    </tr>\n",
       "    <tr>\n",
       "      <td>std</td>\n",
       "      <td>15.631395</td>\n",
       "      <td>13.732642</td>\n",
       "      <td>14.886792</td>\n",
       "    </tr>\n",
       "    <tr>\n",
       "      <td>min</td>\n",
       "      <td>18.000000</td>\n",
       "      <td>25.000000</td>\n",
       "      <td>20.000000</td>\n",
       "    </tr>\n",
       "    <tr>\n",
       "      <td>25%</td>\n",
       "      <td>58.000000</td>\n",
       "      <td>61.000000</td>\n",
       "      <td>62.000000</td>\n",
       "    </tr>\n",
       "    <tr>\n",
       "      <td>50%</td>\n",
       "      <td>69.000000</td>\n",
       "      <td>71.500000</td>\n",
       "      <td>69.000000</td>\n",
       "    </tr>\n",
       "    <tr>\n",
       "      <td>75%</td>\n",
       "      <td>78.250000</td>\n",
       "      <td>80.000000</td>\n",
       "      <td>81.000000</td>\n",
       "    </tr>\n",
       "    <tr>\n",
       "      <td>max</td>\n",
       "      <td>96.000000</td>\n",
       "      <td>94.000000</td>\n",
       "      <td>93.000000</td>\n",
       "    </tr>\n",
       "  </tbody>\n",
       "</table>\n",
       "</div>"
      ],
      "text/plain": [
       "       math score  reading score  writing score\n",
       "count  100.000000     100.000000     100.000000\n",
       "mean    66.730000      69.980000      69.140000\n",
       "std     15.631395      13.732642      14.886792\n",
       "min     18.000000      25.000000      20.000000\n",
       "25%     58.000000      61.000000      62.000000\n",
       "50%     69.000000      71.500000      69.000000\n",
       "75%     78.250000      80.000000      81.000000\n",
       "max     96.000000      94.000000      93.000000"
      ]
     },
     "execution_count": 5,
     "metadata": {},
     "output_type": "execute_result"
    }
   ],
   "source": [
    "data.describe()"
   ]
  },
  {
   "cell_type": "markdown",
   "metadata": {},
   "source": [
    "You can see the average scores for these students in math, reading, and writing. You can see that math scores are a little lower than their reading and writing scores. The standard deviation of these scores, how these scores vary across students, is also different. This dataset is interesting because the data needs a lot of preprocessing before we can feed it into a linear model."
   ]
  },
  {
   "cell_type": "markdown",
   "metadata": {},
   "source": [
    "We're going to import preprocessing and use the preprocessing.scale function to standardize all of the scores in our dataset. Standardizing a dataset means that these column values will now have 0 mean and unit variance. We'll have a variance of 1. Standardizing values is extremely useful because it gives you an easy way to compare values which are part of different distributions. Standardization is also a common preprocessing technique for machine learning algorithms to build more robust models. We call preprocessing.scale to standardize the math score, reading score, and writing score of all of our students. "
   ]
  },
  {
   "cell_type": "code",
   "execution_count": 6,
   "metadata": {},
   "outputs": [],
   "source": [
    "from sklearn import preprocessing"
   ]
  },
  {
   "cell_type": "code",
   "execution_count": 7,
   "metadata": {},
   "outputs": [],
   "source": [
    "data['math score']    = preprocessing.scale(data['math score'].astype('float64'))\n",
    "data['reading score'] = preprocessing.scale(data['reading score'].astype('float64'))\n",
    "data['writing score'] = preprocessing.scale(data['writing score'].astype('float64'))"
   ]
  },
  {
   "cell_type": "markdown",
   "metadata": {},
   "source": [
    "Standardization is done by subtracting the mean, or average, value of a column of values from each value in that column and dividing the number by the standard deviation of the column. If you sample your data frame now with the standardized values for the different scores, you can see that the scores are now very small numbers. "
   ]
  },
  {
   "cell_type": "code",
   "execution_count": 8,
   "metadata": {},
   "outputs": [
    {
     "data": {
      "text/html": [
       "<div>\n",
       "<style scoped>\n",
       "    .dataframe tbody tr th:only-of-type {\n",
       "        vertical-align: middle;\n",
       "    }\n",
       "\n",
       "    .dataframe tbody tr th {\n",
       "        vertical-align: top;\n",
       "    }\n",
       "\n",
       "    .dataframe thead th {\n",
       "        text-align: right;\n",
       "    }\n",
       "</style>\n",
       "<table border=\"1\" class=\"dataframe\">\n",
       "  <thead>\n",
       "    <tr style=\"text-align: right;\">\n",
       "      <th></th>\n",
       "      <th>gender</th>\n",
       "      <th>race/ethnicity</th>\n",
       "      <th>parental level of education</th>\n",
       "      <th>lunch</th>\n",
       "      <th>test preparation course</th>\n",
       "      <th>math score</th>\n",
       "      <th>reading score</th>\n",
       "      <th>writing score</th>\n",
       "    </tr>\n",
       "  </thead>\n",
       "  <tbody>\n",
       "    <tr>\n",
       "      <td>5</td>\n",
       "      <td>female</td>\n",
       "      <td>group B</td>\n",
       "      <td>some college</td>\n",
       "      <td>free/reduced</td>\n",
       "      <td>none</td>\n",
       "      <td>-1.075674</td>\n",
       "      <td>-1.315885</td>\n",
       "      <td>-1.022132</td>\n",
       "    </tr>\n",
       "    <tr>\n",
       "      <td>37</td>\n",
       "      <td>female</td>\n",
       "      <td>group D</td>\n",
       "      <td>associate's degree</td>\n",
       "      <td>free/reduced</td>\n",
       "      <td>none</td>\n",
       "      <td>-0.625601</td>\n",
       "      <td>-0.876769</td>\n",
       "      <td>-0.482036</td>\n",
       "    </tr>\n",
       "    <tr>\n",
       "      <td>15</td>\n",
       "      <td>male</td>\n",
       "      <td>group C</td>\n",
       "      <td>master's degree</td>\n",
       "      <td>standard</td>\n",
       "      <td>completed</td>\n",
       "      <td>1.174690</td>\n",
       "      <td>0.660138</td>\n",
       "      <td>1.070741</td>\n",
       "    </tr>\n",
       "    <tr>\n",
       "      <td>53</td>\n",
       "      <td>female</td>\n",
       "      <td>group B</td>\n",
       "      <td>associate's degree</td>\n",
       "      <td>standard</td>\n",
       "      <td>none</td>\n",
       "      <td>1.238986</td>\n",
       "      <td>1.538371</td>\n",
       "      <td>0.868205</td>\n",
       "    </tr>\n",
       "    <tr>\n",
       "      <td>25</td>\n",
       "      <td>female</td>\n",
       "      <td>group C</td>\n",
       "      <td>some high school</td>\n",
       "      <td>standard</td>\n",
       "      <td>completed</td>\n",
       "      <td>-2.425892</td>\n",
       "      <td>-2.340490</td>\n",
       "      <td>-1.764765</td>\n",
       "    </tr>\n",
       "  </tbody>\n",
       "</table>\n",
       "</div>"
      ],
      "text/plain": [
       "    gender race/ethnicity parental level of education         lunch  \\\n",
       "5   female        group B                some college  free/reduced   \n",
       "37  female        group D          associate's degree  free/reduced   \n",
       "15    male        group C             master's degree      standard   \n",
       "53  female        group B          associate's degree      standard   \n",
       "25  female        group C            some high school      standard   \n",
       "\n",
       "   test preparation course  math score  reading score  writing score  \n",
       "5                     none   -1.075674      -1.315885      -1.022132  \n",
       "37                    none   -0.625601      -0.876769      -0.482036  \n",
       "15               completed    1.174690       0.660138       1.070741  \n",
       "53                    none    1.238986       1.538371       0.868205  \n",
       "25               completed   -2.425892      -2.340490      -1.764765  "
      ]
     },
     "execution_count": 8,
     "metadata": {},
     "output_type": "execute_result"
    }
   ],
   "source": [
    "data.sample(5)"
   ]
  },
  {
   "cell_type": "markdown",
   "metadata": {},
   "source": [
    "Negative scores are those which are below the mean, and positive scores are those that are above the mean. Standardizing a dataset allows you to see this at a single glance. You don't need to know the actual numbers, actual mean values, nothing. You can see that the first student with index  18 has been doing pretty poorly in her exams. All of her scores are more than one standard deviation below the mean. "
   ]
  },
  {
   "cell_type": "markdown",
   "metadata": {},
   "source": [
    "Let's call describe on our data frame once again. "
   ]
  },
  {
   "cell_type": "code",
   "execution_count": 9,
   "metadata": {},
   "outputs": [
    {
     "data": {
      "text/html": [
       "<div>\n",
       "<style scoped>\n",
       "    .dataframe tbody tr th:only-of-type {\n",
       "        vertical-align: middle;\n",
       "    }\n",
       "\n",
       "    .dataframe tbody tr th {\n",
       "        vertical-align: top;\n",
       "    }\n",
       "\n",
       "    .dataframe thead th {\n",
       "        text-align: right;\n",
       "    }\n",
       "</style>\n",
       "<table border=\"1\" class=\"dataframe\">\n",
       "  <thead>\n",
       "    <tr style=\"text-align: right;\">\n",
       "      <th></th>\n",
       "      <th>math score</th>\n",
       "      <th>reading score</th>\n",
       "      <th>writing score</th>\n",
       "    </tr>\n",
       "  </thead>\n",
       "  <tbody>\n",
       "    <tr>\n",
       "      <td>count</td>\n",
       "      <td>1.000000e+02</td>\n",
       "      <td>1.000000e+02</td>\n",
       "      <td>1.000000e+02</td>\n",
       "    </tr>\n",
       "    <tr>\n",
       "      <td>mean</td>\n",
       "      <td>-2.642331e-16</td>\n",
       "      <td>-3.048950e-16</td>\n",
       "      <td>-4.468648e-17</td>\n",
       "    </tr>\n",
       "    <tr>\n",
       "      <td>std</td>\n",
       "      <td>1.005038e+00</td>\n",
       "      <td>1.005038e+00</td>\n",
       "      <td>1.005038e+00</td>\n",
       "    </tr>\n",
       "    <tr>\n",
       "      <td>min</td>\n",
       "      <td>-3.133149e+00</td>\n",
       "      <td>-3.291909e+00</td>\n",
       "      <td>-3.317542e+00</td>\n",
       "    </tr>\n",
       "    <tr>\n",
       "      <td>25%</td>\n",
       "      <td>-5.613050e-01</td>\n",
       "      <td>-6.572107e-01</td>\n",
       "      <td>-4.820360e-01</td>\n",
       "    </tr>\n",
       "    <tr>\n",
       "      <td>50%</td>\n",
       "      <td>1.459522e-01</td>\n",
       "      <td>1.112428e-01</td>\n",
       "      <td>-9.451687e-03</td>\n",
       "    </tr>\n",
       "    <tr>\n",
       "      <td>75%</td>\n",
       "      <td>7.406911e-01</td>\n",
       "      <td>7.333242e-01</td>\n",
       "      <td>8.006929e-01</td>\n",
       "    </tr>\n",
       "    <tr>\n",
       "      <td>max</td>\n",
       "      <td>1.881947e+00</td>\n",
       "      <td>1.757929e+00</td>\n",
       "      <td>1.610838e+00</td>\n",
       "    </tr>\n",
       "  </tbody>\n",
       "</table>\n",
       "</div>"
      ],
      "text/plain": [
       "         math score  reading score  writing score\n",
       "count  1.000000e+02   1.000000e+02   1.000000e+02\n",
       "mean  -2.642331e-16  -3.048950e-16  -4.468648e-17\n",
       "std    1.005038e+00   1.005038e+00   1.005038e+00\n",
       "min   -3.133149e+00  -3.291909e+00  -3.317542e+00\n",
       "25%   -5.613050e-01  -6.572107e-01  -4.820360e-01\n",
       "50%    1.459522e-01   1.112428e-01  -9.451687e-03\n",
       "75%    7.406911e-01   7.333242e-01   8.006929e-01\n",
       "max    1.881947e+00   1.757929e+00   1.610838e+00"
      ]
     },
     "execution_count": 9,
     "metadata": {},
     "output_type": "execute_result"
    }
   ],
   "source": [
    "data.describe()"
   ]
  },
  {
   "cell_type": "markdown",
   "metadata": {},
   "source": [
    "Our data frame now contains standardized values for scores. You can see that mean values are very, very close to 0, and the standard deviations for all three scores are very, very close to 1. This is what standardization has done."
   ]
  },
  {
   "cell_type": "markdown",
   "metadata": {},
   "source": [
    "# Label Encoding and One-hot Encoding Categorical Data"
   ]
  },
  {
   "cell_type": "markdown",
   "metadata": {},
   "source": [
    "What's interesting about this dataset is the fact that many of its columns contain discrete or categorical values, such as the parental level of education column. Call the unique function in order to see the unique values represented in this column. "
   ]
  },
  {
   "cell_type": "code",
   "execution_count": 10,
   "metadata": {},
   "outputs": [
    {
     "data": {
      "text/plain": [
       "array([\"associate's degree\", 'some college', 'high school',\n",
       "       \"bachelor's degree\", 'some high school', \"master's degree\"],\n",
       "      dtype=object)"
      ]
     },
     "execution_count": 10,
     "metadata": {},
     "output_type": "execute_result"
    }
   ],
   "source": [
    "data['parental level of education'].unique()"
   ]
  },
  {
   "cell_type": "markdown",
   "metadata": {},
   "source": [
    "These are the differing levels of education for the parents of these students. \n",
    "\n",
    "For this particular field containing categorical data, you know that there is an intrinsic order in the level of education. Some high school, then comes high school, then some college, then associate's, the bachelor's, then master's degree. "
   ]
  },
  {
   "cell_type": "code",
   "execution_count": 11,
   "metadata": {},
   "outputs": [],
   "source": [
    "parental_level_of_education = [\n",
    "    'some high school',\n",
    "    'high school',\n",
    "    'some college',\n",
    "    \"associate's degree\",\n",
    "    \"bachelor's degree\",\n",
    "    \"master's degree\"\n",
    "]"
   ]
  },
  {
   "cell_type": "markdown",
   "metadata": {},
   "source": [
    "Categorical values have to be converted to numeric form before they can be used in your ML model, and when there is an ordering associated with your categories, you should use the preprocessing.LabelEncoder object in scikit-learn to convert categorical values to ordered integer values to use in our ML algorithm. "
   ]
  },
  {
   "cell_type": "markdown",
   "metadata": {},
   "source": [
    "Instantiate the LabelEncoder object, and call fit on the parent_level_of_education array. The result will be an ordered label encoding of these categories. Every category will be represented by an integer value. And these integers can then be fed into our ML model for training. "
   ]
  },
  {
   "cell_type": "code",
   "execution_count": 12,
   "metadata": {},
   "outputs": [],
   "source": [
    "label_encoding = preprocessing.LabelEncoder()\n",
    "\n",
    "label_encoding = label_encoding.fit(parental_level_of_education)"
   ]
  },
  {
   "cell_type": "markdown",
   "metadata": {},
   "source": [
    "Label_encoding.classes_ gives you the classes that were encoded as integers. These are the various levels of education for the parents of students. "
   ]
  },
  {
   "cell_type": "code",
   "execution_count": 13,
   "metadata": {},
   "outputs": [
    {
     "data": {
      "text/plain": [
       "array([\"associate's degree\", \"bachelor's degree\", 'high school',\n",
       "       \"master's degree\", 'some college', 'some high school'],\n",
       "      dtype='<U18')"
      ]
     },
     "execution_count": 13,
     "metadata": {},
     "output_type": "execute_result"
    }
   ],
   "source": [
    "label_encoding.classes_"
   ]
  },
  {
   "cell_type": "markdown",
   "metadata": {},
   "source": [
    "Let's transform our parental level of education column in our data frame to these unique integer labels by calling label_encoding.transform. "
   ]
  },
  {
   "cell_type": "code",
   "execution_count": 14,
   "metadata": {},
   "outputs": [],
   "source": [
    "data['parental level of education'] = \\\n",
    "    label_encoding.transform(data['parental level of education']).astype(str)"
   ]
  },
  {
   "cell_type": "markdown",
   "metadata": {},
   "source": [
    "Our parental level of education column will now contain integer values representing the different levels of education. \n",
    "\n",
    "Zero represents some high school, 1 represents high school, and so on. "
   ]
  },
  {
   "cell_type": "code",
   "execution_count": 15,
   "metadata": {},
   "outputs": [
    {
     "data": {
      "text/html": [
       "<div>\n",
       "<style scoped>\n",
       "    .dataframe tbody tr th:only-of-type {\n",
       "        vertical-align: middle;\n",
       "    }\n",
       "\n",
       "    .dataframe tbody tr th {\n",
       "        vertical-align: top;\n",
       "    }\n",
       "\n",
       "    .dataframe thead th {\n",
       "        text-align: right;\n",
       "    }\n",
       "</style>\n",
       "<table border=\"1\" class=\"dataframe\">\n",
       "  <thead>\n",
       "    <tr style=\"text-align: right;\">\n",
       "      <th></th>\n",
       "      <th>gender</th>\n",
       "      <th>race/ethnicity</th>\n",
       "      <th>parental level of education</th>\n",
       "      <th>lunch</th>\n",
       "      <th>test preparation course</th>\n",
       "      <th>math score</th>\n",
       "      <th>reading score</th>\n",
       "      <th>writing score</th>\n",
       "    </tr>\n",
       "  </thead>\n",
       "  <tbody>\n",
       "    <tr>\n",
       "      <td>58</td>\n",
       "      <td>female</td>\n",
       "      <td>group B</td>\n",
       "      <td>2</td>\n",
       "      <td>free/reduced</td>\n",
       "      <td>none</td>\n",
       "      <td>-1.847227</td>\n",
       "      <td>-1.535443</td>\n",
       "      <td>-2.102325</td>\n",
       "    </tr>\n",
       "    <tr>\n",
       "      <td>77</td>\n",
       "      <td>female</td>\n",
       "      <td>group D</td>\n",
       "      <td>4</td>\n",
       "      <td>standard</td>\n",
       "      <td>none</td>\n",
       "      <td>0.145952</td>\n",
       "      <td>0.147836</td>\n",
       "      <td>0.530645</td>\n",
       "    </tr>\n",
       "    <tr>\n",
       "      <td>87</td>\n",
       "      <td>female</td>\n",
       "      <td>group C</td>\n",
       "      <td>4</td>\n",
       "      <td>free/reduced</td>\n",
       "      <td>none</td>\n",
       "      <td>0.210248</td>\n",
       "      <td>0.221022</td>\n",
       "      <td>0.530645</td>\n",
       "    </tr>\n",
       "    <tr>\n",
       "      <td>90</td>\n",
       "      <td>female</td>\n",
       "      <td>group E</td>\n",
       "      <td>3</td>\n",
       "      <td>standard</td>\n",
       "      <td>none</td>\n",
       "      <td>0.081656</td>\n",
       "      <td>-0.071722</td>\n",
       "      <td>-0.009452</td>\n",
       "    </tr>\n",
       "    <tr>\n",
       "      <td>46</td>\n",
       "      <td>female</td>\n",
       "      <td>group B</td>\n",
       "      <td>2</td>\n",
       "      <td>free/reduced</td>\n",
       "      <td>none</td>\n",
       "      <td>-1.011378</td>\n",
       "      <td>-0.803583</td>\n",
       "      <td>-0.347012</td>\n",
       "    </tr>\n",
       "  </tbody>\n",
       "</table>\n",
       "</div>"
      ],
      "text/plain": [
       "    gender race/ethnicity parental level of education         lunch  \\\n",
       "58  female        group B                           2  free/reduced   \n",
       "77  female        group D                           4      standard   \n",
       "87  female        group C                           4  free/reduced   \n",
       "90  female        group E                           3      standard   \n",
       "46  female        group B                           2  free/reduced   \n",
       "\n",
       "   test preparation course  math score  reading score  writing score  \n",
       "58                    none   -1.847227      -1.535443      -2.102325  \n",
       "77                    none    0.145952       0.147836       0.530645  \n",
       "87                    none    0.210248       0.221022       0.530645  \n",
       "90                    none    0.081656      -0.071722      -0.009452  \n",
       "46                    none   -1.011378      -0.803583      -0.347012  "
      ]
     },
     "execution_count": 15,
     "metadata": {},
     "output_type": "execute_result"
    }
   ],
   "source": [
    "data.sample(5)"
   ]
  },
  {
   "cell_type": "markdown",
   "metadata": {},
   "source": [
    "If you have values in your dataset that are categorical in that they are discrete values, but there is no intrinsic ordering between these values, you can convert these categorical values to numeric representation using one-hot encoding. \n",
    "\n",
    "For example, the race or ethnicity that a particular student belongs to is just a category. There is no ordering between these races. The pd.get_dummies function will allow us to represent these categories for students in numeric form using one-hot encoding. \n",
    "\n",
    "The pd.get_dummies function will allow us to represent these categories for students in numeric form using one-hot encoding. The pd.get_dummies function will replace the original race/ethnicity column with a column representing each race."
   ]
  },
  {
   "cell_type": "code",
   "execution_count": 16,
   "metadata": {},
   "outputs": [
    {
     "data": {
      "text/html": [
       "<div>\n",
       "<style scoped>\n",
       "    .dataframe tbody tr th:only-of-type {\n",
       "        vertical-align: middle;\n",
       "    }\n",
       "\n",
       "    .dataframe tbody tr th {\n",
       "        vertical-align: top;\n",
       "    }\n",
       "\n",
       "    .dataframe thead th {\n",
       "        text-align: right;\n",
       "    }\n",
       "</style>\n",
       "<table border=\"1\" class=\"dataframe\">\n",
       "  <thead>\n",
       "    <tr style=\"text-align: right;\">\n",
       "      <th></th>\n",
       "      <th>gender</th>\n",
       "      <th>parental level of education</th>\n",
       "      <th>lunch</th>\n",
       "      <th>test preparation course</th>\n",
       "      <th>math score</th>\n",
       "      <th>reading score</th>\n",
       "      <th>writing score</th>\n",
       "      <th>race/ethnicity_group A</th>\n",
       "      <th>race/ethnicity_group B</th>\n",
       "      <th>race/ethnicity_group C</th>\n",
       "      <th>race/ethnicity_group D</th>\n",
       "      <th>race/ethnicity_group E</th>\n",
       "    </tr>\n",
       "  </thead>\n",
       "  <tbody>\n",
       "    <tr>\n",
       "      <td>30</td>\n",
       "      <td>male</td>\n",
       "      <td>4</td>\n",
       "      <td>standard</td>\n",
       "      <td>completed</td>\n",
       "      <td>0.660321</td>\n",
       "      <td>0.221022</td>\n",
       "      <td>0.260597</td>\n",
       "      <td>0</td>\n",
       "      <td>0</td>\n",
       "      <td>1</td>\n",
       "      <td>0</td>\n",
       "      <td>0</td>\n",
       "    </tr>\n",
       "    <tr>\n",
       "      <td>57</td>\n",
       "      <td>female</td>\n",
       "      <td>3</td>\n",
       "      <td>standard</td>\n",
       "      <td>none</td>\n",
       "      <td>-1.204266</td>\n",
       "      <td>-0.218094</td>\n",
       "      <td>-0.347012</td>\n",
       "      <td>0</td>\n",
       "      <td>0</td>\n",
       "      <td>0</td>\n",
       "      <td>1</td>\n",
       "      <td>0</td>\n",
       "    </tr>\n",
       "    <tr>\n",
       "      <td>46</td>\n",
       "      <td>female</td>\n",
       "      <td>2</td>\n",
       "      <td>free/reduced</td>\n",
       "      <td>none</td>\n",
       "      <td>-1.011378</td>\n",
       "      <td>-0.803583</td>\n",
       "      <td>-0.347012</td>\n",
       "      <td>0</td>\n",
       "      <td>1</td>\n",
       "      <td>0</td>\n",
       "      <td>0</td>\n",
       "      <td>0</td>\n",
       "    </tr>\n",
       "    <tr>\n",
       "      <td>92</td>\n",
       "      <td>male</td>\n",
       "      <td>0</td>\n",
       "      <td>free/reduced</td>\n",
       "      <td>none</td>\n",
       "      <td>-0.947082</td>\n",
       "      <td>-0.949955</td>\n",
       "      <td>-1.022132</td>\n",
       "      <td>0</td>\n",
       "      <td>1</td>\n",
       "      <td>0</td>\n",
       "      <td>0</td>\n",
       "      <td>0</td>\n",
       "    </tr>\n",
       "    <tr>\n",
       "      <td>85</td>\n",
       "      <td>female</td>\n",
       "      <td>1</td>\n",
       "      <td>standard</td>\n",
       "      <td>completed</td>\n",
       "      <td>0.338840</td>\n",
       "      <td>0.586952</td>\n",
       "      <td>0.800693</td>\n",
       "      <td>0</td>\n",
       "      <td>1</td>\n",
       "      <td>0</td>\n",
       "      <td>0</td>\n",
       "      <td>0</td>\n",
       "    </tr>\n",
       "  </tbody>\n",
       "</table>\n",
       "</div>"
      ],
      "text/plain": [
       "    gender parental level of education         lunch test preparation course  \\\n",
       "30    male                           4      standard               completed   \n",
       "57  female                           3      standard                    none   \n",
       "46  female                           2  free/reduced                    none   \n",
       "92    male                           0  free/reduced                    none   \n",
       "85  female                           1      standard               completed   \n",
       "\n",
       "    math score  reading score  writing score  race/ethnicity_group A  \\\n",
       "30    0.660321       0.221022       0.260597                       0   \n",
       "57   -1.204266      -0.218094      -0.347012                       0   \n",
       "46   -1.011378      -0.803583      -0.347012                       0   \n",
       "92   -0.947082      -0.949955      -1.022132                       0   \n",
       "85    0.338840       0.586952       0.800693                       0   \n",
       "\n",
       "    race/ethnicity_group B  race/ethnicity_group C  race/ethnicity_group D  \\\n",
       "30                       0                       1                       0   \n",
       "57                       0                       0                       1   \n",
       "46                       1                       0                       0   \n",
       "92                       1                       0                       0   \n",
       "85                       1                       0                       0   \n",
       "\n",
       "    race/ethnicity_group E  \n",
       "30                       0  \n",
       "57                       0  \n",
       "46                       0  \n",
       "92                       0  \n",
       "85                       0  "
      ]
     },
     "execution_count": 16,
     "metadata": {},
     "output_type": "execute_result"
    }
   ],
   "source": [
    "data = pd.get_dummies(data,columns = ['race/ethnicity'])\n",
    "\n",
    "data.sample(5)"
   ]
  },
  {
   "cell_type": "markdown",
   "metadata": {},
   "source": [
    "Race and ethnicity are represented by categories group A, group B, all the way up to group E. And you can see that there is a column associated with each of these groups after we've one-hot encoded this information. \n",
    "\n",
    "A student who belongs to group E will have a 1 in that particular column, all other columns will be 0s. A student belonging to group B will have a 1 in that column, other columns will be 0s. This is how one-hot encoding of categorical data works. \n",
    "\n",
    "We'll now perform the same one-hot encoding for other categorical values in this dataset. "
   ]
  },
  {
   "cell_type": "code",
   "execution_count": 17,
   "metadata": {},
   "outputs": [],
   "source": [
    "data = pd.get_dummies(data, columns = ['gender',\n",
    "                     'lunch','test preparation course'])"
   ]
  },
  {
   "cell_type": "code",
   "execution_count": 18,
   "metadata": {},
   "outputs": [
    {
     "data": {
      "text/html": [
       "<div>\n",
       "<style scoped>\n",
       "    .dataframe tbody tr th:only-of-type {\n",
       "        vertical-align: middle;\n",
       "    }\n",
       "\n",
       "    .dataframe tbody tr th {\n",
       "        vertical-align: top;\n",
       "    }\n",
       "\n",
       "    .dataframe thead th {\n",
       "        text-align: right;\n",
       "    }\n",
       "</style>\n",
       "<table border=\"1\" class=\"dataframe\">\n",
       "  <thead>\n",
       "    <tr style=\"text-align: right;\">\n",
       "      <th></th>\n",
       "      <th>parental level of education</th>\n",
       "      <th>math score</th>\n",
       "      <th>reading score</th>\n",
       "      <th>writing score</th>\n",
       "      <th>race/ethnicity_group A</th>\n",
       "      <th>race/ethnicity_group B</th>\n",
       "      <th>race/ethnicity_group C</th>\n",
       "      <th>race/ethnicity_group D</th>\n",
       "      <th>race/ethnicity_group E</th>\n",
       "      <th>gender_female</th>\n",
       "      <th>gender_male</th>\n",
       "      <th>lunch_free/reduced</th>\n",
       "      <th>lunch_standard</th>\n",
       "      <th>test preparation course_completed</th>\n",
       "      <th>test preparation course_none</th>\n",
       "    </tr>\n",
       "  </thead>\n",
       "  <tbody>\n",
       "    <tr>\n",
       "      <td>0</td>\n",
       "      <td>0</td>\n",
       "      <td>0.210248</td>\n",
       "      <td>0.440580</td>\n",
       "      <td>-0.009452</td>\n",
       "      <td>0</td>\n",
       "      <td>0</td>\n",
       "      <td>0</td>\n",
       "      <td>0</td>\n",
       "      <td>1</td>\n",
       "      <td>1</td>\n",
       "      <td>0</td>\n",
       "      <td>0</td>\n",
       "      <td>1</td>\n",
       "      <td>0</td>\n",
       "      <td>1</td>\n",
       "    </tr>\n",
       "    <tr>\n",
       "      <td>1</td>\n",
       "      <td>4</td>\n",
       "      <td>-1.268562</td>\n",
       "      <td>-1.315885</td>\n",
       "      <td>-1.292181</td>\n",
       "      <td>0</td>\n",
       "      <td>0</td>\n",
       "      <td>1</td>\n",
       "      <td>0</td>\n",
       "      <td>0</td>\n",
       "      <td>1</td>\n",
       "      <td>0</td>\n",
       "      <td>0</td>\n",
       "      <td>1</td>\n",
       "      <td>0</td>\n",
       "      <td>1</td>\n",
       "    </tr>\n",
       "    <tr>\n",
       "      <td>2</td>\n",
       "      <td>2</td>\n",
       "      <td>0.531729</td>\n",
       "      <td>0.147836</td>\n",
       "      <td>-0.076964</td>\n",
       "      <td>0</td>\n",
       "      <td>0</td>\n",
       "      <td>0</td>\n",
       "      <td>0</td>\n",
       "      <td>1</td>\n",
       "      <td>0</td>\n",
       "      <td>1</td>\n",
       "      <td>0</td>\n",
       "      <td>1</td>\n",
       "      <td>0</td>\n",
       "      <td>1</td>\n",
       "    </tr>\n",
       "    <tr>\n",
       "      <td>3</td>\n",
       "      <td>4</td>\n",
       "      <td>-1.461450</td>\n",
       "      <td>-1.315885</td>\n",
       "      <td>-1.022132</td>\n",
       "      <td>0</td>\n",
       "      <td>1</td>\n",
       "      <td>0</td>\n",
       "      <td>0</td>\n",
       "      <td>0</td>\n",
       "      <td>1</td>\n",
       "      <td>0</td>\n",
       "      <td>1</td>\n",
       "      <td>0</td>\n",
       "      <td>1</td>\n",
       "      <td>0</td>\n",
       "    </tr>\n",
       "    <tr>\n",
       "      <td>4</td>\n",
       "      <td>1</td>\n",
       "      <td>0.017360</td>\n",
       "      <td>0.440580</td>\n",
       "      <td>0.733181</td>\n",
       "      <td>0</td>\n",
       "      <td>1</td>\n",
       "      <td>0</td>\n",
       "      <td>0</td>\n",
       "      <td>0</td>\n",
       "      <td>1</td>\n",
       "      <td>0</td>\n",
       "      <td>0</td>\n",
       "      <td>1</td>\n",
       "      <td>1</td>\n",
       "      <td>0</td>\n",
       "    </tr>\n",
       "  </tbody>\n",
       "</table>\n",
       "</div>"
      ],
      "text/plain": [
       "  parental level of education  math score  reading score  writing score  \\\n",
       "0                           0    0.210248       0.440580      -0.009452   \n",
       "1                           4   -1.268562      -1.315885      -1.292181   \n",
       "2                           2    0.531729       0.147836      -0.076964   \n",
       "3                           4   -1.461450      -1.315885      -1.022132   \n",
       "4                           1    0.017360       0.440580       0.733181   \n",
       "\n",
       "   race/ethnicity_group A  race/ethnicity_group B  race/ethnicity_group C  \\\n",
       "0                       0                       0                       0   \n",
       "1                       0                       0                       1   \n",
       "2                       0                       0                       0   \n",
       "3                       0                       1                       0   \n",
       "4                       0                       1                       0   \n",
       "\n",
       "   race/ethnicity_group D  race/ethnicity_group E  gender_female  gender_male  \\\n",
       "0                       0                       1              1            0   \n",
       "1                       0                       0              1            0   \n",
       "2                       0                       1              0            1   \n",
       "3                       0                       0              1            0   \n",
       "4                       0                       0              1            0   \n",
       "\n",
       "   lunch_free/reduced  lunch_standard  test preparation course_completed  \\\n",
       "0                   0               1                                  0   \n",
       "1                   0               1                                  0   \n",
       "2                   0               1                                  0   \n",
       "3                   1               0                                  1   \n",
       "4                   0               1                                  1   \n",
       "\n",
       "   test preparation course_none  \n",
       "0                             1  \n",
       "1                             1  \n",
       "2                             1  \n",
       "3                             0  \n",
       "4                             0  "
      ]
     },
     "execution_count": 18,
     "metadata": {},
     "output_type": "execute_result"
    }
   ],
   "source": [
    "data.head()"
   ]
  },
  {
   "cell_type": "markdown",
   "metadata": {},
   "source": [
    "Now that we have our data all in numeric form, including the categorical values, let's set up our training data and our test data. We'll try and predict the math score for a particular student using the other features in the dataset. So we'll use the personal details for every student, along with their reading and writing scores to predict their math scores."
   ]
  },
  {
   "cell_type": "markdown",
   "metadata": {},
   "source": [
    "The x variables, or the features that we'll use for training, are all columns other than the math score. So drop the math score and assign the rest to x. The y variables are the target values that we're going to predict using linear regression is the math score for every student. Call the train_test_split function in order to use 80% of the data to train our model and 20% to test our model. "
   ]
  },
  {
   "cell_type": "code",
   "execution_count": 20,
   "metadata": {},
   "outputs": [],
   "source": [
    "X = data.drop(columns = 'math score')\n",
    "Y = data['math score']"
   ]
  },
  {
   "cell_type": "code",
   "execution_count": 21,
   "metadata": {},
   "outputs": [],
   "source": [
    "RANDOM_SEED = 2\n",
    "\n",
    "x_train,x_test,y_train,y_test = train_test_split(X,Y,test_size=0.2, random_state = RANDOM_SEED)"
   ]
  },
  {
   "cell_type": "markdown",
   "metadata": {},
   "source": [
    "This is a toy dataset. Our training data has just 80 records, and our test data has 20 records. And the corresponding thing is true for the y labels for the values as well."
   ]
  },
  {
   "cell_type": "code",
   "execution_count": 22,
   "metadata": {},
   "outputs": [
    {
     "data": {
      "text/plain": [
       "((80, 14), (20, 14))"
      ]
     },
     "execution_count": 22,
     "metadata": {},
     "output_type": "execute_result"
    }
   ],
   "source": [
    "x_train.shape,x_test.shape"
   ]
  },
  {
   "cell_type": "code",
   "execution_count": 23,
   "metadata": {},
   "outputs": [
    {
     "data": {
      "text/plain": [
       "((80,), (20,))"
      ]
     },
     "execution_count": 23,
     "metadata": {},
     "output_type": "execute_result"
    }
   ],
   "source": [
    "y_train.shape,y_test.shape"
   ]
  },
  {
   "cell_type": "markdown",
   "metadata": {},
   "source": [
    "With our dataset all set up, we are now ready to fit a linear model on our data. From sklearn.linear_model, import a LinearRegression estimator. Instantiate the LinearRegression estimator object, and we explicitly pass in the parameter fit_intercept is equal to True. \n",
    "\n",
    "Now we've used one-hot encoding for the features in our dataset, and we have set fit_intercept to True, now this particular setup might cause us to encounter what is known as the dummy variable trap. The dummy variable trap occurs when there is perfect collinearity between two variables that we've used in our model. This trap is encountered if we fit an intercept on our linear model and we use all of the columns from our one-hot encoded variables. \n",
    "\n",
    "Let's try training our model with these particular parameters, fit_intercept=True and one-hot encoding with all of the columns intact in our features, and see what happens. "
   ]
  },
  {
   "cell_type": "code",
   "execution_count": 25,
   "metadata": {},
   "outputs": [],
   "source": [
    "linear_model = LinearRegression(fit_intercept=True).fit(x_train,y_train)"
   ]
  },
  {
   "cell_type": "markdown",
   "metadata": {},
   "source": [
    "The model trains with no errors, things seem to be fine here. "
   ]
  },
  {
   "cell_type": "markdown",
   "metadata": {},
   "source": [
    "Let's calculate the score of this model. "
   ]
  },
  {
   "cell_type": "code",
   "execution_count": 26,
   "metadata": {},
   "outputs": [
    {
     "name": "stdout",
     "output_type": "stream",
     "text": [
      "Training Score :  0.8902705019605598\n"
     ]
    }
   ],
   "source": [
    "print(\"Training Score : \",linear_model.score(x_train,y_train))"
   ]
  },
  {
   "cell_type": "markdown",
   "metadata": {},
   "source": [
    "Here is the R square, and the R square is 89%. This is very good. It's a simple dataset, which is why we have this high R squared. Let's use this model for prediction on our test data. \n",
    "\n",
    "Call linear_model.predict on x_test, and let's calculate the testing R square score as well."
   ]
  },
  {
   "cell_type": "code",
   "execution_count": 27,
   "metadata": {},
   "outputs": [],
   "source": [
    "y_pred = linear_model.predict(x_test)"
   ]
  },
  {
   "cell_type": "code",
   "execution_count": 28,
   "metadata": {},
   "outputs": [
    {
     "name": "stdout",
     "output_type": "stream",
     "text": [
      "Training Score :  0.8468838538126181\n"
     ]
    }
   ],
   "source": [
    "from sklearn.metrics import r2_score\n",
    "\n",
    "print(\"Testing Score : \",r2_score(y_test,y_pred))"
   ]
  },
  {
   "cell_type": "markdown",
   "metadata": {},
   "source": [
    "And the testing score is 84%. Once again, quite good. "
   ]
  },
  {
   "cell_type": "markdown",
   "metadata": {},
   "source": [
    "Let's now run the same model, the linear regression model, on the same data. This time we'll set fit_intercept to False. When we've used all of the columns in our one-hot encoded labels, fit_intercept should be False. Once the training of this model is complete, calculate the training score. "
   ]
  },
  {
   "cell_type": "code",
   "execution_count": 29,
   "metadata": {},
   "outputs": [],
   "source": [
    "linear_model_2 = LinearRegression(fit_intercept=False).fit(x_train,y_train)"
   ]
  },
  {
   "cell_type": "code",
   "execution_count": 30,
   "metadata": {},
   "outputs": [
    {
     "name": "stdout",
     "output_type": "stream",
     "text": [
      "Training Score :  0.8902705019605598\n"
     ]
    }
   ],
   "source": [
    "print(\"Training Score : \",linear_model_2.score(x_train,y_train))"
   ]
  },
  {
   "cell_type": "markdown",
   "metadata": {},
   "source": [
    "You'll see that it's once again 89.02 %, the same as before. Use this model for prediction and calculate the test R square on the test data as well. "
   ]
  },
  {
   "cell_type": "code",
   "execution_count": 31,
   "metadata": {},
   "outputs": [],
   "source": [
    "y_predd = linear_model.predict(x_test)"
   ]
  },
  {
   "cell_type": "code",
   "execution_count": 32,
   "metadata": {},
   "outputs": [
    {
     "name": "stdout",
     "output_type": "stream",
     "text": [
      "Testing Score :  0.8468838538126181\n"
     ]
    }
   ],
   "source": [
    "print(\"Testing Score : \",r2_score(y_test,y_predd))"
   ]
  },
  {
   "cell_type": "markdown",
   "metadata": {},
   "source": [
    "Once again, it's 84%. Now, if you've been following along closely, you might have realized that our training as well as test R squares with fit_intercept=True, as well as False, are exactly the same. Why is this?\n",
    "\n",
    "\n",
    "So when we previously had set fit_intercept to True, we said that we might encounter the dummy variable trap. But that is clearly not the case. With fit_intercept=False, we get the same results as with fit_intercept=True. This dummy variable trap is often encountered in the real world, which is why the scikit-learn LinearRegressor estimator object accounts for this intercept when you use one-hot encoding in your features. \n",
    "\n",
    "So whether you set fit_intercept to True or False, it does not matter with the LinearRegression estimator object. If you've used one-hot encoding for your features, the LinearRegression object will make sure that fit_intercept is False under the hood so that you don't fall into the dummy variable trap. "
   ]
  },
  {
   "cell_type": "markdown",
   "metadata": {},
   "source": [
    "So this is a good thing when you're using scikit-learn's LinearRegression object. Not all of the estimator objects in scikit-learn account for this though, so you have to watch out and be a little careful. \n",
    "\n",
    "Now that we have predicted values from our model, let's set up a data frame with the actual versus predicted values and take a look at some actual predictions. "
   ]
  },
  {
   "cell_type": "code",
   "execution_count": 34,
   "metadata": {},
   "outputs": [
    {
     "data": {
      "text/html": [
       "<div>\n",
       "<style scoped>\n",
       "    .dataframe tbody tr th:only-of-type {\n",
       "        vertical-align: middle;\n",
       "    }\n",
       "\n",
       "    .dataframe tbody tr th {\n",
       "        vertical-align: top;\n",
       "    }\n",
       "\n",
       "    .dataframe thead th {\n",
       "        text-align: right;\n",
       "    }\n",
       "</style>\n",
       "<table border=\"1\" class=\"dataframe\">\n",
       "  <thead>\n",
       "    <tr style=\"text-align: right;\">\n",
       "      <th></th>\n",
       "      <th>predicted</th>\n",
       "      <th>actual</th>\n",
       "    </tr>\n",
       "  </thead>\n",
       "  <tbody>\n",
       "    <tr>\n",
       "      <td>83</td>\n",
       "      <td>-0.125495</td>\n",
       "      <td>0.403137</td>\n",
       "    </tr>\n",
       "    <tr>\n",
       "      <td>30</td>\n",
       "      <td>0.594900</td>\n",
       "      <td>0.660321</td>\n",
       "    </tr>\n",
       "    <tr>\n",
       "      <td>56</td>\n",
       "      <td>0.875424</td>\n",
       "      <td>1.496170</td>\n",
       "    </tr>\n",
       "    <tr>\n",
       "      <td>24</td>\n",
       "      <td>-0.501258</td>\n",
       "      <td>-0.046936</td>\n",
       "    </tr>\n",
       "    <tr>\n",
       "      <td>16</td>\n",
       "      <td>-0.684805</td>\n",
       "      <td>-0.754193</td>\n",
       "    </tr>\n",
       "    <tr>\n",
       "      <td>23</td>\n",
       "      <td>-2.421335</td>\n",
       "      <td>-3.133149</td>\n",
       "    </tr>\n",
       "    <tr>\n",
       "      <td>2</td>\n",
       "      <td>0.929042</td>\n",
       "      <td>0.531729</td>\n",
       "    </tr>\n",
       "    <tr>\n",
       "      <td>27</td>\n",
       "      <td>0.644491</td>\n",
       "      <td>0.724617</td>\n",
       "    </tr>\n",
       "    <tr>\n",
       "      <td>28</td>\n",
       "      <td>0.694844</td>\n",
       "      <td>0.210248</td>\n",
       "    </tr>\n",
       "    <tr>\n",
       "      <td>13</td>\n",
       "      <td>-0.248360</td>\n",
       "      <td>0.145952</td>\n",
       "    </tr>\n",
       "  </tbody>\n",
       "</table>\n",
       "</div>"
      ],
      "text/plain": [
       "    predicted    actual\n",
       "83  -0.125495  0.403137\n",
       "30   0.594900  0.660321\n",
       "56   0.875424  1.496170\n",
       "24  -0.501258 -0.046936\n",
       "16  -0.684805 -0.754193\n",
       "23  -2.421335 -3.133149\n",
       "2    0.929042  0.531729\n",
       "27   0.644491  0.724617\n",
       "28   0.694844  0.210248\n",
       "13  -0.248360  0.145952"
      ]
     },
     "execution_count": 34,
     "metadata": {},
     "output_type": "execute_result"
    }
   ],
   "source": [
    "actual_pred_df = pd.DataFrame({'predicted':y_pred,'actual':y_test})\n",
    "\n",
    "actual_pred_df.head(10)"
   ]
  },
  {
   "cell_type": "markdown",
   "metadata": {},
   "source": [
    "Because we standardized the scores when we fed them into our model, the output scores are also in the standardized form. The actual and the predicted scores seem to be pretty close. The high R square should tell us that this is a good model. \n",
    "\n",
    "\n",
    "Let's plot line charts of actual versus predicted scores. "
   ]
  },
  {
   "cell_type": "code",
   "execution_count": 35,
   "metadata": {},
   "outputs": [
    {
     "data": {
      "image/png": "[encoded data removed]",
      "text/plain": [
       "<Figure size 864x576 with 1 Axes>"
      ]
     },
     "metadata": {
      "needs_background": "light"
     },
     "output_type": "display_data"
    }
   ],
   "source": [
    "fig , ax = plt.subplots(figsize=(12,8))\n",
    "\n",
    "\n",
    "plt.plot(y_pred,label = \"Predicted\")\n",
    "plt.plot(y_test.values,label = \"Actual\") # note the use of y_test.values\n",
    "\n",
    "plt.ylabel(\"Math Scores\")\n",
    "\n",
    "plt.show()"
   ]
  },
  {
   "cell_type": "markdown",
   "metadata": {},
   "source": [
    "You can see that they're very close together. Let's try building this model with a few different features. \n",
    "\n",
    "Let's try predicting the math score for each student without using any of the other scores. \n",
    "\n",
    "The only thing that we change here are our x variables. \n",
    "\n",
    "Drop the math score, writing score, and reading score from x.\n",
    "\n",
    "We'll only use the student's personal details to predict his or her math score. Split up the data into training and test, instantiate and train a linear regression model, calculate the R square score for training, as well as test data. "
   ]
  },
  {
   "cell_type": "code",
   "execution_count": 38,
   "metadata": {},
   "outputs": [
    {
     "name": "stdout",
     "output_type": "stream",
     "text": [
      "Training Score :  0.35689853779017344\n",
      "Testing Score  :  0.1544849458209937\n"
     ]
    }
   ],
   "source": [
    "X = data.drop(columns = ['math score','writing score','reading score'])\n",
    "Y = data['math score']\n",
    "\n",
    "RANDOM_SEED = 2\n",
    "\n",
    "x_train,x_test,y_train,y_test = train_test_split(X,Y,test_size=0.2, random_state = RANDOM_SEED)\n",
    "\n",
    "linear_model_3 = LinearRegression(fit_intercept=True).fit(x_train,y_train)\n",
    "\n",
    "print(\"Training Score : \",linear_model_3.score(x_train,y_train))\n",
    "\n",
    "y_pred_3 = linear_model_3.predict(x_test)\n",
    "\n",
    "print(\"Testing Score  : \",r2_score(y_test,y_pred_3))"
   ]
  },
  {
   "cell_type": "markdown",
   "metadata": {},
   "source": [
    "And you can see that for this particular model our R-square values are really low. That's because it is the other scores that have higher predictive power for the math scores. "
   ]
  },
  {
   "cell_type": "markdown",
   "metadata": {},
   "source": [
    "Let's try this once again with a little variation. We'll try and predict the math score using only the reading score along with other features. We won't use the writing score. So reading score alone. Drop the math score and the writing score from our x variables, and go ahead, split up the data, train the model, and print out the R squares. "
   ]
  },
  {
   "cell_type": "code",
   "execution_count": 39,
   "metadata": {},
   "outputs": [
    {
     "name": "stdout",
     "output_type": "stream",
     "text": [
      "Training Score :  0.8359528125294313\n",
      "Testing Score  :  0.8090242833552915\n"
     ]
    }
   ],
   "source": [
    "X = data.drop(columns = ['math score','writing score'])\n",
    "Y = data['math score']\n",
    "\n",
    "RANDOM_SEED = 2\n",
    "\n",
    "x_train,x_test,y_train,y_test = train_test_split(X,Y,test_size=0.2, random_state = RANDOM_SEED)\n",
    "\n",
    "linear_model_3 = LinearRegression(fit_intercept=True).fit(x_train,y_train)\n",
    "\n",
    "print(\"Training Score : \",linear_model_3.score(x_train,y_train))\n",
    "\n",
    "y_pred_3 = linear_model_3.predict(x_test)\n",
    "\n",
    "print(\"Testing Score  : \",r2_score(y_test,y_pred_3))"
   ]
  },
  {
   "cell_type": "markdown",
   "metadata": {},
   "source": [
    "And you can see that on this simple toy dataset, our R square values for training, as well as test, are pretty high when we use just the reading scores along with other features to predict the math score for a student."
   ]
  },
  {
   "cell_type": "code",
   "execution_count": 40,
   "metadata": {},
   "outputs": [],
   "source": [
    "# END"
   ]
  }
 ],
 "metadata": {
  "kernelspec": {
   "display_name": "Python 3",
   "language": "python",
   "name": "python3"
  },
  "language_info": {
   "codemirror_mode": {
    "name": "ipython",
    "version": 3
   },
   "file_extension": ".py",
   "mimetype": "text/x-python",
   "name": "python",
   "nbconvert_exporter": "python",
   "pygments_lexer": "ipython3",
   "version": "3.7.4"
  }
 },
 "nbformat": 4,
 "nbformat_minor": 2
}
