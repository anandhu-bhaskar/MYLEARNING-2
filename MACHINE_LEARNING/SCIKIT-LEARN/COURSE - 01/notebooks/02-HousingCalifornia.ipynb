{
 "cells": [
  {
   "cell_type": "code",
   "execution_count": 1,
   "metadata": {},
   "outputs": [],
   "source": [
    "import sklearn\n",
    "import numpy as np\n",
    "import pandas as pd\n",
    "import seaborn as sns\n",
    "import matplotlib.pyplot as plt"
   ]
  },
  {
   "cell_type": "markdown",
   "metadata": {},
   "source": [
    "About this file\n",
    "1. longitude: A measure of how far west a house is; a higher value is farther west\n",
    "\n",
    "2. latitude: A measure of how far north a house is; a higher value is farther north\n",
    "\n",
    "3. housingMedianAge: Median age of a house within a block; a lower number is a newer building\n",
    "\n",
    "4. totalRooms: Total number of rooms within a block\n",
    "\n",
    "5. totalBedrooms: Total number of bedrooms within a block\n",
    "\n",
    "6. population: Total number of people residing within a block\n",
    "\n",
    "7. households: Total number of households, a group of people residing within a home unit, for a block\n",
    "\n",
    "8. medianIncome: Median income for households within a block of houses (measured in tens of thousands of US Dollars)\n",
    "\n",
    "9. medianHouseValue: Median house value for households within a block (measured in US Dollars)\n",
    "\n",
    "10. oceanProximity: Location of the house w.r.t ocean/sea"
   ]
  },
  {
   "cell_type": "code",
   "execution_count": 2,
   "metadata": {},
   "outputs": [],
   "source": [
    "calif_hsng_df = pd.read_csv(\"../datasets/housing.csv\")"
   ]
  },
  {
   "cell_type": "code",
   "execution_count": 3,
   "metadata": {},
   "outputs": [
    {
     "data": {
      "text/html": [
       "<div>\n",
       "<style scoped>\n",
       "    .dataframe tbody tr th:only-of-type {\n",
       "        vertical-align: middle;\n",
       "    }\n",
       "\n",
       "    .dataframe tbody tr th {\n",
       "        vertical-align: top;\n",
       "    }\n",
       "\n",
       "    .dataframe thead th {\n",
       "        text-align: right;\n",
       "    }\n",
       "</style>\n",
       "<table border=\"1\" class=\"dataframe\">\n",
       "  <thead>\n",
       "    <tr style=\"text-align: right;\">\n",
       "      <th></th>\n",
       "      <th>longitude</th>\n",
       "      <th>latitude</th>\n",
       "      <th>housing_median_age</th>\n",
       "      <th>total_rooms</th>\n",
       "      <th>total_bedrooms</th>\n",
       "      <th>population</th>\n",
       "      <th>households</th>\n",
       "      <th>median_income</th>\n",
       "      <th>median_house_value</th>\n",
       "      <th>ocean_proximity</th>\n",
       "    </tr>\n",
       "  </thead>\n",
       "  <tbody>\n",
       "    <tr>\n",
       "      <td>0</td>\n",
       "      <td>-122.23</td>\n",
       "      <td>37.88</td>\n",
       "      <td>41.0</td>\n",
       "      <td>880.0</td>\n",
       "      <td>129.0</td>\n",
       "      <td>322.0</td>\n",
       "      <td>126.0</td>\n",
       "      <td>8.3252</td>\n",
       "      <td>452600.0</td>\n",
       "      <td>NEAR BAY</td>\n",
       "    </tr>\n",
       "    <tr>\n",
       "      <td>1</td>\n",
       "      <td>-122.22</td>\n",
       "      <td>37.86</td>\n",
       "      <td>21.0</td>\n",
       "      <td>7099.0</td>\n",
       "      <td>1106.0</td>\n",
       "      <td>2401.0</td>\n",
       "      <td>1138.0</td>\n",
       "      <td>8.3014</td>\n",
       "      <td>358500.0</td>\n",
       "      <td>NEAR BAY</td>\n",
       "    </tr>\n",
       "    <tr>\n",
       "      <td>2</td>\n",
       "      <td>-122.24</td>\n",
       "      <td>37.85</td>\n",
       "      <td>52.0</td>\n",
       "      <td>1467.0</td>\n",
       "      <td>190.0</td>\n",
       "      <td>496.0</td>\n",
       "      <td>177.0</td>\n",
       "      <td>7.2574</td>\n",
       "      <td>352100.0</td>\n",
       "      <td>NEAR BAY</td>\n",
       "    </tr>\n",
       "    <tr>\n",
       "      <td>3</td>\n",
       "      <td>-122.25</td>\n",
       "      <td>37.85</td>\n",
       "      <td>52.0</td>\n",
       "      <td>1274.0</td>\n",
       "      <td>235.0</td>\n",
       "      <td>558.0</td>\n",
       "      <td>219.0</td>\n",
       "      <td>5.6431</td>\n",
       "      <td>341300.0</td>\n",
       "      <td>NEAR BAY</td>\n",
       "    </tr>\n",
       "    <tr>\n",
       "      <td>4</td>\n",
       "      <td>-122.25</td>\n",
       "      <td>37.85</td>\n",
       "      <td>52.0</td>\n",
       "      <td>1627.0</td>\n",
       "      <td>280.0</td>\n",
       "      <td>565.0</td>\n",
       "      <td>259.0</td>\n",
       "      <td>3.8462</td>\n",
       "      <td>342200.0</td>\n",
       "      <td>NEAR BAY</td>\n",
       "    </tr>\n",
       "  </tbody>\n",
       "</table>\n",
       "</div>"
      ],
      "text/plain": [
       "   longitude  latitude  housing_median_age  total_rooms  total_bedrooms  \\\n",
       "0    -122.23     37.88                41.0        880.0           129.0   \n",
       "1    -122.22     37.86                21.0       7099.0          1106.0   \n",
       "2    -122.24     37.85                52.0       1467.0           190.0   \n",
       "3    -122.25     37.85                52.0       1274.0           235.0   \n",
       "4    -122.25     37.85                52.0       1627.0           280.0   \n",
       "\n",
       "   population  households  median_income  median_house_value ocean_proximity  \n",
       "0       322.0       126.0         8.3252            452600.0        NEAR BAY  \n",
       "1      2401.0      1138.0         8.3014            358500.0        NEAR BAY  \n",
       "2       496.0       177.0         7.2574            352100.0        NEAR BAY  \n",
       "3       558.0       219.0         5.6431            341300.0        NEAR BAY  \n",
       "4       565.0       259.0         3.8462            342200.0        NEAR BAY  "
      ]
     },
     "execution_count": 3,
     "metadata": {},
     "output_type": "execute_result"
    }
   ],
   "source": [
    "calif_hsng_df.head()"
   ]
  },
  {
   "cell_type": "code",
   "execution_count": 4,
   "metadata": {},
   "outputs": [
    {
     "data": {
      "text/html": [
       "<div>\n",
       "<style scoped>\n",
       "    .dataframe tbody tr th:only-of-type {\n",
       "        vertical-align: middle;\n",
       "    }\n",
       "\n",
       "    .dataframe tbody tr th {\n",
       "        vertical-align: top;\n",
       "    }\n",
       "\n",
       "    .dataframe thead th {\n",
       "        text-align: right;\n",
       "    }\n",
       "</style>\n",
       "<table border=\"1\" class=\"dataframe\">\n",
       "  <thead>\n",
       "    <tr style=\"text-align: right;\">\n",
       "      <th></th>\n",
       "      <th>longitude</th>\n",
       "      <th>latitude</th>\n",
       "      <th>housing_median_age</th>\n",
       "      <th>total_rooms</th>\n",
       "      <th>total_bedrooms</th>\n",
       "      <th>population</th>\n",
       "      <th>households</th>\n",
       "      <th>median_income</th>\n",
       "      <th>median_house_value</th>\n",
       "      <th>ocean_proximity</th>\n",
       "    </tr>\n",
       "  </thead>\n",
       "  <tbody>\n",
       "    <tr>\n",
       "      <td>14280</td>\n",
       "      <td>-117.13</td>\n",
       "      <td>32.71</td>\n",
       "      <td>42.0</td>\n",
       "      <td>1145.0</td>\n",
       "      <td>314.0</td>\n",
       "      <td>1114.0</td>\n",
       "      <td>307.0</td>\n",
       "      <td>1.2614</td>\n",
       "      <td>87500.0</td>\n",
       "      <td>NEAR OCEAN</td>\n",
       "    </tr>\n",
       "    <tr>\n",
       "      <td>17095</td>\n",
       "      <td>-122.24</td>\n",
       "      <td>37.47</td>\n",
       "      <td>36.0</td>\n",
       "      <td>2021.0</td>\n",
       "      <td>433.0</td>\n",
       "      <td>1117.0</td>\n",
       "      <td>432.0</td>\n",
       "      <td>3.9290</td>\n",
       "      <td>303100.0</td>\n",
       "      <td>NEAR OCEAN</td>\n",
       "    </tr>\n",
       "    <tr>\n",
       "      <td>16043</td>\n",
       "      <td>-122.47</td>\n",
       "      <td>37.72</td>\n",
       "      <td>49.0</td>\n",
       "      <td>1690.0</td>\n",
       "      <td>307.0</td>\n",
       "      <td>770.0</td>\n",
       "      <td>294.0</td>\n",
       "      <td>4.5913</td>\n",
       "      <td>259700.0</td>\n",
       "      <td>NEAR OCEAN</td>\n",
       "    </tr>\n",
       "    <tr>\n",
       "      <td>2466</td>\n",
       "      <td>-119.84</td>\n",
       "      <td>36.54</td>\n",
       "      <td>19.0</td>\n",
       "      <td>1310.0</td>\n",
       "      <td>241.0</td>\n",
       "      <td>702.0</td>\n",
       "      <td>217.0</td>\n",
       "      <td>2.4375</td>\n",
       "      <td>78200.0</td>\n",
       "      <td>INLAND</td>\n",
       "    </tr>\n",
       "    <tr>\n",
       "      <td>3624</td>\n",
       "      <td>-118.44</td>\n",
       "      <td>34.25</td>\n",
       "      <td>33.0</td>\n",
       "      <td>1121.0</td>\n",
       "      <td>231.0</td>\n",
       "      <td>1038.0</td>\n",
       "      <td>236.0</td>\n",
       "      <td>4.8958</td>\n",
       "      <td>173700.0</td>\n",
       "      <td>&lt;1H OCEAN</td>\n",
       "    </tr>\n",
       "  </tbody>\n",
       "</table>\n",
       "</div>"
      ],
      "text/plain": [
       "       longitude  latitude  housing_median_age  total_rooms  total_bedrooms  \\\n",
       "14280    -117.13     32.71                42.0       1145.0           314.0   \n",
       "17095    -122.24     37.47                36.0       2021.0           433.0   \n",
       "16043    -122.47     37.72                49.0       1690.0           307.0   \n",
       "2466     -119.84     36.54                19.0       1310.0           241.0   \n",
       "3624     -118.44     34.25                33.0       1121.0           231.0   \n",
       "\n",
       "       population  households  median_income  median_house_value  \\\n",
       "14280      1114.0       307.0         1.2614             87500.0   \n",
       "17095      1117.0       432.0         3.9290            303100.0   \n",
       "16043       770.0       294.0         4.5913            259700.0   \n",
       "2466        702.0       217.0         2.4375             78200.0   \n",
       "3624       1038.0       236.0         4.8958            173700.0   \n",
       "\n",
       "      ocean_proximity  \n",
       "14280      NEAR OCEAN  \n",
       "17095      NEAR OCEAN  \n",
       "16043      NEAR OCEAN  \n",
       "2466           INLAND  \n",
       "3624        <1H OCEAN  "
      ]
     },
     "execution_count": 4,
     "metadata": {},
     "output_type": "execute_result"
    }
   ],
   "source": [
    "calif_hsng_df.sample(5)"
   ]
  },
  {
   "cell_type": "code",
   "execution_count": 5,
   "metadata": {},
   "outputs": [
    {
     "data": {
      "text/plain": [
       "(20640, 10)"
      ]
     },
     "execution_count": 5,
     "metadata": {},
     "output_type": "execute_result"
    }
   ],
   "source": [
    "calif_hsng_df.shape"
   ]
  },
  {
   "cell_type": "code",
   "execution_count": 6,
   "metadata": {},
   "outputs": [
    {
     "data": {
      "text/plain": [
       "Index(['longitude', 'latitude', 'housing_median_age', 'total_rooms',\n",
       "       'total_bedrooms', 'population', 'households', 'median_income',\n",
       "       'median_house_value', 'ocean_proximity'],\n",
       "      dtype='object')"
      ]
     },
     "execution_count": 6,
     "metadata": {},
     "output_type": "execute_result"
    }
   ],
   "source": [
    "calif_hsng_df.columns"
   ]
  },
  {
   "cell_type": "code",
   "execution_count": 7,
   "metadata": {},
   "outputs": [
    {
     "name": "stdout",
     "output_type": "stream",
     "text": [
      "<class 'pandas.core.frame.DataFrame'>\n",
      "RangeIndex: 20640 entries, 0 to 20639\n",
      "Data columns (total 10 columns):\n",
      "longitude             20640 non-null float64\n",
      "latitude              20640 non-null float64\n",
      "housing_median_age    20640 non-null float64\n",
      "total_rooms           20640 non-null float64\n",
      "total_bedrooms        20433 non-null float64\n",
      "population            20640 non-null float64\n",
      "households            20640 non-null float64\n",
      "median_income         20640 non-null float64\n",
      "median_house_value    20640 non-null float64\n",
      "ocean_proximity       20640 non-null object\n",
      "dtypes: float64(9), object(1)\n",
      "memory usage: 1.6+ MB\n"
     ]
    }
   ],
   "source": [
    "calif_hsng_df.info()"
   ]
  },
  {
   "cell_type": "code",
   "execution_count": 8,
   "metadata": {},
   "outputs": [
    {
     "data": {
      "text/plain": [
       "longitude               0\n",
       "latitude                0\n",
       "housing_median_age      0\n",
       "total_rooms             0\n",
       "total_bedrooms        207\n",
       "population              0\n",
       "households              0\n",
       "median_income           0\n",
       "median_house_value      0\n",
       "ocean_proximity         0\n",
       "dtype: int64"
      ]
     },
     "execution_count": 8,
     "metadata": {},
     "output_type": "execute_result"
    }
   ],
   "source": [
    "calif_hsng_df.isna().sum()"
   ]
  },
  {
   "cell_type": "code",
   "execution_count": 9,
   "metadata": {},
   "outputs": [],
   "source": [
    "calif_hsng_df.dropna(inplace=True)"
   ]
  },
  {
   "cell_type": "code",
   "execution_count": 10,
   "metadata": {},
   "outputs": [
    {
     "data": {
      "text/plain": [
       "longitude             0\n",
       "latitude              0\n",
       "housing_median_age    0\n",
       "total_rooms           0\n",
       "total_bedrooms        0\n",
       "population            0\n",
       "households            0\n",
       "median_income         0\n",
       "median_house_value    0\n",
       "ocean_proximity       0\n",
       "dtype: int64"
      ]
     },
     "execution_count": 10,
     "metadata": {},
     "output_type": "execute_result"
    }
   ],
   "source": [
    "calif_hsng_df.isna().sum()"
   ]
  },
  {
   "cell_type": "code",
   "execution_count": 11,
   "metadata": {},
   "outputs": [
    {
     "data": {
      "text/html": [
       "<div>\n",
       "<style scoped>\n",
       "    .dataframe tbody tr th:only-of-type {\n",
       "        vertical-align: middle;\n",
       "    }\n",
       "\n",
       "    .dataframe tbody tr th {\n",
       "        vertical-align: top;\n",
       "    }\n",
       "\n",
       "    .dataframe thead th {\n",
       "        text-align: right;\n",
       "    }\n",
       "</style>\n",
       "<table border=\"1\" class=\"dataframe\">\n",
       "  <thead>\n",
       "    <tr style=\"text-align: right;\">\n",
       "      <th></th>\n",
       "      <th>longitude</th>\n",
       "      <th>latitude</th>\n",
       "      <th>housing_median_age</th>\n",
       "      <th>total_rooms</th>\n",
       "      <th>total_bedrooms</th>\n",
       "      <th>population</th>\n",
       "      <th>households</th>\n",
       "      <th>median_income</th>\n",
       "      <th>median_house_value</th>\n",
       "    </tr>\n",
       "  </thead>\n",
       "  <tbody>\n",
       "    <tr>\n",
       "      <td>count</td>\n",
       "      <td>20433.000000</td>\n",
       "      <td>20433.000000</td>\n",
       "      <td>20433.000000</td>\n",
       "      <td>20433.000000</td>\n",
       "      <td>20433.000000</td>\n",
       "      <td>20433.000000</td>\n",
       "      <td>20433.000000</td>\n",
       "      <td>20433.000000</td>\n",
       "      <td>20433.000000</td>\n",
       "    </tr>\n",
       "    <tr>\n",
       "      <td>mean</td>\n",
       "      <td>-119.570689</td>\n",
       "      <td>35.633221</td>\n",
       "      <td>28.633094</td>\n",
       "      <td>2636.504233</td>\n",
       "      <td>537.870553</td>\n",
       "      <td>1424.946949</td>\n",
       "      <td>499.433465</td>\n",
       "      <td>3.871162</td>\n",
       "      <td>206864.413155</td>\n",
       "    </tr>\n",
       "    <tr>\n",
       "      <td>std</td>\n",
       "      <td>2.003578</td>\n",
       "      <td>2.136348</td>\n",
       "      <td>12.591805</td>\n",
       "      <td>2185.269567</td>\n",
       "      <td>421.385070</td>\n",
       "      <td>1133.208490</td>\n",
       "      <td>382.299226</td>\n",
       "      <td>1.899291</td>\n",
       "      <td>115435.667099</td>\n",
       "    </tr>\n",
       "    <tr>\n",
       "      <td>min</td>\n",
       "      <td>-124.350000</td>\n",
       "      <td>32.540000</td>\n",
       "      <td>1.000000</td>\n",
       "      <td>2.000000</td>\n",
       "      <td>1.000000</td>\n",
       "      <td>3.000000</td>\n",
       "      <td>1.000000</td>\n",
       "      <td>0.499900</td>\n",
       "      <td>14999.000000</td>\n",
       "    </tr>\n",
       "    <tr>\n",
       "      <td>25%</td>\n",
       "      <td>-121.800000</td>\n",
       "      <td>33.930000</td>\n",
       "      <td>18.000000</td>\n",
       "      <td>1450.000000</td>\n",
       "      <td>296.000000</td>\n",
       "      <td>787.000000</td>\n",
       "      <td>280.000000</td>\n",
       "      <td>2.563700</td>\n",
       "      <td>119500.000000</td>\n",
       "    </tr>\n",
       "    <tr>\n",
       "      <td>50%</td>\n",
       "      <td>-118.490000</td>\n",
       "      <td>34.260000</td>\n",
       "      <td>29.000000</td>\n",
       "      <td>2127.000000</td>\n",
       "      <td>435.000000</td>\n",
       "      <td>1166.000000</td>\n",
       "      <td>409.000000</td>\n",
       "      <td>3.536500</td>\n",
       "      <td>179700.000000</td>\n",
       "    </tr>\n",
       "    <tr>\n",
       "      <td>75%</td>\n",
       "      <td>-118.010000</td>\n",
       "      <td>37.720000</td>\n",
       "      <td>37.000000</td>\n",
       "      <td>3143.000000</td>\n",
       "      <td>647.000000</td>\n",
       "      <td>1722.000000</td>\n",
       "      <td>604.000000</td>\n",
       "      <td>4.744000</td>\n",
       "      <td>264700.000000</td>\n",
       "    </tr>\n",
       "    <tr>\n",
       "      <td>max</td>\n",
       "      <td>-114.310000</td>\n",
       "      <td>41.950000</td>\n",
       "      <td>52.000000</td>\n",
       "      <td>39320.000000</td>\n",
       "      <td>6445.000000</td>\n",
       "      <td>35682.000000</td>\n",
       "      <td>6082.000000</td>\n",
       "      <td>15.000100</td>\n",
       "      <td>500001.000000</td>\n",
       "    </tr>\n",
       "  </tbody>\n",
       "</table>\n",
       "</div>"
      ],
      "text/plain": [
       "          longitude      latitude  housing_median_age   total_rooms  \\\n",
       "count  20433.000000  20433.000000        20433.000000  20433.000000   \n",
       "mean    -119.570689     35.633221           28.633094   2636.504233   \n",
       "std        2.003578      2.136348           12.591805   2185.269567   \n",
       "min     -124.350000     32.540000            1.000000      2.000000   \n",
       "25%     -121.800000     33.930000           18.000000   1450.000000   \n",
       "50%     -118.490000     34.260000           29.000000   2127.000000   \n",
       "75%     -118.010000     37.720000           37.000000   3143.000000   \n",
       "max     -114.310000     41.950000           52.000000  39320.000000   \n",
       "\n",
       "       total_bedrooms    population    households  median_income  \\\n",
       "count    20433.000000  20433.000000  20433.000000   20433.000000   \n",
       "mean       537.870553   1424.946949    499.433465       3.871162   \n",
       "std        421.385070   1133.208490    382.299226       1.899291   \n",
       "min          1.000000      3.000000      1.000000       0.499900   \n",
       "25%        296.000000    787.000000    280.000000       2.563700   \n",
       "50%        435.000000   1166.000000    409.000000       3.536500   \n",
       "75%        647.000000   1722.000000    604.000000       4.744000   \n",
       "max       6445.000000  35682.000000   6082.000000      15.000100   \n",
       "\n",
       "       median_house_value  \n",
       "count        20433.000000  \n",
       "mean        206864.413155  \n",
       "std         115435.667099  \n",
       "min          14999.000000  \n",
       "25%         119500.000000  \n",
       "50%         179700.000000  \n",
       "75%         264700.000000  \n",
       "max         500001.000000  "
      ]
     },
     "execution_count": 11,
     "metadata": {},
     "output_type": "execute_result"
    }
   ],
   "source": [
    "calif_hsng_df.describe()"
   ]
  },
  {
   "cell_type": "markdown",
   "metadata": {},
   "source": [
    "Here ,\n",
    "\n",
    "- the avg age of a house in california is 28\n",
    "\n",
    "- the max age of a house in california is 52\n",
    "\n",
    "Also\n",
    "\n",
    "-- the avg price of a house in california is $206864.\n",
    "\n",
    "-- the min price of a house in california is $14999    \n",
    "\n",
    "-- the max price of a house in california is $500001 / seems a bit strange to have one in the dataset -check"
   ]
  },
  {
   "cell_type": "markdown",
   "metadata": {},
   "source": [
    "**** "
   ]
  },
  {
   "cell_type": "code",
   "execution_count": 12,
   "metadata": {},
   "outputs": [
    {
     "data": {
      "text/plain": [
       "array(['NEAR BAY', '<1H OCEAN', 'INLAND', 'NEAR OCEAN', 'ISLAND'],\n",
       "      dtype=object)"
      ]
     },
     "execution_count": 12,
     "metadata": {},
     "output_type": "execute_result"
    }
   ],
   "source": [
    "calif_hsng_df['ocean_proximity'].unique()"
   ]
  },
  {
   "cell_type": "markdown",
   "metadata": {},
   "source": [
    "shows how far a house is from the ocean. Housing prices can vary based on this data. Check"
   ]
  },
  {
   "cell_type": "markdown",
   "metadata": {},
   "source": [
    "**** "
   ]
  },
  {
   "cell_type": "code",
   "execution_count": null,
   "metadata": {},
   "outputs": [],
   "source": []
  },
  {
   "cell_type": "markdown",
   "metadata": {},
   "source": [
    "**** "
   ]
  },
  {
   "cell_type": "markdown",
   "metadata": {},
   "source": [
    "plotting scatter plots for pairwise relationships allows us to view the impact of certain features on house value.    "
   ]
  },
  {
   "cell_type": "code",
   "execution_count": 13,
   "metadata": {},
   "outputs": [
    {
     "data": {
      "image/png": "[encoded data removed]",
      "text/plain": [
       "<Figure size 1080x576 with 1 Axes>"
      ]
     },
     "metadata": {
      "needs_background": "light"
     },
     "output_type": "display_data"
    }
   ],
   "source": [
    "fig, ax = plt.subplots(figsize = (15,8))\n",
    "\n",
    "plt.scatter(calif_hsng_df['total_rooms'],calif_hsng_df['median_house_value'])\n",
    "\n",
    "plt.xlabel(\"Total Rooms\")\n",
    "plt.ylabel(\"Median house price\")\n",
    "\n",
    "plt.title(\"Total Rooms vs House Price\")\n",
    "\n",
    "plt.show()"
   ]
  },
  {
   "cell_type": "markdown",
   "metadata": {},
   "source": [
    "there is some sort of relation here that is kindoff tilted upwards and shows that as the no of rooms increases, the price also increases .\n",
    "\n",
    "Also notice the cluster at the very top exactly at $500,000. There is a group of points indicating some sort of cap.\n"
   ]
  },
  {
   "cell_type": "code",
   "execution_count": 14,
   "metadata": {},
   "outputs": [
    {
     "data": {
      "image/png": "[encoded data removed]",
      "text/plain": [
       "<Figure size 1080x576 with 1 Axes>"
      ]
     },
     "metadata": {
      "needs_background": "light"
     },
     "output_type": "display_data"
    }
   ],
   "source": [
    "fig, ax = plt.subplots(figsize = (15,8))\n",
    "\n",
    "plt.scatter(calif_hsng_df['housing_median_age'],calif_hsng_df['median_house_value'])\n",
    "\n",
    "plt.xlabel(\"Median house age\")\n",
    "plt.ylabel(\"Median house price\")\n",
    "\n",
    "plt.title(\"Age of Houses vs House Price\")\n",
    "\n",
    "plt.show()"
   ]
  },
  {
   "cell_type": "markdown",
   "metadata": {},
   "source": [
    "its hard to discern any patterns here. Its possible that older the houses are,the cheaper they are. May be its possible that, older houses have better locations.    \n",
    "\n",
    "There is another clustering of points at age 52. Once again 52 seems like some sort of cap for age of a house."
   ]
  },
  {
   "cell_type": "code",
   "execution_count": 15,
   "metadata": {},
   "outputs": [
    {
     "data": {
      "image/png": "[encoded data removed]",
      "text/plain": [
       "<Figure size 1080x576 with 1 Axes>"
      ]
     },
     "metadata": {
      "needs_background": "light"
     },
     "output_type": "display_data"
    }
   ],
   "source": [
    "fig, ax = plt.subplots(figsize = (15,8))\n",
    "\n",
    "plt.scatter(calif_hsng_df['median_income']*1000,calif_hsng_df['median_house_value'])\n",
    "\n",
    "plt.xlabel(\"Median income of household\")\n",
    "plt.ylabel(\"Median house price\")\n",
    "\n",
    "plt.title(\"Median income vs House Price\")\n",
    "\n",
    "plt.show()"
   ]
  },
  {
   "cell_type": "markdown",
   "metadata": {},
   "source": [
    "Clear Upward flow showing a positive relationship b/w income and house prices. \n",
    "\n",
    "Here also house prices have a capping around $500,000."
   ]
  },
  {
   "cell_type": "markdown",
   "metadata": {},
   "source": [
    "**** "
   ]
  },
  {
   "cell_type": "markdown",
   "metadata": {},
   "source": [
    "But its also possible that our features has some sort of interplay bw themselves i.e some kind of correlation. \n",
    "\n",
    "To view the correlation on the features we can use corr() method"
   ]
  },
  {
   "cell_type": "code",
   "execution_count": 16,
   "metadata": {},
   "outputs": [
    {
     "data": {
      "text/html": [
       "<div>\n",
       "<style scoped>\n",
       "    .dataframe tbody tr th:only-of-type {\n",
       "        vertical-align: middle;\n",
       "    }\n",
       "\n",
       "    .dataframe tbody tr th {\n",
       "        vertical-align: top;\n",
       "    }\n",
       "\n",
       "    .dataframe thead th {\n",
       "        text-align: right;\n",
       "    }\n",
       "</style>\n",
       "<table border=\"1\" class=\"dataframe\">\n",
       "  <thead>\n",
       "    <tr style=\"text-align: right;\">\n",
       "      <th></th>\n",
       "      <th>longitude</th>\n",
       "      <th>latitude</th>\n",
       "      <th>housing_median_age</th>\n",
       "      <th>total_rooms</th>\n",
       "      <th>total_bedrooms</th>\n",
       "      <th>population</th>\n",
       "      <th>households</th>\n",
       "      <th>median_income</th>\n",
       "      <th>median_house_value</th>\n",
       "    </tr>\n",
       "  </thead>\n",
       "  <tbody>\n",
       "    <tr>\n",
       "      <td>longitude</td>\n",
       "      <td>1.000000</td>\n",
       "      <td>-0.924616</td>\n",
       "      <td>-0.109357</td>\n",
       "      <td>0.045480</td>\n",
       "      <td>0.069608</td>\n",
       "      <td>0.100270</td>\n",
       "      <td>0.056513</td>\n",
       "      <td>-0.015550</td>\n",
       "      <td>-0.045398</td>\n",
       "    </tr>\n",
       "    <tr>\n",
       "      <td>latitude</td>\n",
       "      <td>-0.924616</td>\n",
       "      <td>1.000000</td>\n",
       "      <td>0.011899</td>\n",
       "      <td>-0.036667</td>\n",
       "      <td>-0.066983</td>\n",
       "      <td>-0.108997</td>\n",
       "      <td>-0.071774</td>\n",
       "      <td>-0.079626</td>\n",
       "      <td>-0.144638</td>\n",
       "    </tr>\n",
       "    <tr>\n",
       "      <td>housing_median_age</td>\n",
       "      <td>-0.109357</td>\n",
       "      <td>0.011899</td>\n",
       "      <td>1.000000</td>\n",
       "      <td>-0.360628</td>\n",
       "      <td>-0.320451</td>\n",
       "      <td>-0.295787</td>\n",
       "      <td>-0.302768</td>\n",
       "      <td>-0.118278</td>\n",
       "      <td>0.106432</td>\n",
       "    </tr>\n",
       "    <tr>\n",
       "      <td>total_rooms</td>\n",
       "      <td>0.045480</td>\n",
       "      <td>-0.036667</td>\n",
       "      <td>-0.360628</td>\n",
       "      <td>1.000000</td>\n",
       "      <td>0.930380</td>\n",
       "      <td>0.857281</td>\n",
       "      <td>0.918992</td>\n",
       "      <td>0.197882</td>\n",
       "      <td>0.133294</td>\n",
       "    </tr>\n",
       "    <tr>\n",
       "      <td>total_bedrooms</td>\n",
       "      <td>0.069608</td>\n",
       "      <td>-0.066983</td>\n",
       "      <td>-0.320451</td>\n",
       "      <td>0.930380</td>\n",
       "      <td>1.000000</td>\n",
       "      <td>0.877747</td>\n",
       "      <td>0.979728</td>\n",
       "      <td>-0.007723</td>\n",
       "      <td>0.049686</td>\n",
       "    </tr>\n",
       "    <tr>\n",
       "      <td>population</td>\n",
       "      <td>0.100270</td>\n",
       "      <td>-0.108997</td>\n",
       "      <td>-0.295787</td>\n",
       "      <td>0.857281</td>\n",
       "      <td>0.877747</td>\n",
       "      <td>1.000000</td>\n",
       "      <td>0.907186</td>\n",
       "      <td>0.005087</td>\n",
       "      <td>-0.025300</td>\n",
       "    </tr>\n",
       "    <tr>\n",
       "      <td>households</td>\n",
       "      <td>0.056513</td>\n",
       "      <td>-0.071774</td>\n",
       "      <td>-0.302768</td>\n",
       "      <td>0.918992</td>\n",
       "      <td>0.979728</td>\n",
       "      <td>0.907186</td>\n",
       "      <td>1.000000</td>\n",
       "      <td>0.013434</td>\n",
       "      <td>0.064894</td>\n",
       "    </tr>\n",
       "    <tr>\n",
       "      <td>median_income</td>\n",
       "      <td>-0.015550</td>\n",
       "      <td>-0.079626</td>\n",
       "      <td>-0.118278</td>\n",
       "      <td>0.197882</td>\n",
       "      <td>-0.007723</td>\n",
       "      <td>0.005087</td>\n",
       "      <td>0.013434</td>\n",
       "      <td>1.000000</td>\n",
       "      <td>0.688355</td>\n",
       "    </tr>\n",
       "    <tr>\n",
       "      <td>median_house_value</td>\n",
       "      <td>-0.045398</td>\n",
       "      <td>-0.144638</td>\n",
       "      <td>0.106432</td>\n",
       "      <td>0.133294</td>\n",
       "      <td>0.049686</td>\n",
       "      <td>-0.025300</td>\n",
       "      <td>0.064894</td>\n",
       "      <td>0.688355</td>\n",
       "      <td>1.000000</td>\n",
       "    </tr>\n",
       "  </tbody>\n",
       "</table>\n",
       "</div>"
      ],
      "text/plain": [
       "                    longitude  latitude  housing_median_age  total_rooms  \\\n",
       "longitude            1.000000 -0.924616           -0.109357     0.045480   \n",
       "latitude            -0.924616  1.000000            0.011899    -0.036667   \n",
       "housing_median_age  -0.109357  0.011899            1.000000    -0.360628   \n",
       "total_rooms          0.045480 -0.036667           -0.360628     1.000000   \n",
       "total_bedrooms       0.069608 -0.066983           -0.320451     0.930380   \n",
       "population           0.100270 -0.108997           -0.295787     0.857281   \n",
       "households           0.056513 -0.071774           -0.302768     0.918992   \n",
       "median_income       -0.015550 -0.079626           -0.118278     0.197882   \n",
       "median_house_value  -0.045398 -0.144638            0.106432     0.133294   \n",
       "\n",
       "                    total_bedrooms  population  households  median_income  \\\n",
       "longitude                 0.069608    0.100270    0.056513      -0.015550   \n",
       "latitude                 -0.066983   -0.108997   -0.071774      -0.079626   \n",
       "housing_median_age       -0.320451   -0.295787   -0.302768      -0.118278   \n",
       "total_rooms               0.930380    0.857281    0.918992       0.197882   \n",
       "total_bedrooms            1.000000    0.877747    0.979728      -0.007723   \n",
       "population                0.877747    1.000000    0.907186       0.005087   \n",
       "households                0.979728    0.907186    1.000000       0.013434   \n",
       "median_income            -0.007723    0.005087    0.013434       1.000000   \n",
       "median_house_value        0.049686   -0.025300    0.064894       0.688355   \n",
       "\n",
       "                    median_house_value  \n",
       "longitude                    -0.045398  \n",
       "latitude                     -0.144638  \n",
       "housing_median_age            0.106432  \n",
       "total_rooms                   0.133294  \n",
       "total_bedrooms                0.049686  \n",
       "population                   -0.025300  \n",
       "households                    0.064894  \n",
       "median_income                 0.688355  \n",
       "median_house_value            1.000000  "
      ]
     },
     "execution_count": 16,
     "metadata": {},
     "output_type": "execute_result"
    }
   ],
   "source": [
    "correlation = calif_hsng_df.corr()\n",
    "correlation"
   ]
  },
  {
   "cell_type": "code",
   "execution_count": 17,
   "metadata": {},
   "outputs": [
    {
     "data": {
      "text/plain": [
       "(20433, 10)"
      ]
     },
     "execution_count": 17,
     "metadata": {},
     "output_type": "execute_result"
    }
   ],
   "source": [
    "calif_hsng_df.shape"
   ]
  },
  {
   "cell_type": "markdown",
   "metadata": {},
   "source": [
    "correlation is the measure that indiactes the extend to which two or more variables fluctuate together"
   ]
  },
  {
   "cell_type": "markdown",
   "metadata": {},
   "source": [
    "the median_income &  median_house_value has a correlation of 0.68 which means they are positively correlated"
   ]
  },
  {
   "cell_type": "markdown",
   "metadata": {},
   "source": [
    "also we can see that total_rooms is slightly positively correlated with median_house_value. "
   ]
  },
  {
   "cell_type": "markdown",
   "metadata": {},
   "source": [
    "This kindoff means that median_income is a better predictor of median_house_value as compared to total_rooms."
   ]
  },
  {
   "cell_type": "markdown",
   "metadata": {},
   "source": [
    "Rather than relying on raw numbers, correlation can be best visualized using heatmaps"
   ]
  },
  {
   "cell_type": "code",
   "execution_count": 18,
   "metadata": {},
   "outputs": [
    {
     "data": {
      "image/png": "[encoded data removed]",
      "text/plain": [
       "<Figure size 1080x720 with 2 Axes>"
      ]
     },
     "metadata": {
      "needs_background": "light"
     },
     "output_type": "display_data"
    }
   ],
   "source": [
    "fig, ax = plt.subplots(figsize = (15,10))\n",
    "sns.heatmap(correlation,annot =True)\n",
    "ax.set_ylim(sorted(ax.get_xlim(), reverse=True))\n",
    "plt.show()"
   ]
  },
  {
   "cell_type": "markdown",
   "metadata": {},
   "source": [
    "now,from the scatter plots we have seen no. of points clustered around the top indicating some sort of upper bound clustering or cap at $500000. lets explore this."
   ]
  },
  {
   "cell_type": "markdown",
   "metadata": {},
   "source": [
    "We also noticed that the highest value associated with a particular house was $500,001."
   ]
  },
  {
   "cell_type": "code",
   "execution_count": 19,
   "metadata": {},
   "outputs": [
    {
     "data": {
      "text/html": [
       "<div>\n",
       "<style scoped>\n",
       "    .dataframe tbody tr th:only-of-type {\n",
       "        vertical-align: middle;\n",
       "    }\n",
       "\n",
       "    .dataframe tbody tr th {\n",
       "        vertical-align: top;\n",
       "    }\n",
       "\n",
       "    .dataframe thead th {\n",
       "        text-align: right;\n",
       "    }\n",
       "</style>\n",
       "<table border=\"1\" class=\"dataframe\">\n",
       "  <thead>\n",
       "    <tr style=\"text-align: right;\">\n",
       "      <th></th>\n",
       "      <th>longitude</th>\n",
       "      <th>latitude</th>\n",
       "      <th>housing_median_age</th>\n",
       "      <th>total_rooms</th>\n",
       "      <th>total_bedrooms</th>\n",
       "      <th>population</th>\n",
       "      <th>households</th>\n",
       "      <th>median_income</th>\n",
       "      <th>median_house_value</th>\n",
       "      <th>ocean_proximity</th>\n",
       "    </tr>\n",
       "  </thead>\n",
       "  <tbody>\n",
       "    <tr>\n",
       "      <td>89</td>\n",
       "      <td>-122.27</td>\n",
       "      <td>37.80</td>\n",
       "      <td>52.0</td>\n",
       "      <td>249.0</td>\n",
       "      <td>78.0</td>\n",
       "      <td>396.0</td>\n",
       "      <td>85.0</td>\n",
       "      <td>1.2434</td>\n",
       "      <td>500001.0</td>\n",
       "      <td>NEAR BAY</td>\n",
       "    </tr>\n",
       "    <tr>\n",
       "      <td>459</td>\n",
       "      <td>-122.25</td>\n",
       "      <td>37.87</td>\n",
       "      <td>52.0</td>\n",
       "      <td>609.0</td>\n",
       "      <td>236.0</td>\n",
       "      <td>1349.0</td>\n",
       "      <td>250.0</td>\n",
       "      <td>1.1696</td>\n",
       "      <td>500001.0</td>\n",
       "      <td>NEAR BAY</td>\n",
       "    </tr>\n",
       "    <tr>\n",
       "      <td>493</td>\n",
       "      <td>-122.24</td>\n",
       "      <td>37.86</td>\n",
       "      <td>52.0</td>\n",
       "      <td>1668.0</td>\n",
       "      <td>225.0</td>\n",
       "      <td>517.0</td>\n",
       "      <td>214.0</td>\n",
       "      <td>7.8521</td>\n",
       "      <td>500001.0</td>\n",
       "      <td>NEAR BAY</td>\n",
       "    </tr>\n",
       "    <tr>\n",
       "      <td>494</td>\n",
       "      <td>-122.24</td>\n",
       "      <td>37.85</td>\n",
       "      <td>52.0</td>\n",
       "      <td>3726.0</td>\n",
       "      <td>474.0</td>\n",
       "      <td>1366.0</td>\n",
       "      <td>496.0</td>\n",
       "      <td>9.3959</td>\n",
       "      <td>500001.0</td>\n",
       "      <td>NEAR BAY</td>\n",
       "    </tr>\n",
       "    <tr>\n",
       "      <td>509</td>\n",
       "      <td>-122.23</td>\n",
       "      <td>37.83</td>\n",
       "      <td>52.0</td>\n",
       "      <td>2990.0</td>\n",
       "      <td>379.0</td>\n",
       "      <td>947.0</td>\n",
       "      <td>361.0</td>\n",
       "      <td>7.8772</td>\n",
       "      <td>500001.0</td>\n",
       "      <td>NEAR BAY</td>\n",
       "    </tr>\n",
       "    <tr>\n",
       "      <td>...</td>\n",
       "      <td>...</td>\n",
       "      <td>...</td>\n",
       "      <td>...</td>\n",
       "      <td>...</td>\n",
       "      <td>...</td>\n",
       "      <td>...</td>\n",
       "      <td>...</td>\n",
       "      <td>...</td>\n",
       "      <td>...</td>\n",
       "      <td>...</td>\n",
       "    </tr>\n",
       "    <tr>\n",
       "      <td>20422</td>\n",
       "      <td>-118.90</td>\n",
       "      <td>34.14</td>\n",
       "      <td>35.0</td>\n",
       "      <td>1503.0</td>\n",
       "      <td>263.0</td>\n",
       "      <td>576.0</td>\n",
       "      <td>216.0</td>\n",
       "      <td>5.1457</td>\n",
       "      <td>500001.0</td>\n",
       "      <td>&lt;1H OCEAN</td>\n",
       "    </tr>\n",
       "    <tr>\n",
       "      <td>20426</td>\n",
       "      <td>-118.69</td>\n",
       "      <td>34.18</td>\n",
       "      <td>11.0</td>\n",
       "      <td>1177.0</td>\n",
       "      <td>138.0</td>\n",
       "      <td>415.0</td>\n",
       "      <td>119.0</td>\n",
       "      <td>10.0472</td>\n",
       "      <td>500001.0</td>\n",
       "      <td>&lt;1H OCEAN</td>\n",
       "    </tr>\n",
       "    <tr>\n",
       "      <td>20427</td>\n",
       "      <td>-118.80</td>\n",
       "      <td>34.19</td>\n",
       "      <td>4.0</td>\n",
       "      <td>15572.0</td>\n",
       "      <td>2222.0</td>\n",
       "      <td>5495.0</td>\n",
       "      <td>2152.0</td>\n",
       "      <td>8.6499</td>\n",
       "      <td>500001.0</td>\n",
       "      <td>&lt;1H OCEAN</td>\n",
       "    </tr>\n",
       "    <tr>\n",
       "      <td>20436</td>\n",
       "      <td>-118.69</td>\n",
       "      <td>34.21</td>\n",
       "      <td>10.0</td>\n",
       "      <td>3663.0</td>\n",
       "      <td>409.0</td>\n",
       "      <td>1179.0</td>\n",
       "      <td>371.0</td>\n",
       "      <td>12.5420</td>\n",
       "      <td>500001.0</td>\n",
       "      <td>&lt;1H OCEAN</td>\n",
       "    </tr>\n",
       "    <tr>\n",
       "      <td>20443</td>\n",
       "      <td>-118.85</td>\n",
       "      <td>34.27</td>\n",
       "      <td>50.0</td>\n",
       "      <td>187.0</td>\n",
       "      <td>33.0</td>\n",
       "      <td>130.0</td>\n",
       "      <td>35.0</td>\n",
       "      <td>3.3438</td>\n",
       "      <td>500001.0</td>\n",
       "      <td>&lt;1H OCEAN</td>\n",
       "    </tr>\n",
       "  </tbody>\n",
       "</table>\n",
       "<p>958 rows × 10 columns</p>\n",
       "</div>"
      ],
      "text/plain": [
       "       longitude  latitude  housing_median_age  total_rooms  total_bedrooms  \\\n",
       "89       -122.27     37.80                52.0        249.0            78.0   \n",
       "459      -122.25     37.87                52.0        609.0           236.0   \n",
       "493      -122.24     37.86                52.0       1668.0           225.0   \n",
       "494      -122.24     37.85                52.0       3726.0           474.0   \n",
       "509      -122.23     37.83                52.0       2990.0           379.0   \n",
       "...          ...       ...                 ...          ...             ...   \n",
       "20422    -118.90     34.14                35.0       1503.0           263.0   \n",
       "20426    -118.69     34.18                11.0       1177.0           138.0   \n",
       "20427    -118.80     34.19                 4.0      15572.0          2222.0   \n",
       "20436    -118.69     34.21                10.0       3663.0           409.0   \n",
       "20443    -118.85     34.27                50.0        187.0            33.0   \n",
       "\n",
       "       population  households  median_income  median_house_value  \\\n",
       "89          396.0        85.0         1.2434            500001.0   \n",
       "459        1349.0       250.0         1.1696            500001.0   \n",
       "493         517.0       214.0         7.8521            500001.0   \n",
       "494        1366.0       496.0         9.3959            500001.0   \n",
       "509         947.0       361.0         7.8772            500001.0   \n",
       "...           ...         ...            ...                 ...   \n",
       "20422       576.0       216.0         5.1457            500001.0   \n",
       "20426       415.0       119.0        10.0472            500001.0   \n",
       "20427      5495.0      2152.0         8.6499            500001.0   \n",
       "20436      1179.0       371.0        12.5420            500001.0   \n",
       "20443       130.0        35.0         3.3438            500001.0   \n",
       "\n",
       "      ocean_proximity  \n",
       "89           NEAR BAY  \n",
       "459          NEAR BAY  \n",
       "493          NEAR BAY  \n",
       "494          NEAR BAY  \n",
       "509          NEAR BAY  \n",
       "...               ...  \n",
       "20422       <1H OCEAN  \n",
       "20426       <1H OCEAN  \n",
       "20427       <1H OCEAN  \n",
       "20436       <1H OCEAN  \n",
       "20443       <1H OCEAN  \n",
       "\n",
       "[958 rows x 10 columns]"
      ]
     },
     "execution_count": 19,
     "metadata": {},
     "output_type": "execute_result"
    }
   ],
   "source": [
    "calif_hsng_df.loc[calif_hsng_df['median_house_value']== 500001]"
   ]
  },
  {
   "cell_type": "markdown",
   "metadata": {},
   "source": [
    "Nearly 958 out 20000 rows are at this upper cap. Now something like can skew the training of the machine learning model.\n",
    "\n",
    "So its best to drop these records from our dataset.\n",
    "\n",
    "If you are working with skewed datasets where you have lots of points clustered around a single class or a single values, there are techniques to employ for resolving this. \n",
    "\n",
    "For this example. i am removing it."
   ]
  },
  {
   "cell_type": "code",
   "execution_count": 20,
   "metadata": {},
   "outputs": [],
   "source": [
    "calif_hsng_df = calif_hsng_df.drop(calif_hsng_df.loc[calif_hsng_df['median_house_value']== 500001].index)\n",
    "# calif_hsng_df.loc[calif_hsng_df['median_house_value']== 500001] # check"
   ]
  },
  {
   "cell_type": "markdown",
   "metadata": {},
   "source": [
    "Now we can make use of this dataeset to create our ML model.\n",
    "\n"
   ]
  },
  {
   "cell_type": "code",
   "execution_count": 21,
   "metadata": {},
   "outputs": [
    {
     "data": {
      "text/plain": [
       "(19475, 10)"
      ]
     },
     "execution_count": 21,
     "metadata": {},
     "output_type": "execute_result"
    }
   ],
   "source": [
    "calif_hsng_df.shape"
   ]
  },
  {
   "cell_type": "code",
   "execution_count": 22,
   "metadata": {},
   "outputs": [
    {
     "data": {
      "text/html": [
       "<div>\n",
       "<style scoped>\n",
       "    .dataframe tbody tr th:only-of-type {\n",
       "        vertical-align: middle;\n",
       "    }\n",
       "\n",
       "    .dataframe tbody tr th {\n",
       "        vertical-align: top;\n",
       "    }\n",
       "\n",
       "    .dataframe thead th {\n",
       "        text-align: right;\n",
       "    }\n",
       "</style>\n",
       "<table border=\"1\" class=\"dataframe\">\n",
       "  <thead>\n",
       "    <tr style=\"text-align: right;\">\n",
       "      <th></th>\n",
       "      <th>longitude</th>\n",
       "      <th>latitude</th>\n",
       "      <th>housing_median_age</th>\n",
       "      <th>total_rooms</th>\n",
       "      <th>total_bedrooms</th>\n",
       "      <th>population</th>\n",
       "      <th>households</th>\n",
       "      <th>median_income</th>\n",
       "      <th>median_house_value</th>\n",
       "      <th>ocean_proximity</th>\n",
       "    </tr>\n",
       "  </thead>\n",
       "  <tbody>\n",
       "    <tr>\n",
       "      <td>0</td>\n",
       "      <td>-122.23</td>\n",
       "      <td>37.88</td>\n",
       "      <td>41.0</td>\n",
       "      <td>880.0</td>\n",
       "      <td>129.0</td>\n",
       "      <td>322.0</td>\n",
       "      <td>126.0</td>\n",
       "      <td>8.3252</td>\n",
       "      <td>452600.0</td>\n",
       "      <td>NEAR BAY</td>\n",
       "    </tr>\n",
       "    <tr>\n",
       "      <td>1</td>\n",
       "      <td>-122.22</td>\n",
       "      <td>37.86</td>\n",
       "      <td>21.0</td>\n",
       "      <td>7099.0</td>\n",
       "      <td>1106.0</td>\n",
       "      <td>2401.0</td>\n",
       "      <td>1138.0</td>\n",
       "      <td>8.3014</td>\n",
       "      <td>358500.0</td>\n",
       "      <td>NEAR BAY</td>\n",
       "    </tr>\n",
       "    <tr>\n",
       "      <td>2</td>\n",
       "      <td>-122.24</td>\n",
       "      <td>37.85</td>\n",
       "      <td>52.0</td>\n",
       "      <td>1467.0</td>\n",
       "      <td>190.0</td>\n",
       "      <td>496.0</td>\n",
       "      <td>177.0</td>\n",
       "      <td>7.2574</td>\n",
       "      <td>352100.0</td>\n",
       "      <td>NEAR BAY</td>\n",
       "    </tr>\n",
       "    <tr>\n",
       "      <td>3</td>\n",
       "      <td>-122.25</td>\n",
       "      <td>37.85</td>\n",
       "      <td>52.0</td>\n",
       "      <td>1274.0</td>\n",
       "      <td>235.0</td>\n",
       "      <td>558.0</td>\n",
       "      <td>219.0</td>\n",
       "      <td>5.6431</td>\n",
       "      <td>341300.0</td>\n",
       "      <td>NEAR BAY</td>\n",
       "    </tr>\n",
       "    <tr>\n",
       "      <td>4</td>\n",
       "      <td>-122.25</td>\n",
       "      <td>37.85</td>\n",
       "      <td>52.0</td>\n",
       "      <td>1627.0</td>\n",
       "      <td>280.0</td>\n",
       "      <td>565.0</td>\n",
       "      <td>259.0</td>\n",
       "      <td>3.8462</td>\n",
       "      <td>342200.0</td>\n",
       "      <td>NEAR BAY</td>\n",
       "    </tr>\n",
       "  </tbody>\n",
       "</table>\n",
       "</div>"
      ],
      "text/plain": [
       "   longitude  latitude  housing_median_age  total_rooms  total_bedrooms  \\\n",
       "0    -122.23     37.88                41.0        880.0           129.0   \n",
       "1    -122.22     37.86                21.0       7099.0          1106.0   \n",
       "2    -122.24     37.85                52.0       1467.0           190.0   \n",
       "3    -122.25     37.85                52.0       1274.0           235.0   \n",
       "4    -122.25     37.85                52.0       1627.0           280.0   \n",
       "\n",
       "   population  households  median_income  median_house_value ocean_proximity  \n",
       "0       322.0       126.0         8.3252            452600.0        NEAR BAY  \n",
       "1      2401.0      1138.0         8.3014            358500.0        NEAR BAY  \n",
       "2       496.0       177.0         7.2574            352100.0        NEAR BAY  \n",
       "3       558.0       219.0         5.6431            341300.0        NEAR BAY  \n",
       "4       565.0       259.0         3.8462            342200.0        NEAR BAY  "
      ]
     },
     "execution_count": 22,
     "metadata": {},
     "output_type": "execute_result"
    }
   ],
   "source": [
    "calif_hsng_df.head()"
   ]
  },
  {
   "cell_type": "markdown",
   "metadata": {},
   "source": [
    "All of the features in our dtaset are numeric values except for ocean_proximity column.\n",
    "\n",
    "This column contains categorical or discrete values.\n",
    "\n",
    "ML models can only work with numeric values. If you have categorical or discrete values in your dtaset represented as string , we have to convert it to numeric form. there are several ways to get this done. The most common one is one hot encoding."
   ]
  },
  {
   "cell_type": "markdown",
   "metadata": {},
   "source": [
    "To do one hot encoding we can make use of getdummies function in pandas library. It will convert ocean_proximity column to one hot form and will remove the original one."
   ]
  },
  {
   "cell_type": "code",
   "execution_count": 23,
   "metadata": {},
   "outputs": [],
   "source": [
    "calif_hsng_df = pd.get_dummies(calif_hsng_df,columns = [\"ocean_proximity\"])"
   ]
  },
  {
   "cell_type": "code",
   "execution_count": 24,
   "metadata": {},
   "outputs": [
    {
     "data": {
      "text/html": [
       "<div>\n",
       "<style scoped>\n",
       "    .dataframe tbody tr th:only-of-type {\n",
       "        vertical-align: middle;\n",
       "    }\n",
       "\n",
       "    .dataframe tbody tr th {\n",
       "        vertical-align: top;\n",
       "    }\n",
       "\n",
       "    .dataframe thead th {\n",
       "        text-align: right;\n",
       "    }\n",
       "</style>\n",
       "<table border=\"1\" class=\"dataframe\">\n",
       "  <thead>\n",
       "    <tr style=\"text-align: right;\">\n",
       "      <th></th>\n",
       "      <th>longitude</th>\n",
       "      <th>latitude</th>\n",
       "      <th>housing_median_age</th>\n",
       "      <th>total_rooms</th>\n",
       "      <th>total_bedrooms</th>\n",
       "      <th>population</th>\n",
       "      <th>households</th>\n",
       "      <th>median_income</th>\n",
       "      <th>median_house_value</th>\n",
       "      <th>ocean_proximity_&lt;1H OCEAN</th>\n",
       "      <th>ocean_proximity_INLAND</th>\n",
       "      <th>ocean_proximity_ISLAND</th>\n",
       "      <th>ocean_proximity_NEAR BAY</th>\n",
       "      <th>ocean_proximity_NEAR OCEAN</th>\n",
       "    </tr>\n",
       "  </thead>\n",
       "  <tbody>\n",
       "    <tr>\n",
       "      <td>0</td>\n",
       "      <td>-122.23</td>\n",
       "      <td>37.88</td>\n",
       "      <td>41.0</td>\n",
       "      <td>880.0</td>\n",
       "      <td>129.0</td>\n",
       "      <td>322.0</td>\n",
       "      <td>126.0</td>\n",
       "      <td>8.3252</td>\n",
       "      <td>452600.0</td>\n",
       "      <td>0</td>\n",
       "      <td>0</td>\n",
       "      <td>0</td>\n",
       "      <td>1</td>\n",
       "      <td>0</td>\n",
       "    </tr>\n",
       "    <tr>\n",
       "      <td>1</td>\n",
       "      <td>-122.22</td>\n",
       "      <td>37.86</td>\n",
       "      <td>21.0</td>\n",
       "      <td>7099.0</td>\n",
       "      <td>1106.0</td>\n",
       "      <td>2401.0</td>\n",
       "      <td>1138.0</td>\n",
       "      <td>8.3014</td>\n",
       "      <td>358500.0</td>\n",
       "      <td>0</td>\n",
       "      <td>0</td>\n",
       "      <td>0</td>\n",
       "      <td>1</td>\n",
       "      <td>0</td>\n",
       "    </tr>\n",
       "    <tr>\n",
       "      <td>2</td>\n",
       "      <td>-122.24</td>\n",
       "      <td>37.85</td>\n",
       "      <td>52.0</td>\n",
       "      <td>1467.0</td>\n",
       "      <td>190.0</td>\n",
       "      <td>496.0</td>\n",
       "      <td>177.0</td>\n",
       "      <td>7.2574</td>\n",
       "      <td>352100.0</td>\n",
       "      <td>0</td>\n",
       "      <td>0</td>\n",
       "      <td>0</td>\n",
       "      <td>1</td>\n",
       "      <td>0</td>\n",
       "    </tr>\n",
       "    <tr>\n",
       "      <td>3</td>\n",
       "      <td>-122.25</td>\n",
       "      <td>37.85</td>\n",
       "      <td>52.0</td>\n",
       "      <td>1274.0</td>\n",
       "      <td>235.0</td>\n",
       "      <td>558.0</td>\n",
       "      <td>219.0</td>\n",
       "      <td>5.6431</td>\n",
       "      <td>341300.0</td>\n",
       "      <td>0</td>\n",
       "      <td>0</td>\n",
       "      <td>0</td>\n",
       "      <td>1</td>\n",
       "      <td>0</td>\n",
       "    </tr>\n",
       "    <tr>\n",
       "      <td>4</td>\n",
       "      <td>-122.25</td>\n",
       "      <td>37.85</td>\n",
       "      <td>52.0</td>\n",
       "      <td>1627.0</td>\n",
       "      <td>280.0</td>\n",
       "      <td>565.0</td>\n",
       "      <td>259.0</td>\n",
       "      <td>3.8462</td>\n",
       "      <td>342200.0</td>\n",
       "      <td>0</td>\n",
       "      <td>0</td>\n",
       "      <td>0</td>\n",
       "      <td>1</td>\n",
       "      <td>0</td>\n",
       "    </tr>\n",
       "  </tbody>\n",
       "</table>\n",
       "</div>"
      ],
      "text/plain": [
       "   longitude  latitude  housing_median_age  total_rooms  total_bedrooms  \\\n",
       "0    -122.23     37.88                41.0        880.0           129.0   \n",
       "1    -122.22     37.86                21.0       7099.0          1106.0   \n",
       "2    -122.24     37.85                52.0       1467.0           190.0   \n",
       "3    -122.25     37.85                52.0       1274.0           235.0   \n",
       "4    -122.25     37.85                52.0       1627.0           280.0   \n",
       "\n",
       "   population  households  median_income  median_house_value  \\\n",
       "0       322.0       126.0         8.3252            452600.0   \n",
       "1      2401.0      1138.0         8.3014            358500.0   \n",
       "2       496.0       177.0         7.2574            352100.0   \n",
       "3       558.0       219.0         5.6431            341300.0   \n",
       "4       565.0       259.0         3.8462            342200.0   \n",
       "\n",
       "   ocean_proximity_<1H OCEAN  ocean_proximity_INLAND  ocean_proximity_ISLAND  \\\n",
       "0                          0                       0                       0   \n",
       "1                          0                       0                       0   \n",
       "2                          0                       0                       0   \n",
       "3                          0                       0                       0   \n",
       "4                          0                       0                       0   \n",
       "\n",
       "   ocean_proximity_NEAR BAY  ocean_proximity_NEAR OCEAN  \n",
       "0                         1                           0  \n",
       "1                         1                           0  \n",
       "2                         1                           0  \n",
       "3                         1                           0  \n",
       "4                         1                           0  "
      ]
     },
     "execution_count": 24,
     "metadata": {},
     "output_type": "execute_result"
    }
   ],
   "source": [
    "calif_hsng_df.head()"
   ]
  },
  {
   "cell_type": "code",
   "execution_count": 25,
   "metadata": {},
   "outputs": [
    {
     "data": {
      "text/plain": [
       "(19475, 14)"
      ]
     },
     "execution_count": 25,
     "metadata": {},
     "output_type": "execute_result"
    }
   ],
   "source": [
    "calif_hsng_df.shape # now we have 14 columns"
   ]
  },
  {
   "cell_type": "markdown",
   "metadata": {},
   "source": [
    "Having converted all of our features into right form to feed into our ML model, we can now setup the features and targe for our model."
   ]
  },
  {
   "cell_type": "markdown",
   "metadata": {},
   "source": [
    "The X values are features that we use to train our ML model.\n",
    "\n",
    "The Y values are our predictions."
   ]
  },
  {
   "cell_type": "markdown",
   "metadata": {},
   "source": [
    "X values are all of of our input columns except the median house value.\n",
    "\n",
    "Lets create X datframe by dropping the house value column. "
   ]
  },
  {
   "cell_type": "code",
   "execution_count": 26,
   "metadata": {},
   "outputs": [],
   "source": [
    "X = calif_hsng_df.drop('median_house_value',axis = 1)"
   ]
  },
  {
   "cell_type": "code",
   "execution_count": 27,
   "metadata": {},
   "outputs": [],
   "source": [
    "Y = calif_hsng_df['median_house_value']"
   ]
  },
  {
   "cell_type": "markdown",
   "metadata": {},
   "source": [
    "Y values or target of our ML model are what we want to predict using ML algorithm."
   ]
  },
  {
   "cell_type": "markdown",
   "metadata": {},
   "source": [
    "These are the actual Y values that we will use in the training phase."
   ]
  },
  {
   "cell_type": "markdown",
   "metadata": {},
   "source": [
    "median houese value is the target that we w'll use to train our model."
   ]
  },
  {
   "cell_type": "code",
   "execution_count": 28,
   "metadata": {},
   "outputs": [
    {
     "data": {
      "text/plain": [
       "Index(['longitude', 'latitude', 'housing_median_age', 'total_rooms',\n",
       "       'total_bedrooms', 'population', 'households', 'median_income',\n",
       "       'ocean_proximity_<1H OCEAN', 'ocean_proximity_INLAND',\n",
       "       'ocean_proximity_ISLAND', 'ocean_proximity_NEAR BAY',\n",
       "       'ocean_proximity_NEAR OCEAN'],\n",
       "      dtype='object')"
      ]
     },
     "execution_count": 28,
     "metadata": {},
     "output_type": "execute_result"
    }
   ],
   "source": [
    "X.columns"
   ]
  },
  {
   "cell_type": "markdown",
   "metadata": {},
   "source": [
    "When you are using data to train your ML model, it is a common practice to split your data into training set and test set.\n"
   ]
  },
  {
   "cell_type": "markdown",
   "metadata": {},
   "source": [
    "Training sets is used to train your model parameters."
   ]
  },
  {
   "cell_type": "markdown",
   "metadata": {},
   "source": [
    "Test set is small a portion of original dtaset that we'll hold out that we wont let our model see during the training phase."
   ]
  },
  {
   "cell_type": "markdown",
   "metadata": {},
   "source": [
    "Test data is used to measure how well your trained model performs on unseen instances."
   ]
  },
  {
   "cell_type": "markdown",
   "metadata": {},
   "source": [
    "Test_train function in scikit learn library can be used for this."
   ]
  },
  {
   "cell_type": "code",
   "execution_count": 29,
   "metadata": {},
   "outputs": [],
   "source": [
    "from sklearn.model_selection import train_test_split"
   ]
  },
  {
   "cell_type": "code",
   "execution_count": 30,
   "metadata": {},
   "outputs": [],
   "source": [
    "x_train,x_test,y_train,y_test = train_test_split(X,Y,test_size = 0.2)"
   ]
  },
  {
   "cell_type": "code",
   "execution_count": 31,
   "metadata": {},
   "outputs": [
    {
     "data": {
      "text/html": [
       "<div>\n",
       "<style scoped>\n",
       "    .dataframe tbody tr th:only-of-type {\n",
       "        vertical-align: middle;\n",
       "    }\n",
       "\n",
       "    .dataframe tbody tr th {\n",
       "        vertical-align: top;\n",
       "    }\n",
       "\n",
       "    .dataframe thead th {\n",
       "        text-align: right;\n",
       "    }\n",
       "</style>\n",
       "<table border=\"1\" class=\"dataframe\">\n",
       "  <thead>\n",
       "    <tr style=\"text-align: right;\">\n",
       "      <th></th>\n",
       "      <th>longitude</th>\n",
       "      <th>latitude</th>\n",
       "      <th>housing_median_age</th>\n",
       "      <th>total_rooms</th>\n",
       "      <th>total_bedrooms</th>\n",
       "      <th>population</th>\n",
       "      <th>households</th>\n",
       "      <th>median_income</th>\n",
       "      <th>ocean_proximity_&lt;1H OCEAN</th>\n",
       "      <th>ocean_proximity_INLAND</th>\n",
       "      <th>ocean_proximity_ISLAND</th>\n",
       "      <th>ocean_proximity_NEAR BAY</th>\n",
       "      <th>ocean_proximity_NEAR OCEAN</th>\n",
       "    </tr>\n",
       "  </thead>\n",
       "  <tbody>\n",
       "    <tr>\n",
       "      <td>5860</td>\n",
       "      <td>-118.33</td>\n",
       "      <td>34.18</td>\n",
       "      <td>49.0</td>\n",
       "      <td>1969.0</td>\n",
       "      <td>377.0</td>\n",
       "      <td>977.0</td>\n",
       "      <td>367.0</td>\n",
       "      <td>3.8462</td>\n",
       "      <td>1</td>\n",
       "      <td>0</td>\n",
       "      <td>0</td>\n",
       "      <td>0</td>\n",
       "      <td>0</td>\n",
       "    </tr>\n",
       "    <tr>\n",
       "      <td>14832</td>\n",
       "      <td>-117.09</td>\n",
       "      <td>32.67</td>\n",
       "      <td>31.0</td>\n",
       "      <td>2051.0</td>\n",
       "      <td>549.0</td>\n",
       "      <td>1581.0</td>\n",
       "      <td>538.0</td>\n",
       "      <td>2.0520</td>\n",
       "      <td>0</td>\n",
       "      <td>0</td>\n",
       "      <td>0</td>\n",
       "      <td>0</td>\n",
       "      <td>1</td>\n",
       "    </tr>\n",
       "    <tr>\n",
       "      <td>1015</td>\n",
       "      <td>-121.77</td>\n",
       "      <td>37.67</td>\n",
       "      <td>20.0</td>\n",
       "      <td>8068.0</td>\n",
       "      <td>1217.0</td>\n",
       "      <td>3489.0</td>\n",
       "      <td>1259.0</td>\n",
       "      <td>5.7907</td>\n",
       "      <td>0</td>\n",
       "      <td>1</td>\n",
       "      <td>0</td>\n",
       "      <td>0</td>\n",
       "      <td>0</td>\n",
       "    </tr>\n",
       "    <tr>\n",
       "      <td>10378</td>\n",
       "      <td>-117.64</td>\n",
       "      <td>33.64</td>\n",
       "      <td>11.0</td>\n",
       "      <td>2422.0</td>\n",
       "      <td>429.0</td>\n",
       "      <td>810.0</td>\n",
       "      <td>395.0</td>\n",
       "      <td>6.1935</td>\n",
       "      <td>1</td>\n",
       "      <td>0</td>\n",
       "      <td>0</td>\n",
       "      <td>0</td>\n",
       "      <td>0</td>\n",
       "    </tr>\n",
       "    <tr>\n",
       "      <td>8360</td>\n",
       "      <td>-118.34</td>\n",
       "      <td>33.97</td>\n",
       "      <td>45.0</td>\n",
       "      <td>2230.0</td>\n",
       "      <td>364.0</td>\n",
       "      <td>949.0</td>\n",
       "      <td>344.0</td>\n",
       "      <td>5.5000</td>\n",
       "      <td>1</td>\n",
       "      <td>0</td>\n",
       "      <td>0</td>\n",
       "      <td>0</td>\n",
       "      <td>0</td>\n",
       "    </tr>\n",
       "    <tr>\n",
       "      <td>...</td>\n",
       "      <td>...</td>\n",
       "      <td>...</td>\n",
       "      <td>...</td>\n",
       "      <td>...</td>\n",
       "      <td>...</td>\n",
       "      <td>...</td>\n",
       "      <td>...</td>\n",
       "      <td>...</td>\n",
       "      <td>...</td>\n",
       "      <td>...</td>\n",
       "      <td>...</td>\n",
       "      <td>...</td>\n",
       "      <td>...</td>\n",
       "    </tr>\n",
       "    <tr>\n",
       "      <td>11821</td>\n",
       "      <td>-121.08</td>\n",
       "      <td>38.93</td>\n",
       "      <td>14.0</td>\n",
       "      <td>4239.0</td>\n",
       "      <td>824.0</td>\n",
       "      <td>1729.0</td>\n",
       "      <td>794.0</td>\n",
       "      <td>2.4278</td>\n",
       "      <td>0</td>\n",
       "      <td>1</td>\n",
       "      <td>0</td>\n",
       "      <td>0</td>\n",
       "      <td>0</td>\n",
       "    </tr>\n",
       "    <tr>\n",
       "      <td>12268</td>\n",
       "      <td>-116.86</td>\n",
       "      <td>33.73</td>\n",
       "      <td>13.0</td>\n",
       "      <td>2604.0</td>\n",
       "      <td>443.0</td>\n",
       "      <td>978.0</td>\n",
       "      <td>417.0</td>\n",
       "      <td>2.9330</td>\n",
       "      <td>0</td>\n",
       "      <td>1</td>\n",
       "      <td>0</td>\n",
       "      <td>0</td>\n",
       "      <td>0</td>\n",
       "    </tr>\n",
       "    <tr>\n",
       "      <td>10971</td>\n",
       "      <td>-117.86</td>\n",
       "      <td>33.76</td>\n",
       "      <td>34.0</td>\n",
       "      <td>3153.0</td>\n",
       "      <td>561.0</td>\n",
       "      <td>1679.0</td>\n",
       "      <td>532.0</td>\n",
       "      <td>4.7083</td>\n",
       "      <td>1</td>\n",
       "      <td>0</td>\n",
       "      <td>0</td>\n",
       "      <td>0</td>\n",
       "      <td>0</td>\n",
       "    </tr>\n",
       "    <tr>\n",
       "      <td>17798</td>\n",
       "      <td>-121.81</td>\n",
       "      <td>37.38</td>\n",
       "      <td>29.0</td>\n",
       "      <td>570.0</td>\n",
       "      <td>76.0</td>\n",
       "      <td>244.0</td>\n",
       "      <td>72.0</td>\n",
       "      <td>12.3292</td>\n",
       "      <td>1</td>\n",
       "      <td>0</td>\n",
       "      <td>0</td>\n",
       "      <td>0</td>\n",
       "      <td>0</td>\n",
       "    </tr>\n",
       "    <tr>\n",
       "      <td>15313</td>\n",
       "      <td>-117.37</td>\n",
       "      <td>33.20</td>\n",
       "      <td>19.0</td>\n",
       "      <td>928.0</td>\n",
       "      <td>317.0</td>\n",
       "      <td>845.0</td>\n",
       "      <td>319.0</td>\n",
       "      <td>1.6318</td>\n",
       "      <td>0</td>\n",
       "      <td>0</td>\n",
       "      <td>0</td>\n",
       "      <td>0</td>\n",
       "      <td>1</td>\n",
       "    </tr>\n",
       "  </tbody>\n",
       "</table>\n",
       "<p>15580 rows × 13 columns</p>\n",
       "</div>"
      ],
      "text/plain": [
       "       longitude  latitude  housing_median_age  total_rooms  total_bedrooms  \\\n",
       "5860     -118.33     34.18                49.0       1969.0           377.0   \n",
       "14832    -117.09     32.67                31.0       2051.0           549.0   \n",
       "1015     -121.77     37.67                20.0       8068.0          1217.0   \n",
       "10378    -117.64     33.64                11.0       2422.0           429.0   \n",
       "8360     -118.34     33.97                45.0       2230.0           364.0   \n",
       "...          ...       ...                 ...          ...             ...   \n",
       "11821    -121.08     38.93                14.0       4239.0           824.0   \n",
       "12268    -116.86     33.73                13.0       2604.0           443.0   \n",
       "10971    -117.86     33.76                34.0       3153.0           561.0   \n",
       "17798    -121.81     37.38                29.0        570.0            76.0   \n",
       "15313    -117.37     33.20                19.0        928.0           317.0   \n",
       "\n",
       "       population  households  median_income  ocean_proximity_<1H OCEAN  \\\n",
       "5860        977.0       367.0         3.8462                          1   \n",
       "14832      1581.0       538.0         2.0520                          0   \n",
       "1015       3489.0      1259.0         5.7907                          0   \n",
       "10378       810.0       395.0         6.1935                          1   \n",
       "8360        949.0       344.0         5.5000                          1   \n",
       "...           ...         ...            ...                        ...   \n",
       "11821      1729.0       794.0         2.4278                          0   \n",
       "12268       978.0       417.0         2.9330                          0   \n",
       "10971      1679.0       532.0         4.7083                          1   \n",
       "17798       244.0        72.0        12.3292                          1   \n",
       "15313       845.0       319.0         1.6318                          0   \n",
       "\n",
       "       ocean_proximity_INLAND  ocean_proximity_ISLAND  \\\n",
       "5860                        0                       0   \n",
       "14832                       0                       0   \n",
       "1015                        1                       0   \n",
       "10378                       0                       0   \n",
       "8360                        0                       0   \n",
       "...                       ...                     ...   \n",
       "11821                       1                       0   \n",
       "12268                       1                       0   \n",
       "10971                       0                       0   \n",
       "17798                       0                       0   \n",
       "15313                       0                       0   \n",
       "\n",
       "       ocean_proximity_NEAR BAY  ocean_proximity_NEAR OCEAN  \n",
       "5860                          0                           0  \n",
       "14832                         0                           1  \n",
       "1015                          0                           0  \n",
       "10378                         0                           0  \n",
       "8360                          0                           0  \n",
       "...                         ...                         ...  \n",
       "11821                         0                           0  \n",
       "12268                         0                           0  \n",
       "10971                         0                           0  \n",
       "17798                         0                           0  \n",
       "15313                         0                           1  \n",
       "\n",
       "[15580 rows x 13 columns]"
      ]
     },
     "metadata": {},
     "output_type": "display_data"
    },
    {
     "data": {
      "text/html": [
       "<div>\n",
       "<style scoped>\n",
       "    .dataframe tbody tr th:only-of-type {\n",
       "        vertical-align: middle;\n",
       "    }\n",
       "\n",
       "    .dataframe tbody tr th {\n",
       "        vertical-align: top;\n",
       "    }\n",
       "\n",
       "    .dataframe thead th {\n",
       "        text-align: right;\n",
       "    }\n",
       "</style>\n",
       "<table border=\"1\" class=\"dataframe\">\n",
       "  <thead>\n",
       "    <tr style=\"text-align: right;\">\n",
       "      <th></th>\n",
       "      <th>longitude</th>\n",
       "      <th>latitude</th>\n",
       "      <th>housing_median_age</th>\n",
       "      <th>total_rooms</th>\n",
       "      <th>total_bedrooms</th>\n",
       "      <th>population</th>\n",
       "      <th>households</th>\n",
       "      <th>median_income</th>\n",
       "      <th>ocean_proximity_&lt;1H OCEAN</th>\n",
       "      <th>ocean_proximity_INLAND</th>\n",
       "      <th>ocean_proximity_ISLAND</th>\n",
       "      <th>ocean_proximity_NEAR BAY</th>\n",
       "      <th>ocean_proximity_NEAR OCEAN</th>\n",
       "    </tr>\n",
       "  </thead>\n",
       "  <tbody>\n",
       "    <tr>\n",
       "      <td>12801</td>\n",
       "      <td>-121.46</td>\n",
       "      <td>38.62</td>\n",
       "      <td>35.0</td>\n",
       "      <td>3326.0</td>\n",
       "      <td>696.0</td>\n",
       "      <td>2511.0</td>\n",
       "      <td>649.0</td>\n",
       "      <td>1.9871</td>\n",
       "      <td>0</td>\n",
       "      <td>1</td>\n",
       "      <td>0</td>\n",
       "      <td>0</td>\n",
       "      <td>0</td>\n",
       "    </tr>\n",
       "    <tr>\n",
       "      <td>17079</td>\n",
       "      <td>-122.19</td>\n",
       "      <td>37.48</td>\n",
       "      <td>45.0</td>\n",
       "      <td>886.0</td>\n",
       "      <td>165.0</td>\n",
       "      <td>492.0</td>\n",
       "      <td>173.0</td>\n",
       "      <td>4.2708</td>\n",
       "      <td>0</td>\n",
       "      <td>0</td>\n",
       "      <td>0</td>\n",
       "      <td>1</td>\n",
       "      <td>0</td>\n",
       "    </tr>\n",
       "    <tr>\n",
       "      <td>447</td>\n",
       "      <td>-122.28</td>\n",
       "      <td>37.88</td>\n",
       "      <td>52.0</td>\n",
       "      <td>1909.0</td>\n",
       "      <td>416.0</td>\n",
       "      <td>811.0</td>\n",
       "      <td>406.0</td>\n",
       "      <td>3.0060</td>\n",
       "      <td>0</td>\n",
       "      <td>0</td>\n",
       "      <td>0</td>\n",
       "      <td>1</td>\n",
       "      <td>0</td>\n",
       "    </tr>\n",
       "    <tr>\n",
       "      <td>17133</td>\n",
       "      <td>-122.15</td>\n",
       "      <td>37.47</td>\n",
       "      <td>39.0</td>\n",
       "      <td>1295.0</td>\n",
       "      <td>239.0</td>\n",
       "      <td>566.0</td>\n",
       "      <td>242.0</td>\n",
       "      <td>5.6407</td>\n",
       "      <td>0</td>\n",
       "      <td>0</td>\n",
       "      <td>0</td>\n",
       "      <td>1</td>\n",
       "      <td>0</td>\n",
       "    </tr>\n",
       "    <tr>\n",
       "      <td>14161</td>\n",
       "      <td>-117.04</td>\n",
       "      <td>32.77</td>\n",
       "      <td>21.0</td>\n",
       "      <td>1824.0</td>\n",
       "      <td>447.0</td>\n",
       "      <td>962.0</td>\n",
       "      <td>431.0</td>\n",
       "      <td>2.7826</td>\n",
       "      <td>1</td>\n",
       "      <td>0</td>\n",
       "      <td>0</td>\n",
       "      <td>0</td>\n",
       "      <td>0</td>\n",
       "    </tr>\n",
       "    <tr>\n",
       "      <td>...</td>\n",
       "      <td>...</td>\n",
       "      <td>...</td>\n",
       "      <td>...</td>\n",
       "      <td>...</td>\n",
       "      <td>...</td>\n",
       "      <td>...</td>\n",
       "      <td>...</td>\n",
       "      <td>...</td>\n",
       "      <td>...</td>\n",
       "      <td>...</td>\n",
       "      <td>...</td>\n",
       "      <td>...</td>\n",
       "      <td>...</td>\n",
       "    </tr>\n",
       "    <tr>\n",
       "      <td>12790</td>\n",
       "      <td>-121.45</td>\n",
       "      <td>38.65</td>\n",
       "      <td>5.0</td>\n",
       "      <td>2680.0</td>\n",
       "      <td>502.0</td>\n",
       "      <td>1885.0</td>\n",
       "      <td>498.0</td>\n",
       "      <td>2.6369</td>\n",
       "      <td>0</td>\n",
       "      <td>1</td>\n",
       "      <td>0</td>\n",
       "      <td>0</td>\n",
       "      <td>0</td>\n",
       "    </tr>\n",
       "    <tr>\n",
       "      <td>11726</td>\n",
       "      <td>-120.02</td>\n",
       "      <td>39.24</td>\n",
       "      <td>24.0</td>\n",
       "      <td>1602.0</td>\n",
       "      <td>426.0</td>\n",
       "      <td>751.0</td>\n",
       "      <td>257.0</td>\n",
       "      <td>1.7609</td>\n",
       "      <td>0</td>\n",
       "      <td>1</td>\n",
       "      <td>0</td>\n",
       "      <td>0</td>\n",
       "      <td>0</td>\n",
       "    </tr>\n",
       "    <tr>\n",
       "      <td>5135</td>\n",
       "      <td>-118.26</td>\n",
       "      <td>33.97</td>\n",
       "      <td>46.0</td>\n",
       "      <td>1521.0</td>\n",
       "      <td>352.0</td>\n",
       "      <td>1100.0</td>\n",
       "      <td>334.0</td>\n",
       "      <td>1.5500</td>\n",
       "      <td>1</td>\n",
       "      <td>0</td>\n",
       "      <td>0</td>\n",
       "      <td>0</td>\n",
       "      <td>0</td>\n",
       "    </tr>\n",
       "    <tr>\n",
       "      <td>9666</td>\n",
       "      <td>-120.55</td>\n",
       "      <td>41.61</td>\n",
       "      <td>22.0</td>\n",
       "      <td>9047.0</td>\n",
       "      <td>1831.0</td>\n",
       "      <td>4276.0</td>\n",
       "      <td>1622.0</td>\n",
       "      <td>2.0802</td>\n",
       "      <td>0</td>\n",
       "      <td>1</td>\n",
       "      <td>0</td>\n",
       "      <td>0</td>\n",
       "      <td>0</td>\n",
       "    </tr>\n",
       "    <tr>\n",
       "      <td>12447</td>\n",
       "      <td>-114.49</td>\n",
       "      <td>33.97</td>\n",
       "      <td>17.0</td>\n",
       "      <td>2809.0</td>\n",
       "      <td>635.0</td>\n",
       "      <td>83.0</td>\n",
       "      <td>45.0</td>\n",
       "      <td>1.6154</td>\n",
       "      <td>0</td>\n",
       "      <td>1</td>\n",
       "      <td>0</td>\n",
       "      <td>0</td>\n",
       "      <td>0</td>\n",
       "    </tr>\n",
       "  </tbody>\n",
       "</table>\n",
       "<p>3895 rows × 13 columns</p>\n",
       "</div>"
      ],
      "text/plain": [
       "       longitude  latitude  housing_median_age  total_rooms  total_bedrooms  \\\n",
       "12801    -121.46     38.62                35.0       3326.0           696.0   \n",
       "17079    -122.19     37.48                45.0        886.0           165.0   \n",
       "447      -122.28     37.88                52.0       1909.0           416.0   \n",
       "17133    -122.15     37.47                39.0       1295.0           239.0   \n",
       "14161    -117.04     32.77                21.0       1824.0           447.0   \n",
       "...          ...       ...                 ...          ...             ...   \n",
       "12790    -121.45     38.65                 5.0       2680.0           502.0   \n",
       "11726    -120.02     39.24                24.0       1602.0           426.0   \n",
       "5135     -118.26     33.97                46.0       1521.0           352.0   \n",
       "9666     -120.55     41.61                22.0       9047.0          1831.0   \n",
       "12447    -114.49     33.97                17.0       2809.0           635.0   \n",
       "\n",
       "       population  households  median_income  ocean_proximity_<1H OCEAN  \\\n",
       "12801      2511.0       649.0         1.9871                          0   \n",
       "17079       492.0       173.0         4.2708                          0   \n",
       "447         811.0       406.0         3.0060                          0   \n",
       "17133       566.0       242.0         5.6407                          0   \n",
       "14161       962.0       431.0         2.7826                          1   \n",
       "...           ...         ...            ...                        ...   \n",
       "12790      1885.0       498.0         2.6369                          0   \n",
       "11726       751.0       257.0         1.7609                          0   \n",
       "5135       1100.0       334.0         1.5500                          1   \n",
       "9666       4276.0      1622.0         2.0802                          0   \n",
       "12447        83.0        45.0         1.6154                          0   \n",
       "\n",
       "       ocean_proximity_INLAND  ocean_proximity_ISLAND  \\\n",
       "12801                       1                       0   \n",
       "17079                       0                       0   \n",
       "447                         0                       0   \n",
       "17133                       0                       0   \n",
       "14161                       0                       0   \n",
       "...                       ...                     ...   \n",
       "12790                       1                       0   \n",
       "11726                       1                       0   \n",
       "5135                        0                       0   \n",
       "9666                        1                       0   \n",
       "12447                       1                       0   \n",
       "\n",
       "       ocean_proximity_NEAR BAY  ocean_proximity_NEAR OCEAN  \n",
       "12801                         0                           0  \n",
       "17079                         1                           0  \n",
       "447                           1                           0  \n",
       "17133                         1                           0  \n",
       "14161                         0                           0  \n",
       "...                         ...                         ...  \n",
       "12790                         0                           0  \n",
       "11726                         0                           0  \n",
       "5135                          0                           0  \n",
       "9666                          0                           0  \n",
       "12447                         0                           0  \n",
       "\n",
       "[3895 rows x 13 columns]"
      ]
     },
     "metadata": {},
     "output_type": "display_data"
    },
    {
     "data": {
      "text/plain": [
       "5860     231300.0\n",
       "14832    108900.0\n",
       "1015     264200.0\n",
       "10378    293200.0\n",
       "8360     188200.0\n",
       "           ...   \n",
       "11821    167700.0\n",
       "12268    170700.0\n",
       "10971    205300.0\n",
       "17798    416700.0\n",
       "15313    187500.0\n",
       "Name: median_house_value, Length: 15580, dtype: float64"
      ]
     },
     "metadata": {},
     "output_type": "display_data"
    },
    {
     "data": {
      "text/plain": [
       "12801     60900.0\n",
       "17079    267000.0\n",
       "447      227900.0\n",
       "17133    326400.0\n",
       "14161    143800.0\n",
       "           ...   \n",
       "12790    110000.0\n",
       "11726     99300.0\n",
       "5135     100600.0\n",
       "9666      47900.0\n",
       "12447     87500.0\n",
       "Name: median_house_value, Length: 3895, dtype: float64"
      ]
     },
     "metadata": {},
     "output_type": "display_data"
    }
   ],
   "source": [
    "display(x_train,x_test,y_train,y_test)"
   ]
  },
  {
   "cell_type": "markdown",
   "metadata": {},
   "source": [
    "Everything Looks fine here"
   ]
  },
  {
   "cell_type": "markdown",
   "metadata": {},
   "source": [
    "80-20 split is the recommended standard"
   ]
  },
  {
   "cell_type": "markdown",
   "metadata": {},
   "source": [
    "In addition to splitting the data, train_test_split() function will also shuffle the dataset."
   ]
  },
  {
   "cell_type": "markdown",
   "metadata": {},
   "source": [
    "Shuffling is an important step, coz otherwise, ML model will pickup inadvertent patterns in data"
   ]
  },
  {
   "cell_type": "code",
   "execution_count": 32,
   "metadata": {},
   "outputs": [
    {
     "data": {
      "text/plain": [
       "((15580, 13), (3895, 13))"
      ]
     },
     "execution_count": 32,
     "metadata": {},
     "output_type": "execute_result"
    }
   ],
   "source": [
    "x_train.shape,x_test.shape"
   ]
  },
  {
   "cell_type": "code",
   "execution_count": 33,
   "metadata": {},
   "outputs": [
    {
     "data": {
      "text/plain": [
       "((15580,), (3895,))"
      ]
     },
     "execution_count": 33,
     "metadata": {},
     "output_type": "execute_result"
    }
   ],
   "source": [
    "y_train.shape,y_test.shape"
   ]
  },
  {
   "cell_type": "markdown",
   "metadata": {},
   "source": [
    "Import linear regression estimator from sklearn.linear_model namespace"
   ]
  },
  {
   "cell_type": "code",
   "execution_count": 34,
   "metadata": {},
   "outputs": [],
   "source": [
    "from sklearn.linear_model import LinearRegression"
   ]
  },
  {
   "cell_type": "markdown",
   "metadata": {},
   "source": [
    "to perform linear regression, instantiate linear regression object"
   ]
  },
  {
   "cell_type": "code",
   "execution_count": 35,
   "metadata": {},
   "outputs": [],
   "source": [
    "linear_model = LinearRegression(normalize=True).fit(x_train,y_train)"
   ]
  },
  {
   "cell_type": "markdown",
   "metadata": {},
   "source": [
    "Normalization is a process used to scale all numeric values in our dataset so that their values are between 0 & 1."
   ]
  },
  {
   "cell_type": "markdown",
   "metadata": {},
   "source": [
    "Having all the features in same scale will improve your model performance"
   ]
  },
  {
   "cell_type": "markdown",
   "metadata": {},
   "source": [
    "Fit function is used to fit the linear model on the training data . i.e train the linear model using our features and target values"
   ]
  },
  {
   "cell_type": "markdown",
   "metadata": {},
   "source": [
    "Lets take alook at our training scoe : \n",
    "    "
   ]
  },
  {
   "cell_type": "code",
   "execution_count": 36,
   "metadata": {},
   "outputs": [
    {
     "name": "stdout",
     "output_type": "stream",
     "text": [
      "Training score : 0.6108882133881932\n"
     ]
    }
   ],
   "source": [
    "print(\"Training score : {}\".format(linear_model.score(x_train,y_train)))"
   ]
  },
  {
   "cell_type": "markdown",
   "metadata": {},
   "source": [
    "Score function allows you to evaluate the model."
   ]
  },
  {
   "cell_type": "markdown",
   "metadata": {},
   "source": [
    "training score is in terms of Rsquare."
   ]
  },
  {
   "cell_type": "markdown",
   "metadata": {},
   "source": [
    "R square is a measure of how well our model captures underlying variation in training data"
   ]
  },
  {
   "cell_type": "markdown",
   "metadata": {},
   "source": [
    "Here we are using R sqauared to calculate score as it is a regression problem"
   ]
  },
  {
   "cell_type": "markdown",
   "metadata": {},
   "source": [
    "This can change for other problems like classifcation"
   ]
  },
  {
   "cell_type": "markdown",
   "metadata": {},
   "source": [
    "A training score of 61 indicates that out model captured 61 % of variation in our training data"
   ]
  },
  {
   "cell_type": "markdown",
   "metadata": {},
   "source": [
    "61 isn't fantastic , but isn't too bad."
   ]
  },
  {
   "cell_type": "markdown",
   "metadata": {},
   "source": [
    "************* "
   ]
  },
  {
   "cell_type": "markdown",
   "metadata": {},
   "source": [
    "now lets assign a variable peredictor with all the features used to train our linear model. "
   ]
  },
  {
   "cell_type": "code",
   "execution_count": 37,
   "metadata": {},
   "outputs": [
    {
     "data": {
      "text/plain": [
       "Index(['longitude', 'latitude', 'housing_median_age', 'total_rooms',\n",
       "       'total_bedrooms', 'population', 'households', 'median_income',\n",
       "       'ocean_proximity_<1H OCEAN', 'ocean_proximity_INLAND',\n",
       "       'ocean_proximity_ISLAND', 'ocean_proximity_NEAR BAY',\n",
       "       'ocean_proximity_NEAR OCEAN'],\n",
       "      dtype='object')"
      ]
     },
     "execution_count": 37,
     "metadata": {},
     "output_type": "execute_result"
    }
   ],
   "source": [
    "predictors = x_train.columns\n",
    "predictors"
   ]
  },
  {
   "cell_type": "markdown",
   "metadata": {},
   "source": [
    "Formula to represent a linear model is of the form Y=mx+c ,\n",
    "\n",
    "- where x represents our features\n",
    "\n",
    "\n",
    "the linear model wud have calculated a co-efficient for each input feature in our datasets. Lets see the coefficients."
   ]
  },
  {
   "cell_type": "code",
   "execution_count": 38,
   "metadata": {},
   "outputs": [
    {
     "data": {
      "text/plain": [
       "ocean_proximity_INLAND        -25693.137246\n",
       "longitude                     -23679.634578\n",
       "latitude                      -21899.980960\n",
       "population                       -29.238117\n",
       "total_rooms                       -7.245965\n",
       "households                        44.090186\n",
       "total_bedrooms                    89.200559\n",
       "housing_median_age               930.051395\n",
       "ocean_proximity_NEAR BAY        7708.770963\n",
       "ocean_proximity_<1H OCEAN      12592.804460\n",
       "ocean_proximity_NEAR OCEAN     16944.569361\n",
       "median_income                  38545.931394\n",
       "ocean_proximity_ISLAND        196725.235449\n",
       "dtype: float64"
      ]
     },
     "execution_count": 38,
     "metadata": {},
     "output_type": "execute_result"
    }
   ],
   "source": [
    "coef = pd.Series(linear_model.coef_,predictors).sort_values()\n",
    "coef"
   ]
  },
  {
   "cell_type": "markdown",
   "metadata": {},
   "source": [
    "Above displays, each feature along with its corresponding co-efficient or weights.\n",
    "\n",
    "We can think of these co-efficients as a measure of how much a particular feature contributed to the prediction , \n",
    "\n",
    "Negative values indicate that these are the features that tend to lower the price of a house.\n",
    "\n",
    "Positive values says that these featues increases the price of a house.\n",
    "\n",
    "Feature with highest coefficient is ocean_proximity_ISLAND , indicating the most expensive houses in our dataset were located on an island."
   ]
  },
  {
   "cell_type": "markdown",
   "metadata": {},
   "source": [
    "Also higher the median income of population in that neighbourhood, housing prices go up and\n",
    "\n",
    "near the bay or ocean also has a positive effect."
   ]
  },
  {
   "cell_type": "markdown",
   "metadata": {},
   "source": [
    "Now we cam use our model to predict something. Lets use our model on test data."
   ]
  },
  {
   "cell_type": "code",
   "execution_count": 39,
   "metadata": {},
   "outputs": [],
   "source": [
    "y_predict = linear_model.predict(x_test)"
   ]
  },
  {
   "cell_type": "markdown",
   "metadata": {},
   "source": [
    "so now lets check how well our model predicted values."
   ]
  },
  {
   "cell_type": "code",
   "execution_count": 40,
   "metadata": {},
   "outputs": [],
   "source": [
    "df_pred_actual = pd.DataFrame({'Predicted':y_predict,'Actual':y_test})"
   ]
  },
  {
   "cell_type": "code",
   "execution_count": 41,
   "metadata": {},
   "outputs": [
    {
     "data": {
      "text/html": [
       "<div>\n",
       "<style scoped>\n",
       "    .dataframe tbody tr th:only-of-type {\n",
       "        vertical-align: middle;\n",
       "    }\n",
       "\n",
       "    .dataframe tbody tr th {\n",
       "        vertical-align: top;\n",
       "    }\n",
       "\n",
       "    .dataframe thead th {\n",
       "        text-align: right;\n",
       "    }\n",
       "</style>\n",
       "<table border=\"1\" class=\"dataframe\">\n",
       "  <thead>\n",
       "    <tr style=\"text-align: right;\">\n",
       "      <th></th>\n",
       "      <th>Predicted</th>\n",
       "      <th>Actual</th>\n",
       "    </tr>\n",
       "  </thead>\n",
       "  <tbody>\n",
       "    <tr>\n",
       "      <td>12801</td>\n",
       "      <td>71413.929373</td>\n",
       "      <td>60900.0</td>\n",
       "    </tr>\n",
       "    <tr>\n",
       "      <td>17079</td>\n",
       "      <td>252755.293840</td>\n",
       "      <td>267000.0</td>\n",
       "    </tr>\n",
       "    <tr>\n",
       "      <td>447</td>\n",
       "      <td>219806.706252</td>\n",
       "      <td>227900.0</td>\n",
       "    </tr>\n",
       "    <tr>\n",
       "      <td>17133</td>\n",
       "      <td>303766.715079</td>\n",
       "      <td>326400.0</td>\n",
       "    </tr>\n",
       "    <tr>\n",
       "      <td>14161</td>\n",
       "      <td>175144.026377</td>\n",
       "      <td>143800.0</td>\n",
       "    </tr>\n",
       "    <tr>\n",
       "      <td>9216</td>\n",
       "      <td>60312.960412</td>\n",
       "      <td>50500.0</td>\n",
       "    </tr>\n",
       "    <tr>\n",
       "      <td>16167</td>\n",
       "      <td>285368.845495</td>\n",
       "      <td>351100.0</td>\n",
       "    </tr>\n",
       "    <tr>\n",
       "      <td>183</td>\n",
       "      <td>186778.152467</td>\n",
       "      <td>123500.0</td>\n",
       "    </tr>\n",
       "    <tr>\n",
       "      <td>10420</td>\n",
       "      <td>311934.449202</td>\n",
       "      <td>402900.0</td>\n",
       "    </tr>\n",
       "    <tr>\n",
       "      <td>6761</td>\n",
       "      <td>181844.630202</td>\n",
       "      <td>197500.0</td>\n",
       "    </tr>\n",
       "    <tr>\n",
       "      <td>16615</td>\n",
       "      <td>243430.714922</td>\n",
       "      <td>278800.0</td>\n",
       "    </tr>\n",
       "    <tr>\n",
       "      <td>16420</td>\n",
       "      <td>184289.797420</td>\n",
       "      <td>162500.0</td>\n",
       "    </tr>\n",
       "    <tr>\n",
       "      <td>18425</td>\n",
       "      <td>246075.368135</td>\n",
       "      <td>213100.0</td>\n",
       "    </tr>\n",
       "    <tr>\n",
       "      <td>6235</td>\n",
       "      <td>238509.820987</td>\n",
       "      <td>191700.0</td>\n",
       "    </tr>\n",
       "    <tr>\n",
       "      <td>8073</td>\n",
       "      <td>260844.619024</td>\n",
       "      <td>268400.0</td>\n",
       "    </tr>\n",
       "    <tr>\n",
       "      <td>17603</td>\n",
       "      <td>257951.716596</td>\n",
       "      <td>274100.0</td>\n",
       "    </tr>\n",
       "    <tr>\n",
       "      <td>7552</td>\n",
       "      <td>173996.031053</td>\n",
       "      <td>128100.0</td>\n",
       "    </tr>\n",
       "    <tr>\n",
       "      <td>18091</td>\n",
       "      <td>352825.217785</td>\n",
       "      <td>485300.0</td>\n",
       "    </tr>\n",
       "    <tr>\n",
       "      <td>5467</td>\n",
       "      <td>232826.825547</td>\n",
       "      <td>412500.0</td>\n",
       "    </tr>\n",
       "    <tr>\n",
       "      <td>10082</td>\n",
       "      <td>116729.477888</td>\n",
       "      <td>198400.0</td>\n",
       "    </tr>\n",
       "  </tbody>\n",
       "</table>\n",
       "</div>"
      ],
      "text/plain": [
       "           Predicted    Actual\n",
       "12801   71413.929373   60900.0\n",
       "17079  252755.293840  267000.0\n",
       "447    219806.706252  227900.0\n",
       "17133  303766.715079  326400.0\n",
       "14161  175144.026377  143800.0\n",
       "9216    60312.960412   50500.0\n",
       "16167  285368.845495  351100.0\n",
       "183    186778.152467  123500.0\n",
       "10420  311934.449202  402900.0\n",
       "6761   181844.630202  197500.0\n",
       "16615  243430.714922  278800.0\n",
       "16420  184289.797420  162500.0\n",
       "18425  246075.368135  213100.0\n",
       "6235   238509.820987  191700.0\n",
       "8073   260844.619024  268400.0\n",
       "17603  257951.716596  274100.0\n",
       "7552   173996.031053  128100.0\n",
       "18091  352825.217785  485300.0\n",
       "5467   232826.825547  412500.0\n",
       "10082  116729.477888  198400.0"
      ]
     },
     "execution_count": 41,
     "metadata": {},
     "output_type": "execute_result"
    }
   ],
   "source": [
    "df_pred_actual.head(20)"
   ]
  },
  {
   "cell_type": "markdown",
   "metadata": {},
   "source": [
    "Predicted values are pretty close"
   ]
  },
  {
   "cell_type": "markdown",
   "metadata": {},
   "source": [
    "Sl_learn.metrics has several algorithms to calculate model score for different kinda odf algorithms"
   ]
  },
  {
   "cell_type": "markdown",
   "metadata": {},
   "source": [
    "Eyeballing the data is good when you want to double check your predictions.\n",
    "\n",
    "However, it is best to calculate rsquare score on your test data"
   ]
  },
  {
   "cell_type": "code",
   "execution_count": 42,
   "metadata": {},
   "outputs": [],
   "source": [
    "from sklearn.metrics import r2_score"
   ]
  },
  {
   "cell_type": "code",
   "execution_count": 43,
   "metadata": {},
   "outputs": [
    {
     "name": "stdout",
     "output_type": "stream",
     "text": [
      "Test Score :  0.6200621192148319\n"
     ]
    }
   ],
   "source": [
    "print(\"Test Score : \" , r2_score(y_test,y_predict))"
   ]
  },
  {
   "cell_type": "markdown",
   "metadata": {},
   "source": [
    "R2 score on test data is almost as good as it was on training instances. That means that your model performs as well as it performs on training data. "
   ]
  },
  {
   "cell_type": "markdown",
   "metadata": {},
   "source": [
    "Now lets use a scatter plot to display actual price vs predicted values."
   ]
  },
  {
   "cell_type": "code",
   "execution_count": 44,
   "metadata": {},
   "outputs": [
    {
     "data": {
      "image/png": "[encoded data removed]",
      "text/plain": [
       "<Figure size 1080x576 with 1 Axes>"
      ]
     },
     "metadata": {
      "needs_background": "light"
     },
     "output_type": "display_data"
    }
   ],
   "source": [
    "fig, ax = plt.subplots(figsize = (15,8))\n",
    "\n",
    "plt.scatter(y_test,y_predict)\n",
    "\n",
    "plt.title(\"Predicted vs Actual\")\n",
    "\n",
    "plt.show()"
   ]
  },
  {
   "cell_type": "markdown",
   "metadata": {},
   "source": [
    "Points are clustered together closely."
   ]
  },
  {
   "cell_type": "markdown",
   "metadata": {},
   "source": [
    "Lets randomly select some data points and plot them to understand better the model performance ."
   ]
  },
  {
   "cell_type": "code",
   "execution_count": 45,
   "metadata": {},
   "outputs": [],
   "source": [
    "df_pred_actual_samp = df_pred_actual.sample(100).reset_index().drop(columns = 'index')"
   ]
  },
  {
   "cell_type": "code",
   "execution_count": 46,
   "metadata": {},
   "outputs": [
    {
     "data": {
      "text/html": [
       "<div>\n",
       "<style scoped>\n",
       "    .dataframe tbody tr th:only-of-type {\n",
       "        vertical-align: middle;\n",
       "    }\n",
       "\n",
       "    .dataframe tbody tr th {\n",
       "        vertical-align: top;\n",
       "    }\n",
       "\n",
       "    .dataframe thead th {\n",
       "        text-align: right;\n",
       "    }\n",
       "</style>\n",
       "<table border=\"1\" class=\"dataframe\">\n",
       "  <thead>\n",
       "    <tr style=\"text-align: right;\">\n",
       "      <th></th>\n",
       "      <th>Predicted</th>\n",
       "      <th>Actual</th>\n",
       "    </tr>\n",
       "  </thead>\n",
       "  <tbody>\n",
       "    <tr>\n",
       "      <td>0</td>\n",
       "      <td>241592.045288</td>\n",
       "      <td>220000.0</td>\n",
       "    </tr>\n",
       "    <tr>\n",
       "      <td>1</td>\n",
       "      <td>318771.408063</td>\n",
       "      <td>286200.0</td>\n",
       "    </tr>\n",
       "    <tr>\n",
       "      <td>2</td>\n",
       "      <td>133484.742068</td>\n",
       "      <td>111000.0</td>\n",
       "    </tr>\n",
       "    <tr>\n",
       "      <td>3</td>\n",
       "      <td>309201.630907</td>\n",
       "      <td>356000.0</td>\n",
       "    </tr>\n",
       "    <tr>\n",
       "      <td>4</td>\n",
       "      <td>82538.825837</td>\n",
       "      <td>450000.0</td>\n",
       "    </tr>\n",
       "  </tbody>\n",
       "</table>\n",
       "</div>"
      ],
      "text/plain": [
       "       Predicted    Actual\n",
       "0  241592.045288  220000.0\n",
       "1  318771.408063  286200.0\n",
       "2  133484.742068  111000.0\n",
       "3  309201.630907  356000.0\n",
       "4   82538.825837  450000.0"
      ]
     },
     "execution_count": 46,
     "metadata": {},
     "output_type": "execute_result"
    }
   ],
   "source": [
    "df_pred_actual_samp.head()"
   ]
  },
  {
   "cell_type": "code",
   "execution_count": 47,
   "metadata": {},
   "outputs": [
    {
     "data": {
      "image/png": "[encoded data removed]",
      "text/plain": [
       "<Figure size 1080x576 with 1 Axes>"
      ]
     },
     "metadata": {
      "needs_background": "light"
     },
     "output_type": "display_data"
    }
   ],
   "source": [
    "fig, ax = plt.subplots(figsize = (15,8))\n",
    "\n",
    "plt.plot(df_pred_actual_samp['Predicted'], label = \"Predicted\")\n",
    "plt.plot(df_pred_actual_samp['Actual'], label = \"Actual\")\n",
    "\n",
    "plt.title(\"Predicted vs Actual\")\n",
    "plt.legend()\n",
    "plt.show()"
   ]
  },
  {
   "cell_type": "markdown",
   "metadata": {},
   "source": [
    "Not Fantastic But not Bad.....!!!!!"
   ]
  },
  {
   "cell_type": "code",
   "execution_count": null,
   "metadata": {},
   "outputs": [],
   "source": []
  }
 ],
 "metadata": {
  "kernelspec": {
   "display_name": "Python 3",
   "language": "python",
   "name": "python3"
  },
  "language_info": {
   "codemirror_mode": {
    "name": "ipython",
    "version": 3
   },
   "file_extension": ".py",
   "mimetype": "text/x-python",
   "name": "python",
   "nbconvert_exporter": "python",
   "pygments_lexer": "ipython3",
   "version": "3.7.4"
  }
 },
 "nbformat": 4,
 "nbformat_minor": 2
}
